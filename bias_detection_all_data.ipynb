{
 "cells": [
  {
   "cell_type": "code",
   "execution_count": 1,
   "metadata": {
    "collapsed": true
   },
   "outputs": [],
   "source": [
    "import warnings\n",
    "warnings.filterwarnings('ignore')"
   ]
  },
  {
   "cell_type": "code",
   "execution_count": 2,
   "outputs": [],
   "source": [
    "from model.preprocess import ACSIncomePreprocess\n",
    "from model.model import ACSIncomeModel"
   ],
   "metadata": {
    "collapsed": false
   }
  },
  {
   "cell_type": "code",
   "execution_count": 3,
   "outputs": [],
   "source": [
    "preprocess = ACSIncomePreprocess()\n",
    "model = ACSIncomeModel()"
   ],
   "metadata": {
    "collapsed": false
   }
  },
  {
   "cell_type": "markdown",
   "source": [
    "### ML Pipeline & Bias Metrics Calculation"
   ],
   "metadata": {
    "collapsed": false
   }
  },
  {
   "cell_type": "code",
   "execution_count": 4,
   "outputs": [],
   "source": [
    "train, test = preprocess.get_preprocessed_data()"
   ],
   "metadata": {
    "collapsed": false
   }
  },
  {
   "cell_type": "code",
   "execution_count": 5,
   "outputs": [
    {
     "data": {
      "text/plain": "   AGEP  SCHL   POBP  WKHP    ST  PINCP  COW_1.0  COW_2.0  COW_3.0  COW_4.0  \\\n0   0.0   1.0   39.0   1.0  39.0      0        1        0        0        0   \n1   1.0   7.0   18.0   2.0  26.0      0        1        0        0        0   \n2   2.0   2.0   36.0   2.0  36.0      1        1        0        0        0   \n3   1.0   6.0   33.0   1.0  13.0      1        1        0        0        0   \n4   1.0   2.0  333.0   1.0  12.0      0        0        1        0        0   \n\n   ...  RELP_12.0  RELP_13.0  RELP_14.0  RELP_15.0  RELP_16.0  RELP_17.0  \\\n0  ...          0          0          0          0          0          0   \n1  ...          0          0          0          0          0          0   \n2  ...          0          0          0          0          0          0   \n3  ...          0          0          0          0          0          0   \n4  ...          0          0          0          0          0          1   \n\n   RAC1P_White alone  RAC1P_others  SEX_Female  SEX_Male  \n0                  1             0           0         1  \n1                  1             0           1         0  \n2                  1             0           0         1  \n3                  1             0           0         1  \n4                  0             1           1         0  \n\n[5 rows x 570 columns]",
      "text/html": "<div>\n<style scoped>\n    .dataframe tbody tr th:only-of-type {\n        vertical-align: middle;\n    }\n\n    .dataframe tbody tr th {\n        vertical-align: top;\n    }\n\n    .dataframe thead th {\n        text-align: right;\n    }\n</style>\n<table border=\"1\" class=\"dataframe\">\n  <thead>\n    <tr style=\"text-align: right;\">\n      <th></th>\n      <th>AGEP</th>\n      <th>SCHL</th>\n      <th>POBP</th>\n      <th>WKHP</th>\n      <th>ST</th>\n      <th>PINCP</th>\n      <th>COW_1.0</th>\n      <th>COW_2.0</th>\n      <th>COW_3.0</th>\n      <th>COW_4.0</th>\n      <th>...</th>\n      <th>RELP_12.0</th>\n      <th>RELP_13.0</th>\n      <th>RELP_14.0</th>\n      <th>RELP_15.0</th>\n      <th>RELP_16.0</th>\n      <th>RELP_17.0</th>\n      <th>RAC1P_White alone</th>\n      <th>RAC1P_others</th>\n      <th>SEX_Female</th>\n      <th>SEX_Male</th>\n    </tr>\n  </thead>\n  <tbody>\n    <tr>\n      <th>0</th>\n      <td>0.0</td>\n      <td>1.0</td>\n      <td>39.0</td>\n      <td>1.0</td>\n      <td>39.0</td>\n      <td>0</td>\n      <td>1</td>\n      <td>0</td>\n      <td>0</td>\n      <td>0</td>\n      <td>...</td>\n      <td>0</td>\n      <td>0</td>\n      <td>0</td>\n      <td>0</td>\n      <td>0</td>\n      <td>0</td>\n      <td>1</td>\n      <td>0</td>\n      <td>0</td>\n      <td>1</td>\n    </tr>\n    <tr>\n      <th>1</th>\n      <td>1.0</td>\n      <td>7.0</td>\n      <td>18.0</td>\n      <td>2.0</td>\n      <td>26.0</td>\n      <td>0</td>\n      <td>1</td>\n      <td>0</td>\n      <td>0</td>\n      <td>0</td>\n      <td>...</td>\n      <td>0</td>\n      <td>0</td>\n      <td>0</td>\n      <td>0</td>\n      <td>0</td>\n      <td>0</td>\n      <td>1</td>\n      <td>0</td>\n      <td>1</td>\n      <td>0</td>\n    </tr>\n    <tr>\n      <th>2</th>\n      <td>2.0</td>\n      <td>2.0</td>\n      <td>36.0</td>\n      <td>2.0</td>\n      <td>36.0</td>\n      <td>1</td>\n      <td>1</td>\n      <td>0</td>\n      <td>0</td>\n      <td>0</td>\n      <td>...</td>\n      <td>0</td>\n      <td>0</td>\n      <td>0</td>\n      <td>0</td>\n      <td>0</td>\n      <td>0</td>\n      <td>1</td>\n      <td>0</td>\n      <td>0</td>\n      <td>1</td>\n    </tr>\n    <tr>\n      <th>3</th>\n      <td>1.0</td>\n      <td>6.0</td>\n      <td>33.0</td>\n      <td>1.0</td>\n      <td>13.0</td>\n      <td>1</td>\n      <td>1</td>\n      <td>0</td>\n      <td>0</td>\n      <td>0</td>\n      <td>...</td>\n      <td>0</td>\n      <td>0</td>\n      <td>0</td>\n      <td>0</td>\n      <td>0</td>\n      <td>0</td>\n      <td>1</td>\n      <td>0</td>\n      <td>0</td>\n      <td>1</td>\n    </tr>\n    <tr>\n      <th>4</th>\n      <td>1.0</td>\n      <td>2.0</td>\n      <td>333.0</td>\n      <td>1.0</td>\n      <td>12.0</td>\n      <td>0</td>\n      <td>0</td>\n      <td>1</td>\n      <td>0</td>\n      <td>0</td>\n      <td>...</td>\n      <td>0</td>\n      <td>0</td>\n      <td>0</td>\n      <td>0</td>\n      <td>0</td>\n      <td>1</td>\n      <td>0</td>\n      <td>1</td>\n      <td>1</td>\n      <td>0</td>\n    </tr>\n  </tbody>\n</table>\n<p>5 rows × 570 columns</p>\n</div>"
     },
     "execution_count": 5,
     "metadata": {},
     "output_type": "execute_result"
    }
   ],
   "source": [
    "train.head()"
   ],
   "metadata": {
    "collapsed": false
   }
  },
  {
   "cell_type": "code",
   "execution_count": 6,
   "outputs": [
    {
     "data": {
      "text/plain": "   AGEP  SCHL  POBP  WKHP    ST  PINCP  COW_1.0  COW_2.0  COW_3.0  COW_4.0  \\\n0   1.0   3.0  37.0   2.0  17.0      0        1        0        0        0   \n1   2.0   3.0  36.0   1.0   9.0      0        0        0        0        0   \n2   0.0   6.0  36.0   1.0  17.0      1        1        0        0        0   \n3   1.0   6.0  17.0   2.0  17.0      1        1        0        0        0   \n4   1.0   9.0  34.0   1.0   9.0      1        1        0        0        0   \n\n   ...  RELP_12.0  RELP_13.0  RELP_14.0  RELP_15.0  RELP_16.0  RELP_17.0  \\\n0  ...          0          1          0          0          0          0   \n1  ...          0          0          0          0          0          0   \n2  ...          0          0          0          0          0          0   \n3  ...          0          0          0          0          0          0   \n4  ...          0          0          0          0          0          0   \n\n   RAC1P_White alone  RAC1P_others  SEX_Female  SEX_Male  \n0                  1             0           1         0  \n1                  0             1           0         1  \n2                  1             0           0         1  \n3                  1             0           1         0  \n4                  1             0           1         0  \n\n[5 rows x 570 columns]",
      "text/html": "<div>\n<style scoped>\n    .dataframe tbody tr th:only-of-type {\n        vertical-align: middle;\n    }\n\n    .dataframe tbody tr th {\n        vertical-align: top;\n    }\n\n    .dataframe thead th {\n        text-align: right;\n    }\n</style>\n<table border=\"1\" class=\"dataframe\">\n  <thead>\n    <tr style=\"text-align: right;\">\n      <th></th>\n      <th>AGEP</th>\n      <th>SCHL</th>\n      <th>POBP</th>\n      <th>WKHP</th>\n      <th>ST</th>\n      <th>PINCP</th>\n      <th>COW_1.0</th>\n      <th>COW_2.0</th>\n      <th>COW_3.0</th>\n      <th>COW_4.0</th>\n      <th>...</th>\n      <th>RELP_12.0</th>\n      <th>RELP_13.0</th>\n      <th>RELP_14.0</th>\n      <th>RELP_15.0</th>\n      <th>RELP_16.0</th>\n      <th>RELP_17.0</th>\n      <th>RAC1P_White alone</th>\n      <th>RAC1P_others</th>\n      <th>SEX_Female</th>\n      <th>SEX_Male</th>\n    </tr>\n  </thead>\n  <tbody>\n    <tr>\n      <th>0</th>\n      <td>1.0</td>\n      <td>3.0</td>\n      <td>37.0</td>\n      <td>2.0</td>\n      <td>17.0</td>\n      <td>0</td>\n      <td>1</td>\n      <td>0</td>\n      <td>0</td>\n      <td>0</td>\n      <td>...</td>\n      <td>0</td>\n      <td>1</td>\n      <td>0</td>\n      <td>0</td>\n      <td>0</td>\n      <td>0</td>\n      <td>1</td>\n      <td>0</td>\n      <td>1</td>\n      <td>0</td>\n    </tr>\n    <tr>\n      <th>1</th>\n      <td>2.0</td>\n      <td>3.0</td>\n      <td>36.0</td>\n      <td>1.0</td>\n      <td>9.0</td>\n      <td>0</td>\n      <td>0</td>\n      <td>0</td>\n      <td>0</td>\n      <td>0</td>\n      <td>...</td>\n      <td>0</td>\n      <td>0</td>\n      <td>0</td>\n      <td>0</td>\n      <td>0</td>\n      <td>0</td>\n      <td>0</td>\n      <td>1</td>\n      <td>0</td>\n      <td>1</td>\n    </tr>\n    <tr>\n      <th>2</th>\n      <td>0.0</td>\n      <td>6.0</td>\n      <td>36.0</td>\n      <td>1.0</td>\n      <td>17.0</td>\n      <td>1</td>\n      <td>1</td>\n      <td>0</td>\n      <td>0</td>\n      <td>0</td>\n      <td>...</td>\n      <td>0</td>\n      <td>0</td>\n      <td>0</td>\n      <td>0</td>\n      <td>0</td>\n      <td>0</td>\n      <td>1</td>\n      <td>0</td>\n      <td>0</td>\n      <td>1</td>\n    </tr>\n    <tr>\n      <th>3</th>\n      <td>1.0</td>\n      <td>6.0</td>\n      <td>17.0</td>\n      <td>2.0</td>\n      <td>17.0</td>\n      <td>1</td>\n      <td>1</td>\n      <td>0</td>\n      <td>0</td>\n      <td>0</td>\n      <td>...</td>\n      <td>0</td>\n      <td>0</td>\n      <td>0</td>\n      <td>0</td>\n      <td>0</td>\n      <td>0</td>\n      <td>1</td>\n      <td>0</td>\n      <td>1</td>\n      <td>0</td>\n    </tr>\n    <tr>\n      <th>4</th>\n      <td>1.0</td>\n      <td>9.0</td>\n      <td>34.0</td>\n      <td>1.0</td>\n      <td>9.0</td>\n      <td>1</td>\n      <td>1</td>\n      <td>0</td>\n      <td>0</td>\n      <td>0</td>\n      <td>...</td>\n      <td>0</td>\n      <td>0</td>\n      <td>0</td>\n      <td>0</td>\n      <td>0</td>\n      <td>0</td>\n      <td>1</td>\n      <td>0</td>\n      <td>1</td>\n      <td>0</td>\n    </tr>\n  </tbody>\n</table>\n<p>5 rows × 570 columns</p>\n</div>"
     },
     "execution_count": 6,
     "metadata": {},
     "output_type": "execute_result"
    }
   ],
   "source": [
    "test.head()"
   ],
   "metadata": {
    "collapsed": false
   }
  },
  {
   "cell_type": "code",
   "execution_count": 7,
   "outputs": [
    {
     "name": "stdout",
     "output_type": "stream",
     "text": [
      "Eğitim örnek sayısı: 1165150\n",
      "Test örnek sayısı: 499350\n",
      "              precision    recall  f1-score   support\n",
      "\n",
      "           0       0.81      0.85      0.83    315441\n",
      "           1       0.71      0.65      0.68    183909\n",
      "\n",
      "    accuracy                           0.77    499350\n",
      "   macro avg       0.76      0.75      0.75    499350\n",
      "weighted avg       0.77      0.77      0.77    499350\n",
      "\n",
      "unpriviliged_labels 24787\n",
      "num_of_unpriviliged 109866\n",
      "priviliged_labels 142371\n",
      "num_of_priviliged 389484\n",
      "unpriviliged_labels 24787\n",
      "num_of_unpriviliged 109866\n",
      "priviliged_labels 142371\n",
      "num_of_priviliged 389484\n",
      "Disparate impact: 1.620209820352647\n",
      "Equal opportunity diff: 0.14542854926627968\n",
      "Statistical parity: 0.1399262812615464\n",
      "EO: 0.10719620617047171\n"
     ]
    }
   ],
   "source": [
    "model.print_model_metrics(train, test)"
   ],
   "metadata": {
    "collapsed": false
   }
  },
  {
   "cell_type": "code",
   "execution_count": 7,
   "outputs": [],
   "source": [],
   "metadata": {
    "collapsed": false
   }
  }
 ],
 "metadata": {
  "kernelspec": {
   "display_name": "Python 3",
   "language": "python",
   "name": "python3"
  },
  "language_info": {
   "codemirror_mode": {
    "name": "ipython",
    "version": 2
   },
   "file_extension": ".py",
   "mimetype": "text/x-python",
   "name": "python",
   "nbconvert_exporter": "python",
   "pygments_lexer": "ipython2",
   "version": "2.7.6"
  }
 },
 "nbformat": 4,
 "nbformat_minor": 0
}
