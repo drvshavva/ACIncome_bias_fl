{
 "cells": [
  {
   "cell_type": "code",
   "execution_count": 2,
   "metadata": {
    "collapsed": true,
    "ExecuteTime": {
     "end_time": "2023-12-04T17:39:23.599759Z",
     "start_time": "2023-12-04T17:39:23.408662Z"
    }
   },
   "outputs": [],
   "source": [
    "import pandas as pd\n",
    "\n",
    "from fairfl.model.preprocess import ACSIncomePreprocess\n",
    "from fairfl.model.model import ACSIncomeModel\n",
    "from fairfl.metrics.bias_metrics import BiasType"
   ]
  },
  {
   "cell_type": "code",
   "execution_count": 3,
   "outputs": [],
   "source": [
    "bias_type = BiasType.race\n",
    "\n",
    "preprocess = ACSIncomePreprocess()\n",
    "model = ACSIncomeModel(bias_type=bias_type)"
   ],
   "metadata": {
    "collapsed": false,
    "ExecuteTime": {
     "end_time": "2023-12-04T17:39:23.632723Z",
     "start_time": "2023-12-04T17:39:23.604751Z"
    }
   }
  },
  {
   "cell_type": "code",
   "execution_count": 4,
   "outputs": [],
   "source": [
    "from fairfl.utils.read_data import DatasetUtils"
   ],
   "metadata": {
    "collapsed": false,
    "ExecuteTime": {
     "end_time": "2023-12-04T17:39:23.632896Z",
     "start_time": "2023-12-04T17:39:23.622716Z"
    }
   }
  },
  {
   "cell_type": "code",
   "execution_count": 5,
   "outputs": [],
   "source": [
    "test = pd.read_csv(\"../../dataset/test_preprocessed_label.csv\").reset_index(drop=True)"
   ],
   "metadata": {
    "collapsed": false,
    "ExecuteTime": {
     "end_time": "2023-12-04T17:39:24.108304Z",
     "start_time": "2023-12-04T17:39:23.638589Z"
    }
   }
  },
  {
   "cell_type": "code",
   "execution_count": 6,
   "outputs": [],
   "source": [
    "import pickle\n",
    "\n",
    "l_model = pickle.load(open(\"20_client_round_5_fairfl236_dirm_5.pkl\", \"rb\"))"
   ],
   "metadata": {
    "collapsed": false,
    "ExecuteTime": {
     "end_time": "2023-12-04T17:39:24.113528Z",
     "start_time": "2023-12-04T17:39:24.108193Z"
    }
   }
  },
  {
   "cell_type": "code",
   "execution_count": 7,
   "outputs": [
    {
     "name": "stderr",
     "output_type": "stream",
     "text": [
      "/home/safir/.virtualenvs/ACIncome_bias_fl/lib/python3.8/site-packages/sklearn/base.py:458: UserWarning: X has feature names, but LogisticRegression was fitted without feature names\n",
      "  warnings.warn(\n",
      "/home/safir/.virtualenvs/ACIncome_bias_fl/lib/python3.8/site-packages/sklearn/base.py:458: UserWarning: X has feature names, but LogisticRegression was fitted without feature names\n",
      "  warnings.warn(\n",
      "/home/safir/.virtualenvs/ACIncome_bias_fl/lib/python3.8/site-packages/sklearn/base.py:458: UserWarning: X has feature names, but LogisticRegression was fitted without feature names\n",
      "  warnings.warn(\n",
      "/home/safir/.virtualenvs/ACIncome_bias_fl/lib/python3.8/site-packages/sklearn/base.py:458: UserWarning: X has feature names, but LogisticRegression was fitted without feature names\n",
      "  warnings.warn(\n",
      "/home/safir/.virtualenvs/ACIncome_bias_fl/lib/python3.8/site-packages/sklearn/base.py:458: UserWarning: X has feature names, but LogisticRegression was fitted without feature names\n",
      "  warnings.warn(\n",
      "/home/safir/.virtualenvs/ACIncome_bias_fl/lib/python3.8/site-packages/sklearn/base.py:458: UserWarning: X has feature names, but LogisticRegression was fitted without feature names\n",
      "  warnings.warn(\n",
      "/home/safir/.virtualenvs/ACIncome_bias_fl/lib/python3.8/site-packages/sklearn/base.py:458: UserWarning: X has feature names, but LogisticRegression was fitted without feature names\n",
      "  warnings.warn(\n",
      "/home/safir/.virtualenvs/ACIncome_bias_fl/lib/python3.8/site-packages/sklearn/base.py:458: UserWarning: X has feature names, but LogisticRegression was fitted without feature names\n",
      "  warnings.warn(\n",
      "/home/safir/.virtualenvs/ACIncome_bias_fl/lib/python3.8/site-packages/sklearn/base.py:458: UserWarning: X has feature names, but LogisticRegression was fitted without feature names\n",
      "  warnings.warn(\n",
      "/home/safir/.virtualenvs/ACIncome_bias_fl/lib/python3.8/site-packages/sklearn/base.py:458: UserWarning: X has feature names, but LogisticRegression was fitted without feature names\n",
      "  warnings.warn(\n",
      "/home/safir/.virtualenvs/ACIncome_bias_fl/lib/python3.8/site-packages/sklearn/base.py:458: UserWarning: X has feature names, but LogisticRegression was fitted without feature names\n",
      "  warnings.warn(\n",
      "/home/safir/.virtualenvs/ACIncome_bias_fl/lib/python3.8/site-packages/sklearn/base.py:458: UserWarning: X has feature names, but LogisticRegression was fitted without feature names\n",
      "  warnings.warn(\n",
      "/home/safir/.virtualenvs/ACIncome_bias_fl/lib/python3.8/site-packages/sklearn/base.py:458: UserWarning: X has feature names, but LogisticRegression was fitted without feature names\n",
      "  warnings.warn(\n",
      "/home/safir/.virtualenvs/ACIncome_bias_fl/lib/python3.8/site-packages/sklearn/base.py:458: UserWarning: X has feature names, but LogisticRegression was fitted without feature names\n",
      "  warnings.warn(\n",
      "/home/safir/.virtualenvs/ACIncome_bias_fl/lib/python3.8/site-packages/sklearn/base.py:458: UserWarning: X has feature names, but LogisticRegression was fitted without feature names\n",
      "  warnings.warn(\n",
      "/home/safir/.virtualenvs/ACIncome_bias_fl/lib/python3.8/site-packages/sklearn/base.py:458: UserWarning: X has feature names, but LogisticRegression was fitted without feature names\n",
      "  warnings.warn(\n",
      "/home/safir/.virtualenvs/ACIncome_bias_fl/lib/python3.8/site-packages/sklearn/base.py:458: UserWarning: X has feature names, but LogisticRegression was fitted without feature names\n",
      "  warnings.warn(\n",
      "/home/safir/.virtualenvs/ACIncome_bias_fl/lib/python3.8/site-packages/sklearn/base.py:458: UserWarning: X has feature names, but LogisticRegression was fitted without feature names\n",
      "  warnings.warn(\n",
      "/home/safir/.virtualenvs/ACIncome_bias_fl/lib/python3.8/site-packages/sklearn/base.py:458: UserWarning: X has feature names, but LogisticRegression was fitted without feature names\n",
      "  warnings.warn(\n",
      "/home/safir/.virtualenvs/ACIncome_bias_fl/lib/python3.8/site-packages/sklearn/base.py:458: UserWarning: X has feature names, but LogisticRegression was fitted without feature names\n",
      "  warnings.warn(\n"
     ]
    }
   ],
   "source": [
    "states_result_dfs = list()\n",
    "states = [\"MT\", \"WY\", \"ID\", \"VT\", \"UT\", \"SD\", \"ME\", \"NH\", \"OR\", \"ND\", \"IA\", \"AK\", \"HI\", \"NM\", \"NE\", \"CO\", \"WI\", \"MN\",\n",
    "          \"WA\", \"WV\"]\n",
    "\n",
    "for state in states:\n",
    "    res = model.print_loaded_model_metrics(test, l_model, state)\n",
    "    states_result_dfs.append(res)"
   ],
   "metadata": {
    "collapsed": false,
    "ExecuteTime": {
     "end_time": "2023-12-04T17:39:24.692912Z",
     "start_time": "2023-12-04T17:39:24.129562Z"
    }
   }
  },
  {
   "cell_type": "code",
   "execution_count": 8,
   "outputs": [],
   "source": [
    "pd.concat(states_result_dfs).to_excel(f\"{bias_type}_fl_fairfl236_dirm_5.xlsx\", index=False)"
   ],
   "metadata": {
    "collapsed": false,
    "ExecuteTime": {
     "end_time": "2023-12-04T17:39:24.878076Z",
     "start_time": "2023-12-04T17:39:24.692454Z"
    }
   }
  },
  {
   "cell_type": "code",
   "execution_count": 9,
   "outputs": [
    {
     "data": {
      "text/plain": "  state  f1_score  disparate_impact  equal_opportunity_diff  \\\n0    MT  0.403448          1.949775                0.000000   \n0    WY  0.444776          1.734422               -0.500000   \n0    ID  0.469807          1.002035                0.000000   \n0    VT  0.491349          1.163618                0.000000   \n0    UT  0.502934          0.559692               -0.272727   \n0    SD  0.391800          0.884005               -0.500000   \n0    ME  0.428962          1.181293               -0.166667   \n0    NH  0.549855          1.134106               -0.500000   \n0    OR  0.487522          0.643296               -0.575758   \n0    ND  0.457317          0.352419               -1.000000   \n0    IA  0.462659          0.922184               -0.312500   \n0    AK  0.455285          1.138639                0.000000   \n0    HI  0.414466          1.153291               -0.142857   \n0    NM  0.433984          1.230729               -0.250000   \n0    NE  0.481306          0.506756               -0.466667   \n0    CO  0.560020          0.823234               -0.301887   \n0    WI  0.471839          1.164508                0.151515   \n0    MN  0.500417          0.755917                0.608696   \n0    WA  0.513478          0.763906               -0.074667   \n0    WV  0.374212          0.992694                0.000000   \n\n   statistical_parity  \n0            0.365340  \n0            0.264650  \n0            0.000781  \n0            0.070306  \n0           -0.160916  \n0           -0.040374  \n0            0.076735  \n0            0.060916  \n0           -0.147472  \n0           -0.245004  \n0           -0.031419  \n0            0.058624  \n0            0.060679  \n0            0.085586  \n0           -0.198853  \n0           -0.082071  \n0            0.055906  \n0           -0.098972  \n0           -0.090504  \n0           -0.002264  ",
      "text/html": "<div>\n<style scoped>\n    .dataframe tbody tr th:only-of-type {\n        vertical-align: middle;\n    }\n\n    .dataframe tbody tr th {\n        vertical-align: top;\n    }\n\n    .dataframe thead th {\n        text-align: right;\n    }\n</style>\n<table border=\"1\" class=\"dataframe\">\n  <thead>\n    <tr style=\"text-align: right;\">\n      <th></th>\n      <th>state</th>\n      <th>f1_score</th>\n      <th>disparate_impact</th>\n      <th>equal_opportunity_diff</th>\n      <th>statistical_parity</th>\n    </tr>\n  </thead>\n  <tbody>\n    <tr>\n      <th>0</th>\n      <td>MT</td>\n      <td>0.403448</td>\n      <td>1.949775</td>\n      <td>0.000000</td>\n      <td>0.365340</td>\n    </tr>\n    <tr>\n      <th>0</th>\n      <td>WY</td>\n      <td>0.444776</td>\n      <td>1.734422</td>\n      <td>-0.500000</td>\n      <td>0.264650</td>\n    </tr>\n    <tr>\n      <th>0</th>\n      <td>ID</td>\n      <td>0.469807</td>\n      <td>1.002035</td>\n      <td>0.000000</td>\n      <td>0.000781</td>\n    </tr>\n    <tr>\n      <th>0</th>\n      <td>VT</td>\n      <td>0.491349</td>\n      <td>1.163618</td>\n      <td>0.000000</td>\n      <td>0.070306</td>\n    </tr>\n    <tr>\n      <th>0</th>\n      <td>UT</td>\n      <td>0.502934</td>\n      <td>0.559692</td>\n      <td>-0.272727</td>\n      <td>-0.160916</td>\n    </tr>\n    <tr>\n      <th>0</th>\n      <td>SD</td>\n      <td>0.391800</td>\n      <td>0.884005</td>\n      <td>-0.500000</td>\n      <td>-0.040374</td>\n    </tr>\n    <tr>\n      <th>0</th>\n      <td>ME</td>\n      <td>0.428962</td>\n      <td>1.181293</td>\n      <td>-0.166667</td>\n      <td>0.076735</td>\n    </tr>\n    <tr>\n      <th>0</th>\n      <td>NH</td>\n      <td>0.549855</td>\n      <td>1.134106</td>\n      <td>-0.500000</td>\n      <td>0.060916</td>\n    </tr>\n    <tr>\n      <th>0</th>\n      <td>OR</td>\n      <td>0.487522</td>\n      <td>0.643296</td>\n      <td>-0.575758</td>\n      <td>-0.147472</td>\n    </tr>\n    <tr>\n      <th>0</th>\n      <td>ND</td>\n      <td>0.457317</td>\n      <td>0.352419</td>\n      <td>-1.000000</td>\n      <td>-0.245004</td>\n    </tr>\n    <tr>\n      <th>0</th>\n      <td>IA</td>\n      <td>0.462659</td>\n      <td>0.922184</td>\n      <td>-0.312500</td>\n      <td>-0.031419</td>\n    </tr>\n    <tr>\n      <th>0</th>\n      <td>AK</td>\n      <td>0.455285</td>\n      <td>1.138639</td>\n      <td>0.000000</td>\n      <td>0.058624</td>\n    </tr>\n    <tr>\n      <th>0</th>\n      <td>HI</td>\n      <td>0.414466</td>\n      <td>1.153291</td>\n      <td>-0.142857</td>\n      <td>0.060679</td>\n    </tr>\n    <tr>\n      <th>0</th>\n      <td>NM</td>\n      <td>0.433984</td>\n      <td>1.230729</td>\n      <td>-0.250000</td>\n      <td>0.085586</td>\n    </tr>\n    <tr>\n      <th>0</th>\n      <td>NE</td>\n      <td>0.481306</td>\n      <td>0.506756</td>\n      <td>-0.466667</td>\n      <td>-0.198853</td>\n    </tr>\n    <tr>\n      <th>0</th>\n      <td>CO</td>\n      <td>0.560020</td>\n      <td>0.823234</td>\n      <td>-0.301887</td>\n      <td>-0.082071</td>\n    </tr>\n    <tr>\n      <th>0</th>\n      <td>WI</td>\n      <td>0.471839</td>\n      <td>1.164508</td>\n      <td>0.151515</td>\n      <td>0.055906</td>\n    </tr>\n    <tr>\n      <th>0</th>\n      <td>MN</td>\n      <td>0.500417</td>\n      <td>0.755917</td>\n      <td>0.608696</td>\n      <td>-0.098972</td>\n    </tr>\n    <tr>\n      <th>0</th>\n      <td>WA</td>\n      <td>0.513478</td>\n      <td>0.763906</td>\n      <td>-0.074667</td>\n      <td>-0.090504</td>\n    </tr>\n    <tr>\n      <th>0</th>\n      <td>WV</td>\n      <td>0.374212</td>\n      <td>0.992694</td>\n      <td>0.000000</td>\n      <td>-0.002264</td>\n    </tr>\n  </tbody>\n</table>\n</div>"
     },
     "execution_count": 9,
     "metadata": {},
     "output_type": "execute_result"
    }
   ],
   "source": [
    "pd.concat(states_result_dfs)"
   ],
   "metadata": {
    "collapsed": false,
    "ExecuteTime": {
     "end_time": "2023-12-04T17:39:24.878405Z",
     "start_time": "2023-12-04T17:39:24.854478Z"
    }
   }
  },
  {
   "cell_type": "code",
   "execution_count": 10,
   "outputs": [],
   "source": [
    "import pandas as pd\n",
    "\n",
    "# Verilen DataFrame\n",
    "original_df = pd.DataFrame(\n",
    "    {'f1': [(0, 0.0), (1, 0.6310125901215968), (2, 0.6350609538746703), (3, 0.6298221712318944),\n",
    "            (4, 0.6300183060554981), (5, 0.6285128278939225)],\n",
    "     'disparate impact': [(0, 0), (1, 0.6105142416074879), (2, 0.6580439035260816), (3, 0.5517727552610487),\n",
    "                          (4, 0.6111809313979244), (5, 0.5674348854403855)],\n",
    "     'equal opportunity diff': [(0, 0.0), (1, -0.11866088034717914), (2, -0.11196734862574911),\n",
    "                                (3, -0.13948749741682165), (4, -0.13122132672039677), (5, -0.14762760901012603)],\n",
    "     'statistical parity': [(0, 0.0), (1, -0.12478594993928047), (2, -0.11091337942109211), (3, -0.14392235967125727),\n",
    "                            (4, -0.12178888091338236), (5, -0.13777900732139717)]})\n",
    "\n",
    "# Yeni DataFrame oluşturma\n",
    "new_df = pd.DataFrame({\n",
    "    'f1_values': [item[1] for item in original_df['f1']],\n",
    "    'disparate_impact_values': [item[1] for item in original_df['disparate impact']],\n",
    "    'statistical_parity_values': [item[1] for item in original_df['statistical parity']],\n",
    "    'equal_opportunity_diff_values': [item[1] for item in original_df['equal opportunity diff']]\n",
    "})\n",
    "\n",
    "# Yeni DataFrame'i görüntüleme\n",
    "new_df.to_excel(\"rounds_fairfed.xlsx\", index=False)"
   ],
   "metadata": {
    "collapsed": false,
    "ExecuteTime": {
     "end_time": "2023-12-04T17:39:24.993749Z",
     "start_time": "2023-12-04T17:39:24.878213Z"
    }
   }
  },
  {
   "cell_type": "code",
   "execution_count": 11,
   "outputs": [
    {
     "name": "stdout",
     "output_type": "stream",
     "text": [
      "12_client_round_0_new.pkl\r\n",
      "12_client_round_1_new.pkl\r\n",
      "12_client_round_2_new.pkl\r\n",
      "12_client_round_3_new.pkl\r\n",
      "12_client_round_4_new.pkl\r\n",
      "12_client_round_5_new.pkl\r\n",
      "19_client_round_0_lfr.pkl\r\n",
      "19_client_round_1_lfr.pkl\r\n",
      "20_client_round_0_dirmm.pkl\r\n",
      "20_client_round_0_dirm.pkl\r\n",
      "20_client_round_0_DIRM.pkl\r\n",
      "20_client_round_0_fairfed234.pkl\r\n",
      "20_client_round_0_fairfed235_dirm.pkl\r\n",
      "20_client_round_0_fairfed235.pkl\r\n",
      "20_client_round_0_fairfed2.pkl\r\n",
      "20_client_round_0_FAIRFED_DIRM2.pkl\r\n",
      "20_client_round_0_FAIRFED_DIRM.pkl\r\n",
      "20_client_round_0_fairfed.pkl\r\n",
      "20_client_round_0_FAIRFED.pkl\r\n",
      "20_client_round_0_fairfl233.pkl\r\n",
      "20_client_round_0_fairfl234.pkl\r\n",
      "20_client_round_0_fairfl235_dirm.pkl\r\n",
      "20_client_round_0_fairfl236_dirm_025.pkl\r\n",
      "20_client_round_0_fairfl236_dirm_25.pkl\r\n",
      "20_client_round_0_fairfl236_dirm_2.pkl\r\n",
      "20_client_round_0_fairfl236_dirm_5.pkl\r\n",
      "20_client_round_0_fairfl236_dirm.pkl\r\n",
      "20_client_round_0_fairfl23.pkl\r\n",
      "20_client_round_0_FAIRFL23.pkl\r\n",
      "20_client_round_0_fairfl_dirm2.pkl\r\n",
      "20_client_round_0_FAIRFL_DIRM2.pkl\r\n",
      "20_client_round_0_fairfl_dirm.pkl\r\n",
      "20_client_round_0_FAIRFL_DIRM.pkl\r\n",
      "20_client_round_0_fairfl.pkl\r\n",
      "20_client_round_0_FAIRFL.pkl\r\n",
      "20_client_round_0_FAIRFL_RW2.pkl\r\n",
      "20_client_round_0_FAIRFL_RW.pkl\r\n",
      "20_client_round_0_fedavg23_dirm.pkl\r\n",
      "20_client_round_0_fedavg23.pkl\r\n",
      "20_client_round_0_fedavg23_rw.pkl\r\n",
      "20_client_round_0_fedavg.pkl\r\n",
      "20_client_round_0_FEDAVG.pkl\r\n",
      "20_client_round_0_first.pkl\r\n",
      "20_client_round_0_lfr.pkl\r\n",
      "20_client_round_0_rw.pkl\r\n",
      "20_client_round_0_RW.pkl\r\n",
      "20_client_round_1_dirmm.pkl\r\n",
      "20_client_round_1_dirm.pkl\r\n",
      "20_client_round_1_DIRM.pkl\r\n",
      "20_client_round_1_fairfed234.pkl\r\n",
      "20_client_round_1_fairfed235_dirm.pkl\r\n",
      "20_client_round_1_fairfed235.pkl\r\n",
      "20_client_round_1_fairfed2.pkl\r\n",
      "20_client_round_1_FAIRFED_DIRM2.pkl\r\n",
      "20_client_round_1_FAIRFED_DIRM.pkl\r\n",
      "20_client_round_1_fairfed.pkl\r\n",
      "20_client_round_1_FAIRFED.pkl\r\n",
      "20_client_round_1_fairfl233.pkl\r\n",
      "20_client_round_1_fairfl234.pkl\r\n",
      "20_client_round_1_fairfl235_dirm.pkl\r\n",
      "20_client_round_1_fairfl236_dirm_025.pkl\r\n",
      "20_client_round_1_fairfl236_dirm_25.pkl\r\n",
      "20_client_round_1_fairfl236_dirm_2.pkl\r\n",
      "20_client_round_1_fairfl236_dirm_5.pkl\r\n",
      "20_client_round_1_fairfl236_dirm.pkl\r\n",
      "20_client_round_1_fairfl23.pkl\r\n",
      "20_client_round_1_FAIRFL23.pkl\r\n",
      "20_client_round_1_fairfl_dirm2.pkl\r\n",
      "20_client_round_1_FAIRFL_DIRM2.pkl\r\n",
      "20_client_round_1_fairfl_dirm.pkl\r\n",
      "20_client_round_1_FAIRFL_DIRM.pkl\r\n",
      "20_client_round_1_fairfl.pkl\r\n",
      "20_client_round_1_FAIRFL.pkl\r\n",
      "20_client_round_1_FAIRFL_RW2.pkl\r\n",
      "20_client_round_1_FAIRFL_RW.pkl\r\n",
      "20_client_round_1_fedavg23_dirm.pkl\r\n",
      "20_client_round_1_fedavg23.pkl\r\n",
      "20_client_round_1_fedavg23_rw.pkl\r\n",
      "20_client_round_1_fedavg.pkl\r\n",
      "20_client_round_1_FEDAVG.pkl\r\n",
      "20_client_round_1_first.pkl\r\n",
      "20_client_round_1_lfr.pkl\r\n",
      "20_client_round_1_rw.pkl\r\n",
      "20_client_round_1_RW.pkl\r\n",
      "20_client_round_2_dirmm.pkl\r\n",
      "20_client_round_2_dirm.pkl\r\n",
      "20_client_round_2_DIRM.pkl\r\n",
      "20_client_round_2_fairfed234.pkl\r\n",
      "20_client_round_2_fairfed235_dirm.pkl\r\n",
      "20_client_round_2_fairfed235.pkl\r\n",
      "20_client_round_2_fairfed2.pkl\r\n",
      "20_client_round_2_FAIRFED_DIRM2.pkl\r\n",
      "20_client_round_2_FAIRFED_DIRM.pkl\r\n",
      "20_client_round_2_fairfed.pkl\r\n",
      "20_client_round_2_FAIRFED.pkl\r\n",
      "20_client_round_2_fairfl233.pkl\r\n",
      "20_client_round_2_fairfl234.pkl\r\n",
      "20_client_round_2_fairfl235_dirm.pkl\r\n",
      "20_client_round_2_fairfl236_dirm_025.pkl\r\n",
      "20_client_round_2_fairfl236_dirm_25.pkl\r\n",
      "20_client_round_2_fairfl236_dirm_2.pkl\r\n",
      "20_client_round_2_fairfl236_dirm_5.pkl\r\n",
      "20_client_round_2_fairfl236_dirm.pkl\r\n",
      "20_client_round_2_fairfl23.pkl\r\n",
      "20_client_round_2_FAIRFL23.pkl\r\n",
      "20_client_round_2_fairfl_dirm2.pkl\r\n",
      "20_client_round_2_FAIRFL_DIRM2.pkl\r\n",
      "20_client_round_2_fairfl_dirm.pkl\r\n",
      "20_client_round_2_FAIRFL_DIRM.pkl\r\n",
      "20_client_round_2_fairfl.pkl\r\n",
      "20_client_round_2_FAIRFL.pkl\r\n",
      "20_client_round_2_FAIRFL_RW2.pkl\r\n",
      "20_client_round_2_FAIRFL_RW.pkl\r\n",
      "20_client_round_2_fedavg23_dirm.pkl\r\n",
      "20_client_round_2_fedavg23.pkl\r\n",
      "20_client_round_2_fedavg23_rw.pkl\r\n",
      "20_client_round_2_fedavg.pkl\r\n",
      "20_client_round_2_FEDAVG.pkl\r\n",
      "20_client_round_2_first.pkl\r\n",
      "20_client_round_2_lfr.pkl\r\n",
      "20_client_round_2_rw.pkl\r\n",
      "20_client_round_2_RW.pkl\r\n",
      "20_client_round_3_dirmm.pkl\r\n",
      "20_client_round_3_dirm.pkl\r\n",
      "20_client_round_3_DIRM.pkl\r\n",
      "20_client_round_3_fairfed234.pkl\r\n",
      "20_client_round_3_fairfed235_dirm.pkl\r\n",
      "20_client_round_3_fairfed235.pkl\r\n",
      "20_client_round_3_fairfed2.pkl\r\n",
      "20_client_round_3_FAIRFED_DIRM2.pkl\r\n",
      "20_client_round_3_FAIRFED_DIRM.pkl\r\n",
      "20_client_round_3_fairfed.pkl\r\n",
      "20_client_round_3_FAIRFED.pkl\r\n",
      "20_client_round_3_fairfl233.pkl\r\n",
      "20_client_round_3_fairfl234.pkl\r\n",
      "20_client_round_3_fairfl235_dirm.pkl\r\n",
      "20_client_round_3_fairfl236_dirm_025.pkl\r\n",
      "20_client_round_3_fairfl236_dirm_25.pkl\r\n",
      "20_client_round_3_fairfl236_dirm_2.pkl\r\n",
      "20_client_round_3_fairfl236_dirm_5.pkl\r\n",
      "20_client_round_3_fairfl236_dirm.pkl\r\n",
      "20_client_round_3_fairfl23.pkl\r\n",
      "20_client_round_3_FAIRFL23.pkl\r\n",
      "20_client_round_3_fairfl_dirm2.pkl\r\n",
      "20_client_round_3_FAIRFL_DIRM2.pkl\r\n",
      "20_client_round_3_fairfl_dirm.pkl\r\n",
      "20_client_round_3_FAIRFL_DIRM.pkl\r\n",
      "20_client_round_3_fairfl.pkl\r\n",
      "20_client_round_3_FAIRFL.pkl\r\n",
      "20_client_round_3_FAIRFL_RW2.pkl\r\n",
      "20_client_round_3_FAIRFL_RW.pkl\r\n",
      "20_client_round_3_fedavg23_dirm.pkl\r\n",
      "20_client_round_3_fedavg23.pkl\r\n",
      "20_client_round_3_fedavg23_rw.pkl\r\n",
      "20_client_round_3_fedavg.pkl\r\n",
      "20_client_round_3_FEDAVG.pkl\r\n",
      "20_client_round_3_first.pkl\r\n",
      "20_client_round_3_lfr.pkl\r\n",
      "20_client_round_3_rw.pkl\r\n",
      "20_client_round_3_RW.pkl\r\n",
      "20_client_round_4_dirmm.pkl\r\n",
      "20_client_round_4_dirm.pkl\r\n",
      "20_client_round_4_DIRM.pkl\r\n",
      "20_client_round_4_fairfed234.pkl\r\n",
      "20_client_round_4_fairfed235_dirm.pkl\r\n",
      "20_client_round_4_fairfed235.pkl\r\n",
      "20_client_round_4_fairfed2.pkl\r\n",
      "20_client_round_4_FAIRFED_DIRM2.pkl\r\n",
      "20_client_round_4_FAIRFED_DIRM.pkl\r\n",
      "20_client_round_4_fairfed.pkl\r\n",
      "20_client_round_4_FAIRFED.pkl\r\n",
      "20_client_round_4_fairfl233.pkl\r\n",
      "20_client_round_4_fairfl234.pkl\r\n",
      "20_client_round_4_fairfl235_dirm.pkl\r\n",
      "20_client_round_4_fairfl236_dirm_025.pkl\r\n",
      "20_client_round_4_fairfl236_dirm_25.pkl\r\n",
      "20_client_round_4_fairfl236_dirm_2.pkl\r\n",
      "20_client_round_4_fairfl236_dirm_5.pkl\r\n",
      "20_client_round_4_fairfl236_dirm.pkl\r\n",
      "20_client_round_4_fairfl23.pkl\r\n",
      "20_client_round_4_FAIRFL23.pkl\r\n",
      "20_client_round_4_fairfl_dirm2.pkl\r\n",
      "20_client_round_4_FAIRFL_DIRM2.pkl\r\n",
      "20_client_round_4_fairfl_dirm.pkl\r\n",
      "20_client_round_4_FAIRFL_DIRM.pkl\r\n",
      "20_client_round_4_fairfl.pkl\r\n",
      "20_client_round_4_FAIRFL.pkl\r\n",
      "20_client_round_4_FAIRFL_RW2.pkl\r\n",
      "20_client_round_4_FAIRFL_RW.pkl\r\n",
      "20_client_round_4_fedavg23_dirm.pkl\r\n",
      "20_client_round_4_fedavg23.pkl\r\n",
      "20_client_round_4_fedavg23_rw.pkl\r\n",
      "20_client_round_4_fedavg.pkl\r\n",
      "20_client_round_4_FEDAVG.pkl\r\n",
      "20_client_round_4_first.pkl\r\n",
      "20_client_round_4_lfr.pkl\r\n",
      "20_client_round_4_rw.pkl\r\n",
      "20_client_round_4_RW.pkl\r\n",
      "20_client_round_5_dirmm.pkl\r\n",
      "20_client_round_5_dirm.pkl\r\n",
      "20_client_round_5_DIRM.pkl\r\n",
      "20_client_round_5_fairfed234.pkl\r\n",
      "20_client_round_5_fairfed235_dirm.pkl\r\n",
      "20_client_round_5_fairfed235.pkl\r\n",
      "20_client_round_5_fairfed2.pkl\r\n",
      "20_client_round_5_FAIRFED_DIRM2.pkl\r\n",
      "20_client_round_5_FAIRFED_DIRM.pkl\r\n",
      "20_client_round_5_fairfed.pkl\r\n",
      "20_client_round_5_FAIRFED.pkl\r\n",
      "20_client_round_5_fairfl233.pkl\r\n",
      "20_client_round_5_fairfl234.pkl\r\n",
      "20_client_round_5_fairfl235_dirm.pkl\r\n",
      "20_client_round_5_fairfl236_dirm_025.pkl\r\n",
      "20_client_round_5_fairfl236_dirm_25.pkl\r\n",
      "20_client_round_5_fairfl236_dirm_2.pkl\r\n",
      "20_client_round_5_fairfl236_dirm_5.pkl\r\n",
      "20_client_round_5_fairfl236_dirm.pkl\r\n",
      "20_client_round_5_fairfl23.pkl\r\n",
      "20_client_round_5_FAIRFL23.pkl\r\n",
      "20_client_round_5_fairfl_dirm2.pkl\r\n",
      "20_client_round_5_FAIRFL_DIRM2.pkl\r\n",
      "20_client_round_5_fairfl_dirm.pkl\r\n",
      "20_client_round_5_FAIRFL_DIRM.pkl\r\n",
      "20_client_round_5_fairfl.pkl\r\n",
      "20_client_round_5_FAIRFL.pkl\r\n",
      "20_client_round_5_FAIRFL_RW2.pkl\r\n",
      "20_client_round_5_FAIRFL_RW.pkl\r\n",
      "20_client_round_5_fedavg23_dirm.pkl\r\n",
      "20_client_round_5_fedavg23.pkl\r\n",
      "20_client_round_5_fedavg23_rw.pkl\r\n",
      "20_client_round_5_fedavg.pkl\r\n",
      "20_client_round_5_FEDAVG.pkl\r\n",
      "20_client_round_5_first.pkl\r\n",
      "20_client_round_5_lfr.pkl\r\n",
      "20_client_round_5_rw.pkl\r\n",
      "20_client_round_5_RW.pkl\r\n",
      "5_client_round_0_new.pkl\r\n",
      "5_client_round_1_new.pkl\r\n",
      "5_client_round_2_new.pkl\r\n",
      "5_client_round_3_new.pkl\r\n",
      "5_client_round_4_new.pkl\r\n",
      "5_client_round_5_new.pkl\r\n",
      "client.py\r\n",
      "fairfed.py\r\n",
      "FairFed.py\r\n",
      "FairFED.py\r\n",
      "fl_dirm_2.xlsx\r\n",
      "fl_fairfed_2.xlsx\r\n",
      "fl_first_2.xlsx\r\n",
      "fl_rw_2.xlsx\r\n",
      "fl_utils.py\r\n",
      "__init__.py\r\n",
      "local_test.ipynb\r\n",
      "log\r\n",
      "\u001B[0m\u001B[01;34m__pycache__\u001B[0m/\r\n",
      "race_fl_dirmm.xlsx\r\n",
      "race_fl_dirm.xlsx\r\n",
      "race_fl_DIRM.xlsx\r\n",
      "race_fl_fairfed234.xlsx\r\n",
      "race_fl_fairfed235_dirm.xlsx\r\n",
      "race_fl_fairfed235.xlsx\r\n",
      "race_fl_fairfed2.xlsx\r\n",
      "race_fl_fairfed3.xlsx\r\n",
      "race_fl_FAIRFED_DIRM2.xlsx\r\n",
      "race_fl_FAIRFED_DIRM.xlsx\r\n",
      "race_fl_fairfed.xlsx\r\n",
      "race_fl_FAIRFED.xlsx\r\n",
      "race_fl_fairfl233.xlsx\r\n",
      "race_fl_fairfl234.xlsx\r\n",
      "race_fl_fairfl235_dirm.xlsx\r\n",
      "race_fl_fairfl236_dirm_025.xlsx\r\n",
      "race_fl_fairfl236_dirm_25.xlsx\r\n",
      "race_fl_fairfl236_dirm_2.xlsx\r\n",
      "race_fl_fairfl236_dirm_5.xlsx\r\n",
      "race_fl_fairfl236_dirm.xlsx\r\n",
      "race_fl_fairfl23.xlsx\r\n",
      "race_fl_FAIRFL23.xlsx\r\n",
      "race_fl_fairfl_dirm2.xlsx\r\n",
      "race_fl_FAIRFL_DIRM2.xlsx\r\n",
      "race_fl_FAIRFL_DIRM.xlsx\r\n",
      "race_fl_FAIRFL_RW2.xlsx\r\n",
      "race_fl_FAIRFL_RW.xlsx\r\n",
      "race_fl_fairfl.xlsx\r\n",
      "race_fl_FAIRFL.xlsx\r\n",
      "race_fl_fedavg23_dirm.xlsx\r\n",
      "race_fl_fedavg23_rw.xlsx\r\n",
      "race_fl_fedavg23.xlsx\r\n",
      "race_fl_fedavg.xlsx\r\n",
      "race_fl_FEDAVG.xlsx\r\n",
      "race_fl_first.xlsx\r\n",
      "race_fl_lfr.xlsx\r\n",
      "race_fl_new12.xlsx\r\n",
      "race_fl_new3.xlsx\r\n",
      "race_fl_rw.xlsx\r\n",
      "race_fl_RW.xlsx\r\n",
      "rounds_dirm.xlsx\r\n",
      "rounds_fairfed.xlsx\r\n",
      "rounds_first.xlsx\r\n",
      "rounds_lfr.xlsx\r\n",
      "rounds_rw.xlsx\r\n",
      "rounds.xlsx\r\n",
      "server.py\r\n",
      "start_simulation.sh\r\n"
     ]
    }
   ],
   "source": [
    "%ls"
   ],
   "metadata": {
    "collapsed": false,
    "ExecuteTime": {
     "end_time": "2023-12-04T17:39:25.178598Z",
     "start_time": "2023-12-04T17:39:24.912090Z"
    }
   }
  },
  {
   "cell_type": "code",
   "execution_count": 12,
   "outputs": [
    {
     "data": {
      "text/plain": "   state  f1_score  disparate_impact  equal_opportunity_diff  \\\n0     MT  0.544939          0.765901                0.000000   \n1     WY  0.593060          0.771115               -0.500000   \n2     ID  0.590541          0.490634                0.000000   \n3     VT  0.599469          0.298956                0.000000   \n4     UT  0.682959          0.694351               -0.363636   \n5     SD  0.543616          0.000000               -0.500000   \n6     ME  0.610422          0.450727                0.000000   \n7     NH  0.689617          0.592476               -0.500000   \n8     OR  0.645806          0.680227               -0.424242   \n9     ND  0.594298          0.205647               -1.000000   \n10    IA  0.599215          0.171919               -0.375000   \n11    AK  0.598291          1.350309                0.000000   \n12    HI  0.573508          0.913609               -0.142857   \n13    NM  0.600395          0.526423               -0.125000   \n14    NE  0.600952          0.682370               -0.266667   \n15    CO  0.679131          0.683228               -0.226415   \n16    WI  0.613798          0.487952               -0.348485   \n17    MN  0.625424          0.485809               -0.456522   \n18    WA  0.656188          0.644582                0.346667   \n19    WV  0.547511          0.711908               -1.000000   \n\n    statistical_parity  \n0            -0.076413  \n1            -0.074206  \n2            -0.159720  \n3            -0.234498  \n4            -0.090040  \n5            -0.290746  \n6            -0.166178  \n7            -0.145903  \n8            -0.100021  \n9            -0.257513  \n10           -0.256207  \n11            0.096085  \n12           -0.020557  \n13           -0.136898  \n14           -0.105108  \n15           -0.119516  \n16           -0.151825  \n17           -0.170321  \n18           -0.115088  \n19           -0.077822  ",
      "text/html": "<div>\n<style scoped>\n    .dataframe tbody tr th:only-of-type {\n        vertical-align: middle;\n    }\n\n    .dataframe tbody tr th {\n        vertical-align: top;\n    }\n\n    .dataframe thead th {\n        text-align: right;\n    }\n</style>\n<table border=\"1\" class=\"dataframe\">\n  <thead>\n    <tr style=\"text-align: right;\">\n      <th></th>\n      <th>state</th>\n      <th>f1_score</th>\n      <th>disparate_impact</th>\n      <th>equal_opportunity_diff</th>\n      <th>statistical_parity</th>\n    </tr>\n  </thead>\n  <tbody>\n    <tr>\n      <th>0</th>\n      <td>MT</td>\n      <td>0.544939</td>\n      <td>0.765901</td>\n      <td>0.000000</td>\n      <td>-0.076413</td>\n    </tr>\n    <tr>\n      <th>1</th>\n      <td>WY</td>\n      <td>0.593060</td>\n      <td>0.771115</td>\n      <td>-0.500000</td>\n      <td>-0.074206</td>\n    </tr>\n    <tr>\n      <th>2</th>\n      <td>ID</td>\n      <td>0.590541</td>\n      <td>0.490634</td>\n      <td>0.000000</td>\n      <td>-0.159720</td>\n    </tr>\n    <tr>\n      <th>3</th>\n      <td>VT</td>\n      <td>0.599469</td>\n      <td>0.298956</td>\n      <td>0.000000</td>\n      <td>-0.234498</td>\n    </tr>\n    <tr>\n      <th>4</th>\n      <td>UT</td>\n      <td>0.682959</td>\n      <td>0.694351</td>\n      <td>-0.363636</td>\n      <td>-0.090040</td>\n    </tr>\n    <tr>\n      <th>5</th>\n      <td>SD</td>\n      <td>0.543616</td>\n      <td>0.000000</td>\n      <td>-0.500000</td>\n      <td>-0.290746</td>\n    </tr>\n    <tr>\n      <th>6</th>\n      <td>ME</td>\n      <td>0.610422</td>\n      <td>0.450727</td>\n      <td>0.000000</td>\n      <td>-0.166178</td>\n    </tr>\n    <tr>\n      <th>7</th>\n      <td>NH</td>\n      <td>0.689617</td>\n      <td>0.592476</td>\n      <td>-0.500000</td>\n      <td>-0.145903</td>\n    </tr>\n    <tr>\n      <th>8</th>\n      <td>OR</td>\n      <td>0.645806</td>\n      <td>0.680227</td>\n      <td>-0.424242</td>\n      <td>-0.100021</td>\n    </tr>\n    <tr>\n      <th>9</th>\n      <td>ND</td>\n      <td>0.594298</td>\n      <td>0.205647</td>\n      <td>-1.000000</td>\n      <td>-0.257513</td>\n    </tr>\n    <tr>\n      <th>10</th>\n      <td>IA</td>\n      <td>0.599215</td>\n      <td>0.171919</td>\n      <td>-0.375000</td>\n      <td>-0.256207</td>\n    </tr>\n    <tr>\n      <th>11</th>\n      <td>AK</td>\n      <td>0.598291</td>\n      <td>1.350309</td>\n      <td>0.000000</td>\n      <td>0.096085</td>\n    </tr>\n    <tr>\n      <th>12</th>\n      <td>HI</td>\n      <td>0.573508</td>\n      <td>0.913609</td>\n      <td>-0.142857</td>\n      <td>-0.020557</td>\n    </tr>\n    <tr>\n      <th>13</th>\n      <td>NM</td>\n      <td>0.600395</td>\n      <td>0.526423</td>\n      <td>-0.125000</td>\n      <td>-0.136898</td>\n    </tr>\n    <tr>\n      <th>14</th>\n      <td>NE</td>\n      <td>0.600952</td>\n      <td>0.682370</td>\n      <td>-0.266667</td>\n      <td>-0.105108</td>\n    </tr>\n    <tr>\n      <th>15</th>\n      <td>CO</td>\n      <td>0.679131</td>\n      <td>0.683228</td>\n      <td>-0.226415</td>\n      <td>-0.119516</td>\n    </tr>\n    <tr>\n      <th>16</th>\n      <td>WI</td>\n      <td>0.613798</td>\n      <td>0.487952</td>\n      <td>-0.348485</td>\n      <td>-0.151825</td>\n    </tr>\n    <tr>\n      <th>17</th>\n      <td>MN</td>\n      <td>0.625424</td>\n      <td>0.485809</td>\n      <td>-0.456522</td>\n      <td>-0.170321</td>\n    </tr>\n    <tr>\n      <th>18</th>\n      <td>WA</td>\n      <td>0.656188</td>\n      <td>0.644582</td>\n      <td>0.346667</td>\n      <td>-0.115088</td>\n    </tr>\n    <tr>\n      <th>19</th>\n      <td>WV</td>\n      <td>0.547511</td>\n      <td>0.711908</td>\n      <td>-1.000000</td>\n      <td>-0.077822</td>\n    </tr>\n  </tbody>\n</table>\n</div>"
     },
     "execution_count": 12,
     "metadata": {},
     "output_type": "execute_result"
    }
   ],
   "source": [
    "first = pd.read_excel(\"race_fl_first.xlsx\")\n",
    "first.head(20)"
   ],
   "metadata": {
    "collapsed": false,
    "ExecuteTime": {
     "end_time": "2023-12-04T17:39:25.179946Z",
     "start_time": "2023-12-04T17:39:25.030924Z"
    }
   }
  },
  {
   "cell_type": "code",
   "execution_count": 13,
   "outputs": [
    {
     "data": {
      "text/plain": "   state  f1_score  disparate_impact  equal_opportunity_diff  \\\n0     MT  0.538899          0.769982                0.000000   \n1     WY  0.598746          0.760833               -0.500000   \n2     ID  0.590451          0.486225                0.000000   \n3     VT  0.592297          0.299738                0.000000   \n4     UT  0.683133          0.690431               -0.363636   \n5     SD  0.539523          0.000000               -0.500000   \n6     ME  0.611433          0.452188                0.000000   \n7     NH  0.687364          0.588279               -0.500000   \n8     OR  0.641259          0.746424               -0.424242   \n9     ND  0.591859          0.207109               -1.000000   \n10    IA  0.601256          0.168640               -0.375000   \n11    AK  0.587393          1.369327                0.000000   \n12    HI  0.570803          0.920453               -0.142857   \n13    NM  0.598033          0.597577               -0.125000   \n14    NE  0.598095          0.649258               -0.266667   \n15    CO  0.676762          0.697255               -0.245283   \n16    WI  0.613295          0.478803               -0.378788   \n17    MN  0.623749          0.495727               -0.478261   \n18    WA  0.654191          0.625506                0.354667   \n19    WV  0.555967          0.733508               -1.000000   \n\n    statistical_parity  \n0            -0.074683  \n1            -0.078587  \n2            -0.162563  \n3            -0.233624  \n4            -0.091712  \n5            -0.294890  \n6            -0.165200  \n7            -0.148458  \n8            -0.079509  \n9            -0.255225  \n10           -0.262222  \n11            0.099894  \n12           -0.018787  \n13           -0.117117  \n14           -0.116177  \n15           -0.113856  \n16           -0.157491  \n17           -0.167591  \n18           -0.121233  \n19           -0.074525  ",
      "text/html": "<div>\n<style scoped>\n    .dataframe tbody tr th:only-of-type {\n        vertical-align: middle;\n    }\n\n    .dataframe tbody tr th {\n        vertical-align: top;\n    }\n\n    .dataframe thead th {\n        text-align: right;\n    }\n</style>\n<table border=\"1\" class=\"dataframe\">\n  <thead>\n    <tr style=\"text-align: right;\">\n      <th></th>\n      <th>state</th>\n      <th>f1_score</th>\n      <th>disparate_impact</th>\n      <th>equal_opportunity_diff</th>\n      <th>statistical_parity</th>\n    </tr>\n  </thead>\n  <tbody>\n    <tr>\n      <th>0</th>\n      <td>MT</td>\n      <td>0.538899</td>\n      <td>0.769982</td>\n      <td>0.000000</td>\n      <td>-0.074683</td>\n    </tr>\n    <tr>\n      <th>1</th>\n      <td>WY</td>\n      <td>0.598746</td>\n      <td>0.760833</td>\n      <td>-0.500000</td>\n      <td>-0.078587</td>\n    </tr>\n    <tr>\n      <th>2</th>\n      <td>ID</td>\n      <td>0.590451</td>\n      <td>0.486225</td>\n      <td>0.000000</td>\n      <td>-0.162563</td>\n    </tr>\n    <tr>\n      <th>3</th>\n      <td>VT</td>\n      <td>0.592297</td>\n      <td>0.299738</td>\n      <td>0.000000</td>\n      <td>-0.233624</td>\n    </tr>\n    <tr>\n      <th>4</th>\n      <td>UT</td>\n      <td>0.683133</td>\n      <td>0.690431</td>\n      <td>-0.363636</td>\n      <td>-0.091712</td>\n    </tr>\n    <tr>\n      <th>5</th>\n      <td>SD</td>\n      <td>0.539523</td>\n      <td>0.000000</td>\n      <td>-0.500000</td>\n      <td>-0.294890</td>\n    </tr>\n    <tr>\n      <th>6</th>\n      <td>ME</td>\n      <td>0.611433</td>\n      <td>0.452188</td>\n      <td>0.000000</td>\n      <td>-0.165200</td>\n    </tr>\n    <tr>\n      <th>7</th>\n      <td>NH</td>\n      <td>0.687364</td>\n      <td>0.588279</td>\n      <td>-0.500000</td>\n      <td>-0.148458</td>\n    </tr>\n    <tr>\n      <th>8</th>\n      <td>OR</td>\n      <td>0.641259</td>\n      <td>0.746424</td>\n      <td>-0.424242</td>\n      <td>-0.079509</td>\n    </tr>\n    <tr>\n      <th>9</th>\n      <td>ND</td>\n      <td>0.591859</td>\n      <td>0.207109</td>\n      <td>-1.000000</td>\n      <td>-0.255225</td>\n    </tr>\n    <tr>\n      <th>10</th>\n      <td>IA</td>\n      <td>0.601256</td>\n      <td>0.168640</td>\n      <td>-0.375000</td>\n      <td>-0.262222</td>\n    </tr>\n    <tr>\n      <th>11</th>\n      <td>AK</td>\n      <td>0.587393</td>\n      <td>1.369327</td>\n      <td>0.000000</td>\n      <td>0.099894</td>\n    </tr>\n    <tr>\n      <th>12</th>\n      <td>HI</td>\n      <td>0.570803</td>\n      <td>0.920453</td>\n      <td>-0.142857</td>\n      <td>-0.018787</td>\n    </tr>\n    <tr>\n      <th>13</th>\n      <td>NM</td>\n      <td>0.598033</td>\n      <td>0.597577</td>\n      <td>-0.125000</td>\n      <td>-0.117117</td>\n    </tr>\n    <tr>\n      <th>14</th>\n      <td>NE</td>\n      <td>0.598095</td>\n      <td>0.649258</td>\n      <td>-0.266667</td>\n      <td>-0.116177</td>\n    </tr>\n    <tr>\n      <th>15</th>\n      <td>CO</td>\n      <td>0.676762</td>\n      <td>0.697255</td>\n      <td>-0.245283</td>\n      <td>-0.113856</td>\n    </tr>\n    <tr>\n      <th>16</th>\n      <td>WI</td>\n      <td>0.613295</td>\n      <td>0.478803</td>\n      <td>-0.378788</td>\n      <td>-0.157491</td>\n    </tr>\n    <tr>\n      <th>17</th>\n      <td>MN</td>\n      <td>0.623749</td>\n      <td>0.495727</td>\n      <td>-0.478261</td>\n      <td>-0.167591</td>\n    </tr>\n    <tr>\n      <th>18</th>\n      <td>WA</td>\n      <td>0.654191</td>\n      <td>0.625506</td>\n      <td>0.354667</td>\n      <td>-0.121233</td>\n    </tr>\n    <tr>\n      <th>19</th>\n      <td>WV</td>\n      <td>0.555967</td>\n      <td>0.733508</td>\n      <td>-1.000000</td>\n      <td>-0.074525</td>\n    </tr>\n  </tbody>\n</table>\n</div>"
     },
     "execution_count": 13,
     "metadata": {},
     "output_type": "execute_result"
    }
   ],
   "source": [
    "rw = pd.read_excel(\"race_fl_rw.xlsx\")\n",
    "rw.head(20)"
   ],
   "metadata": {
    "collapsed": false,
    "ExecuteTime": {
     "end_time": "2023-12-04T17:39:25.299176Z",
     "start_time": "2023-12-04T17:39:25.284473Z"
    }
   }
  },
  {
   "cell_type": "code",
   "execution_count": 14,
   "outputs": [
    {
     "data": {
      "text/plain": "   state  f1_score  disparate_impact  equal_opportunity_diff  \\\n0     MT  0.525026          0.888320                0.000000   \n1     WY  0.577181          0.884690                0.000000   \n2     ID  0.573677          1.101073                0.000000   \n3     VT  0.579545          0.000000                0.000000   \n4     UT  0.670736          0.758992               -0.363636   \n5     SD  0.543742          0.000000               -0.500000   \n6     ME  0.605634          0.510989                0.000000   \n7     NH  0.669730          0.662597               -0.500000   \n8     OR  0.632526          0.742297               -0.363636   \n9     ND  0.570766          0.233067               -1.000000   \n10    IA  0.594059          0.193028               -0.250000   \n11    AK  0.553892          1.372549                0.000000   \n12    HI  0.543645          1.045791               -0.142857   \n13    NM  0.583510          0.608934               -0.125000   \n14    NE  0.609901          0.666977               -0.266667   \n15    CO  0.662564          0.771925               -0.226415   \n16    WI  0.603521          0.501289               -0.318182   \n17    MN  0.610923          0.521788               -0.413043   \n18    WA  0.638010          0.723441                0.346667   \n19    WV  0.533858          0.782096               -1.000000   \n\n    statistical_parity  \n0            -0.031430  \n1            -0.032585  \n2             0.028245  \n3            -0.291703  \n4            -0.064951  \n5            -0.257597  \n6            -0.130499  \n7            -0.108015  \n8            -0.073866  \n9            -0.219375  \n10           -0.222372  \n11            0.090476  \n12            0.009519  \n13           -0.097728  \n14           -0.102008  \n15           -0.078790  \n16           -0.135470  \n17           -0.143969  \n18           -0.082173  \n19           -0.053580  ",
      "text/html": "<div>\n<style scoped>\n    .dataframe tbody tr th:only-of-type {\n        vertical-align: middle;\n    }\n\n    .dataframe tbody tr th {\n        vertical-align: top;\n    }\n\n    .dataframe thead th {\n        text-align: right;\n    }\n</style>\n<table border=\"1\" class=\"dataframe\">\n  <thead>\n    <tr style=\"text-align: right;\">\n      <th></th>\n      <th>state</th>\n      <th>f1_score</th>\n      <th>disparate_impact</th>\n      <th>equal_opportunity_diff</th>\n      <th>statistical_parity</th>\n    </tr>\n  </thead>\n  <tbody>\n    <tr>\n      <th>0</th>\n      <td>MT</td>\n      <td>0.525026</td>\n      <td>0.888320</td>\n      <td>0.000000</td>\n      <td>-0.031430</td>\n    </tr>\n    <tr>\n      <th>1</th>\n      <td>WY</td>\n      <td>0.577181</td>\n      <td>0.884690</td>\n      <td>0.000000</td>\n      <td>-0.032585</td>\n    </tr>\n    <tr>\n      <th>2</th>\n      <td>ID</td>\n      <td>0.573677</td>\n      <td>1.101073</td>\n      <td>0.000000</td>\n      <td>0.028245</td>\n    </tr>\n    <tr>\n      <th>3</th>\n      <td>VT</td>\n      <td>0.579545</td>\n      <td>0.000000</td>\n      <td>0.000000</td>\n      <td>-0.291703</td>\n    </tr>\n    <tr>\n      <th>4</th>\n      <td>UT</td>\n      <td>0.670736</td>\n      <td>0.758992</td>\n      <td>-0.363636</td>\n      <td>-0.064951</td>\n    </tr>\n    <tr>\n      <th>5</th>\n      <td>SD</td>\n      <td>0.543742</td>\n      <td>0.000000</td>\n      <td>-0.500000</td>\n      <td>-0.257597</td>\n    </tr>\n    <tr>\n      <th>6</th>\n      <td>ME</td>\n      <td>0.605634</td>\n      <td>0.510989</td>\n      <td>0.000000</td>\n      <td>-0.130499</td>\n    </tr>\n    <tr>\n      <th>7</th>\n      <td>NH</td>\n      <td>0.669730</td>\n      <td>0.662597</td>\n      <td>-0.500000</td>\n      <td>-0.108015</td>\n    </tr>\n    <tr>\n      <th>8</th>\n      <td>OR</td>\n      <td>0.632526</td>\n      <td>0.742297</td>\n      <td>-0.363636</td>\n      <td>-0.073866</td>\n    </tr>\n    <tr>\n      <th>9</th>\n      <td>ND</td>\n      <td>0.570766</td>\n      <td>0.233067</td>\n      <td>-1.000000</td>\n      <td>-0.219375</td>\n    </tr>\n    <tr>\n      <th>10</th>\n      <td>IA</td>\n      <td>0.594059</td>\n      <td>0.193028</td>\n      <td>-0.250000</td>\n      <td>-0.222372</td>\n    </tr>\n    <tr>\n      <th>11</th>\n      <td>AK</td>\n      <td>0.553892</td>\n      <td>1.372549</td>\n      <td>0.000000</td>\n      <td>0.090476</td>\n    </tr>\n    <tr>\n      <th>12</th>\n      <td>HI</td>\n      <td>0.543645</td>\n      <td>1.045791</td>\n      <td>-0.142857</td>\n      <td>0.009519</td>\n    </tr>\n    <tr>\n      <th>13</th>\n      <td>NM</td>\n      <td>0.583510</td>\n      <td>0.608934</td>\n      <td>-0.125000</td>\n      <td>-0.097728</td>\n    </tr>\n    <tr>\n      <th>14</th>\n      <td>NE</td>\n      <td>0.609901</td>\n      <td>0.666977</td>\n      <td>-0.266667</td>\n      <td>-0.102008</td>\n    </tr>\n    <tr>\n      <th>15</th>\n      <td>CO</td>\n      <td>0.662564</td>\n      <td>0.771925</td>\n      <td>-0.226415</td>\n      <td>-0.078790</td>\n    </tr>\n    <tr>\n      <th>16</th>\n      <td>WI</td>\n      <td>0.603521</td>\n      <td>0.501289</td>\n      <td>-0.318182</td>\n      <td>-0.135470</td>\n    </tr>\n    <tr>\n      <th>17</th>\n      <td>MN</td>\n      <td>0.610923</td>\n      <td>0.521788</td>\n      <td>-0.413043</td>\n      <td>-0.143969</td>\n    </tr>\n    <tr>\n      <th>18</th>\n      <td>WA</td>\n      <td>0.638010</td>\n      <td>0.723441</td>\n      <td>0.346667</td>\n      <td>-0.082173</td>\n    </tr>\n    <tr>\n      <th>19</th>\n      <td>WV</td>\n      <td>0.533858</td>\n      <td>0.782096</td>\n      <td>-1.000000</td>\n      <td>-0.053580</td>\n    </tr>\n  </tbody>\n</table>\n</div>"
     },
     "execution_count": 14,
     "metadata": {},
     "output_type": "execute_result"
    }
   ],
   "source": [
    "dirm = pd.read_excel(\"race_fl_dirm.xlsx\")\n",
    "dirm.head(20)"
   ],
   "metadata": {
    "collapsed": false,
    "ExecuteTime": {
     "end_time": "2023-12-04T17:39:25.299913Z",
     "start_time": "2023-12-04T17:39:25.284721Z"
    }
   }
  },
  {
   "cell_type": "code",
   "execution_count": 15,
   "outputs": [
    {
     "data": {
      "text/plain": "  state  f1_score  disparate_impact  equal_opportunity_diff  \\\n0    MT  0.526523          0.822581                0.000000   \n1    WY  0.578862          0.824007               -0.500000   \n2    ID  0.583333          0.517444                0.000000   \n3    VT  0.591781          0.318942                0.000000   \n4    UT  0.674426          0.645131               -0.363636   \n\n   statistical_parity  \n0           -0.053922  \n1           -0.053395  \n2           -0.143473  \n3           -0.213537  \n4           -0.100013  ",
      "text/html": "<div>\n<style scoped>\n    .dataframe tbody tr th:only-of-type {\n        vertical-align: middle;\n    }\n\n    .dataframe tbody tr th {\n        vertical-align: top;\n    }\n\n    .dataframe thead th {\n        text-align: right;\n    }\n</style>\n<table border=\"1\" class=\"dataframe\">\n  <thead>\n    <tr style=\"text-align: right;\">\n      <th></th>\n      <th>state</th>\n      <th>f1_score</th>\n      <th>disparate_impact</th>\n      <th>equal_opportunity_diff</th>\n      <th>statistical_parity</th>\n    </tr>\n  </thead>\n  <tbody>\n    <tr>\n      <th>0</th>\n      <td>MT</td>\n      <td>0.526523</td>\n      <td>0.822581</td>\n      <td>0.000000</td>\n      <td>-0.053922</td>\n    </tr>\n    <tr>\n      <th>1</th>\n      <td>WY</td>\n      <td>0.578862</td>\n      <td>0.824007</td>\n      <td>-0.500000</td>\n      <td>-0.053395</td>\n    </tr>\n    <tr>\n      <th>2</th>\n      <td>ID</td>\n      <td>0.583333</td>\n      <td>0.517444</td>\n      <td>0.000000</td>\n      <td>-0.143473</td>\n    </tr>\n    <tr>\n      <th>3</th>\n      <td>VT</td>\n      <td>0.591781</td>\n      <td>0.318942</td>\n      <td>0.000000</td>\n      <td>-0.213537</td>\n    </tr>\n    <tr>\n      <th>4</th>\n      <td>UT</td>\n      <td>0.674426</td>\n      <td>0.645131</td>\n      <td>-0.363636</td>\n      <td>-0.100013</td>\n    </tr>\n  </tbody>\n</table>\n</div>"
     },
     "execution_count": 15,
     "metadata": {},
     "output_type": "execute_result"
    }
   ],
   "source": [
    "fairfed = pd.read_excel(\"race_fl_fairfed.xlsx\")\n",
    "fairfed.head()"
   ],
   "metadata": {
    "collapsed": false,
    "ExecuteTime": {
     "end_time": "2023-12-04T17:39:25.312575Z",
     "start_time": "2023-12-04T17:39:25.284959Z"
    }
   }
  },
  {
   "cell_type": "code",
   "execution_count": 16,
   "outputs": [
    {
     "data": {
      "text/plain": "82422"
     },
     "execution_count": 16,
     "metadata": {},
     "output_type": "execute_result"
    }
   ],
   "source": [
    "test_states = DatasetUtils().get_selected_states(test, states, False)\n",
    "len(test_states)"
   ],
   "metadata": {
    "collapsed": false,
    "ExecuteTime": {
     "end_time": "2023-12-04T17:39:25.326916Z",
     "start_time": "2023-12-04T17:39:25.303859Z"
    }
   }
  },
  {
   "cell_type": "code",
   "execution_count": 17,
   "outputs": [],
   "source": [
    "convert_dict = {2: 'AK', 8: 'CO', 15: 'HI', 16: 'ID', 19: 'IA', 23: 'ME', 27: 'MN', 30: 'MT', 31: 'NE', 33: 'NH', 35: 'NM', 38: 'ND', 41: 'OR', 46: 'SD',\n",
    "           49: 'UT', 50: 'VT', 53: 'WA', 54: 'WV', 55: 'WI', 56: 'WY'}"
   ],
   "metadata": {
    "collapsed": false,
    "ExecuteTime": {
     "end_time": "2023-12-04T17:39:25.491264Z",
     "start_time": "2023-12-04T17:39:25.321330Z"
    }
   }
  },
  {
   "cell_type": "code",
   "execution_count": 18,
   "outputs": [
    {
     "name": "stderr",
     "output_type": "stream",
     "text": [
      "/tmp/ipykernel_651933/718048723.py:1: SettingWithCopyWarning: \n",
      "A value is trying to be set on a copy of a slice from a DataFrame.\n",
      "Try using .loc[row_indexer,col_indexer] = value instead\n",
      "\n",
      "See the caveats in the documentation: https://pandas.pydata.org/pandas-docs/stable/user_guide/indexing.html#returning-a-view-versus-a-copy\n",
      "  test_states['ST'] = test_states['ST'].replace(convert_dict)\n"
     ]
    }
   ],
   "source": [
    "test_states['ST'] = test_states['ST'].replace(convert_dict)"
   ],
   "metadata": {
    "collapsed": false,
    "ExecuteTime": {
     "end_time": "2023-12-04T17:39:25.498601Z",
     "start_time": "2023-12-04T17:39:25.364379Z"
    }
   }
  },
  {
   "cell_type": "code",
   "execution_count": 19,
   "outputs": [],
   "source": [
    "test_states_selected = test_states[['ST']]"
   ],
   "metadata": {
    "collapsed": false,
    "ExecuteTime": {
     "end_time": "2023-12-04T17:39:25.498698Z",
     "start_time": "2023-12-04T17:39:25.364477Z"
    }
   }
  },
  {
   "cell_type": "code",
   "execution_count": 20,
   "outputs": [
    {
     "data": {
      "text/plain": "Index(['state', 'count'], dtype='object')"
     },
     "execution_count": 20,
     "metadata": {},
     "output_type": "execute_result"
    }
   ],
   "source": [
    "state_counts = pd.DataFrame(test_states_selected.value_counts()).reset_index()\n",
    "state_counts.rename(columns={'ST': 'state'}, inplace=True)\n",
    "state_counts.columns"
   ],
   "metadata": {
    "collapsed": false,
    "ExecuteTime": {
     "end_time": "2023-12-04T17:39:25.499284Z",
     "start_time": "2023-12-04T17:39:25.407023Z"
    }
   }
  },
  {
   "cell_type": "code",
   "execution_count": 21,
   "outputs": [],
   "source": [
    "rw_2 = pd.merge(rw, state_counts, on='state', how='inner')\n",
    "first_2 = pd.merge(first, state_counts, on='state', how='inner')\n",
    "dirm_2 = pd.merge(dirm, state_counts, on='state', how='inner')\n",
    "fairfed_2 = pd.merge(fairfed, state_counts, on='state', how='inner')"
   ],
   "metadata": {
    "collapsed": false,
    "ExecuteTime": {
     "end_time": "2023-12-04T17:39:25.499329Z",
     "start_time": "2023-12-04T17:39:25.407133Z"
    }
   }
  },
  {
   "cell_type": "code",
   "execution_count": 22,
   "outputs": [],
   "source": [
    "rw_2.to_excel(\"fl_rw_2.xlsx\")\n",
    "first_2.to_excel(\"fl_first_2.xlsx\")\n",
    "dirm_2.to_excel(\"fl_dirm_2.xlsx\")\n",
    "fairfed_2.to_excel(\"fl_fairfed_2.xlsx\")"
   ],
   "metadata": {
    "collapsed": false,
    "ExecuteTime": {
     "end_time": "2023-12-04T17:39:25.499367Z",
     "start_time": "2023-12-04T17:39:25.407177Z"
    }
   }
  },
  {
   "cell_type": "code",
   "execution_count": 22,
   "outputs": [],
   "source": [],
   "metadata": {
    "collapsed": false,
    "ExecuteTime": {
     "end_time": "2023-12-04T17:39:25.500082Z",
     "start_time": "2023-12-04T17:39:25.407236Z"
    }
   }
  }
 ],
 "metadata": {
  "kernelspec": {
   "display_name": "Python 3",
   "language": "python",
   "name": "python3"
  },
  "language_info": {
   "codemirror_mode": {
    "name": "ipython",
    "version": 2
   },
   "file_extension": ".py",
   "mimetype": "text/x-python",
   "name": "python",
   "nbconvert_exporter": "python",
   "pygments_lexer": "ipython2",
   "version": "2.7.6"
  }
 },
 "nbformat": 4,
 "nbformat_minor": 0
}
