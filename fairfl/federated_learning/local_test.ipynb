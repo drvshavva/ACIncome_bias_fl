{
 "cells": [
  {
   "cell_type": "code",
   "execution_count": 9,
   "metadata": {
    "collapsed": true,
    "ExecuteTime": {
     "end_time": "2023-12-02T18:36:06.001443Z",
     "start_time": "2023-12-02T18:36:05.884027Z"
    }
   },
   "outputs": [],
   "source": [
    "import pandas as pd\n",
    "\n",
    "from fairfl.model.preprocess import ACSIncomePreprocess\n",
    "from fairfl.model.model import ACSIncomeModel\n",
    "from fairfl.metrics.bias_metrics import BiasType"
   ]
  },
  {
   "cell_type": "code",
   "execution_count": 10,
   "outputs": [],
   "source": [
    "bias_type = BiasType.race\n",
    "\n",
    "preprocess = ACSIncomePreprocess()\n",
    "model = ACSIncomeModel(bias_type=bias_type)"
   ],
   "metadata": {
    "collapsed": false,
    "ExecuteTime": {
     "end_time": "2023-12-02T18:36:06.017272Z",
     "start_time": "2023-12-02T18:36:05.891733Z"
    }
   }
  },
  {
   "cell_type": "code",
   "execution_count": 11,
   "outputs": [],
   "source": [
    "test = pd.read_csv(\"../../dataset/test_preprocessed_label.csv\").reset_index(drop=True)"
   ],
   "metadata": {
    "collapsed": false,
    "ExecuteTime": {
     "end_time": "2023-12-02T18:36:06.556907Z",
     "start_time": "2023-12-02T18:36:05.995229Z"
    }
   }
  },
  {
   "cell_type": "code",
   "execution_count": 12,
   "outputs": [],
   "source": [
    "import pickle\n",
    "\n",
    "l_model = pickle.load(open(\"20_client_round_5_lfr.pkl\", \"rb\"))"
   ],
   "metadata": {
    "collapsed": false,
    "ExecuteTime": {
     "end_time": "2023-12-02T18:36:06.564406Z",
     "start_time": "2023-12-02T18:36:06.560606Z"
    }
   }
  },
  {
   "cell_type": "code",
   "execution_count": 13,
   "outputs": [
    {
     "name": "stderr",
     "output_type": "stream",
     "text": [
      "/home/safir/.virtualenvs/ACIncome_bias_fl/lib/python3.8/site-packages/sklearn/base.py:458: UserWarning: X has feature names, but LogisticRegression was fitted without feature names\n",
      "  warnings.warn(\n",
      "/home/safir/.virtualenvs/ACIncome_bias_fl/lib/python3.8/site-packages/sklearn/base.py:458: UserWarning: X has feature names, but LogisticRegression was fitted without feature names\n",
      "  warnings.warn(\n",
      "/home/safir/.virtualenvs/ACIncome_bias_fl/lib/python3.8/site-packages/sklearn/base.py:458: UserWarning: X has feature names, but LogisticRegression was fitted without feature names\n",
      "  warnings.warn(\n",
      "/home/safir/.virtualenvs/ACIncome_bias_fl/lib/python3.8/site-packages/sklearn/base.py:458: UserWarning: X has feature names, but LogisticRegression was fitted without feature names\n",
      "  warnings.warn(\n",
      "/home/safir/.virtualenvs/ACIncome_bias_fl/lib/python3.8/site-packages/sklearn/base.py:458: UserWarning: X has feature names, but LogisticRegression was fitted without feature names\n",
      "  warnings.warn(\n",
      "/home/safir/.virtualenvs/ACIncome_bias_fl/lib/python3.8/site-packages/sklearn/base.py:458: UserWarning: X has feature names, but LogisticRegression was fitted without feature names\n",
      "  warnings.warn(\n",
      "/home/safir/.virtualenvs/ACIncome_bias_fl/lib/python3.8/site-packages/sklearn/base.py:458: UserWarning: X has feature names, but LogisticRegression was fitted without feature names\n",
      "  warnings.warn(\n",
      "/home/safir/.virtualenvs/ACIncome_bias_fl/lib/python3.8/site-packages/sklearn/base.py:458: UserWarning: X has feature names, but LogisticRegression was fitted without feature names\n",
      "  warnings.warn(\n",
      "/home/safir/.virtualenvs/ACIncome_bias_fl/lib/python3.8/site-packages/sklearn/base.py:458: UserWarning: X has feature names, but LogisticRegression was fitted without feature names\n",
      "  warnings.warn(\n",
      "/home/safir/.virtualenvs/ACIncome_bias_fl/lib/python3.8/site-packages/sklearn/base.py:458: UserWarning: X has feature names, but LogisticRegression was fitted without feature names\n",
      "  warnings.warn(\n",
      "/home/safir/.virtualenvs/ACIncome_bias_fl/lib/python3.8/site-packages/sklearn/base.py:458: UserWarning: X has feature names, but LogisticRegression was fitted without feature names\n",
      "  warnings.warn(\n",
      "/home/safir/.virtualenvs/ACIncome_bias_fl/lib/python3.8/site-packages/sklearn/base.py:458: UserWarning: X has feature names, but LogisticRegression was fitted without feature names\n",
      "  warnings.warn(\n",
      "/home/safir/.virtualenvs/ACIncome_bias_fl/lib/python3.8/site-packages/sklearn/base.py:458: UserWarning: X has feature names, but LogisticRegression was fitted without feature names\n",
      "  warnings.warn(\n",
      "/home/safir/.virtualenvs/ACIncome_bias_fl/lib/python3.8/site-packages/sklearn/base.py:458: UserWarning: X has feature names, but LogisticRegression was fitted without feature names\n",
      "  warnings.warn(\n",
      "/home/safir/.virtualenvs/ACIncome_bias_fl/lib/python3.8/site-packages/sklearn/base.py:458: UserWarning: X has feature names, but LogisticRegression was fitted without feature names\n",
      "  warnings.warn(\n",
      "/home/safir/.virtualenvs/ACIncome_bias_fl/lib/python3.8/site-packages/sklearn/base.py:458: UserWarning: X has feature names, but LogisticRegression was fitted without feature names\n",
      "  warnings.warn(\n",
      "/home/safir/.virtualenvs/ACIncome_bias_fl/lib/python3.8/site-packages/sklearn/base.py:458: UserWarning: X has feature names, but LogisticRegression was fitted without feature names\n",
      "  warnings.warn(\n",
      "/home/safir/.virtualenvs/ACIncome_bias_fl/lib/python3.8/site-packages/sklearn/base.py:458: UserWarning: X has feature names, but LogisticRegression was fitted without feature names\n",
      "  warnings.warn(\n",
      "/home/safir/.virtualenvs/ACIncome_bias_fl/lib/python3.8/site-packages/sklearn/base.py:458: UserWarning: X has feature names, but LogisticRegression was fitted without feature names\n",
      "  warnings.warn(\n",
      "/home/safir/.virtualenvs/ACIncome_bias_fl/lib/python3.8/site-packages/sklearn/base.py:458: UserWarning: X has feature names, but LogisticRegression was fitted without feature names\n",
      "  warnings.warn(\n"
     ]
    }
   ],
   "source": [
    "states_result_dfs = list()\n",
    "states = [\"MT\", \"WY\", \"ID\", \"VT\", \"UT\", \"SD\", \"ME\", \"NH\", \"OR\", \"ND\", \"IA\", \"AK\", \"HI\", \"NM\", \"NE\", \"CO\", \"WI\", \"MN\", \"WA\", \"WV\"]\n",
    "\n",
    "for state in states:\n",
    "    res = model.print_loaded_model_metrics(test, l_model, state)\n",
    "    states_result_dfs.append(res)"
   ],
   "metadata": {
    "collapsed": false,
    "ExecuteTime": {
     "end_time": "2023-12-02T18:36:07.069482Z",
     "start_time": "2023-12-02T18:36:06.562893Z"
    }
   }
  },
  {
   "cell_type": "code",
   "execution_count": 14,
   "outputs": [],
   "source": [
    "pd.concat(states_result_dfs).to_excel(f\"{bias_type}_fl_lfr.xlsx\", index=False)"
   ],
   "metadata": {
    "collapsed": false,
    "ExecuteTime": {
     "end_time": "2023-12-02T18:36:07.093949Z",
     "start_time": "2023-12-02T18:36:07.062697Z"
    }
   }
  },
  {
   "cell_type": "code",
   "execution_count": 15,
   "outputs": [
    {
     "data": {
      "text/plain": "  state  f1_score  disparate_impact  equal_opportunity_diff  \\\n0    MT  0.538100          0.757867                0.000000   \n0    WY  0.606532          0.748361               -0.500000   \n0    ID  0.590757          0.482509                0.000000   \n0    VT  0.600529          0.297403                0.000000   \n0    UT  0.684720          0.678461               -0.363636   \n0    SD  0.540473          0.000000               -0.500000   \n0    ME  0.613618          0.443561                0.000000   \n0    NH  0.689692          0.576705               -0.500000   \n0    OR  0.647652          0.730392               -0.424242   \n0    ND  0.597826          0.201848               -1.000000   \n0    IA  0.602388          0.201648               -0.375000   \n0    AK  0.596291          1.355014                0.000000   \n0    HI  0.577201          0.893676               -0.142857   \n0    NM  0.601689          0.512533               -0.125000   \n0    NE  0.603595          0.673383               -0.266667   \n0    CO  0.680834          0.681823               -0.245283   \n0    WI  0.615360          0.469511               -0.378788   \n0    MN  0.627163          0.466485               -0.456522   \n0    WA  0.660526          0.611136                0.346667   \n0    WV  0.556943          0.720131               -1.000000   \n\n   statistical_parity  \n0           -0.079873  \n0           -0.084064  \n0           -0.165000  \n0           -0.236245  \n0           -0.096939  \n0           -0.299033  \n0           -0.171065  \n0           -0.155695  \n0           -0.086392  \n0           -0.263616  \n0           -0.252712  \n0            0.097037  \n0           -0.025864  \n0           -0.144732  \n0           -0.109525  \n0           -0.122368  \n0           -0.163471  \n0           -0.179660  \n0           -0.128845  \n0           -0.079720  ",
      "text/html": "<div>\n<style scoped>\n    .dataframe tbody tr th:only-of-type {\n        vertical-align: middle;\n    }\n\n    .dataframe tbody tr th {\n        vertical-align: top;\n    }\n\n    .dataframe thead th {\n        text-align: right;\n    }\n</style>\n<table border=\"1\" class=\"dataframe\">\n  <thead>\n    <tr style=\"text-align: right;\">\n      <th></th>\n      <th>state</th>\n      <th>f1_score</th>\n      <th>disparate_impact</th>\n      <th>equal_opportunity_diff</th>\n      <th>statistical_parity</th>\n    </tr>\n  </thead>\n  <tbody>\n    <tr>\n      <th>0</th>\n      <td>MT</td>\n      <td>0.538100</td>\n      <td>0.757867</td>\n      <td>0.000000</td>\n      <td>-0.079873</td>\n    </tr>\n    <tr>\n      <th>0</th>\n      <td>WY</td>\n      <td>0.606532</td>\n      <td>0.748361</td>\n      <td>-0.500000</td>\n      <td>-0.084064</td>\n    </tr>\n    <tr>\n      <th>0</th>\n      <td>ID</td>\n      <td>0.590757</td>\n      <td>0.482509</td>\n      <td>0.000000</td>\n      <td>-0.165000</td>\n    </tr>\n    <tr>\n      <th>0</th>\n      <td>VT</td>\n      <td>0.600529</td>\n      <td>0.297403</td>\n      <td>0.000000</td>\n      <td>-0.236245</td>\n    </tr>\n    <tr>\n      <th>0</th>\n      <td>UT</td>\n      <td>0.684720</td>\n      <td>0.678461</td>\n      <td>-0.363636</td>\n      <td>-0.096939</td>\n    </tr>\n    <tr>\n      <th>0</th>\n      <td>SD</td>\n      <td>0.540473</td>\n      <td>0.000000</td>\n      <td>-0.500000</td>\n      <td>-0.299033</td>\n    </tr>\n    <tr>\n      <th>0</th>\n      <td>ME</td>\n      <td>0.613618</td>\n      <td>0.443561</td>\n      <td>0.000000</td>\n      <td>-0.171065</td>\n    </tr>\n    <tr>\n      <th>0</th>\n      <td>NH</td>\n      <td>0.689692</td>\n      <td>0.576705</td>\n      <td>-0.500000</td>\n      <td>-0.155695</td>\n    </tr>\n    <tr>\n      <th>0</th>\n      <td>OR</td>\n      <td>0.647652</td>\n      <td>0.730392</td>\n      <td>-0.424242</td>\n      <td>-0.086392</td>\n    </tr>\n    <tr>\n      <th>0</th>\n      <td>ND</td>\n      <td>0.597826</td>\n      <td>0.201848</td>\n      <td>-1.000000</td>\n      <td>-0.263616</td>\n    </tr>\n    <tr>\n      <th>0</th>\n      <td>IA</td>\n      <td>0.602388</td>\n      <td>0.201648</td>\n      <td>-0.375000</td>\n      <td>-0.252712</td>\n    </tr>\n    <tr>\n      <th>0</th>\n      <td>AK</td>\n      <td>0.596291</td>\n      <td>1.355014</td>\n      <td>0.000000</td>\n      <td>0.097037</td>\n    </tr>\n    <tr>\n      <th>0</th>\n      <td>HI</td>\n      <td>0.577201</td>\n      <td>0.893676</td>\n      <td>-0.142857</td>\n      <td>-0.025864</td>\n    </tr>\n    <tr>\n      <th>0</th>\n      <td>NM</td>\n      <td>0.601689</td>\n      <td>0.512533</td>\n      <td>-0.125000</td>\n      <td>-0.144732</td>\n    </tr>\n    <tr>\n      <th>0</th>\n      <td>NE</td>\n      <td>0.603595</td>\n      <td>0.673383</td>\n      <td>-0.266667</td>\n      <td>-0.109525</td>\n    </tr>\n    <tr>\n      <th>0</th>\n      <td>CO</td>\n      <td>0.680834</td>\n      <td>0.681823</td>\n      <td>-0.245283</td>\n      <td>-0.122368</td>\n    </tr>\n    <tr>\n      <th>0</th>\n      <td>WI</td>\n      <td>0.615360</td>\n      <td>0.469511</td>\n      <td>-0.378788</td>\n      <td>-0.163471</td>\n    </tr>\n    <tr>\n      <th>0</th>\n      <td>MN</td>\n      <td>0.627163</td>\n      <td>0.466485</td>\n      <td>-0.456522</td>\n      <td>-0.179660</td>\n    </tr>\n    <tr>\n      <th>0</th>\n      <td>WA</td>\n      <td>0.660526</td>\n      <td>0.611136</td>\n      <td>0.346667</td>\n      <td>-0.128845</td>\n    </tr>\n    <tr>\n      <th>0</th>\n      <td>WV</td>\n      <td>0.556943</td>\n      <td>0.720131</td>\n      <td>-1.000000</td>\n      <td>-0.079720</td>\n    </tr>\n  </tbody>\n</table>\n</div>"
     },
     "execution_count": 15,
     "metadata": {},
     "output_type": "execute_result"
    }
   ],
   "source": [
    "pd.concat(states_result_dfs)"
   ],
   "metadata": {
    "collapsed": false,
    "ExecuteTime": {
     "end_time": "2023-12-02T18:36:07.140423Z",
     "start_time": "2023-12-02T18:36:07.110612Z"
    }
   }
  },
  {
   "cell_type": "code",
   "execution_count": 16,
   "outputs": [],
   "source": [
    "import pandas as pd\n",
    "\n",
    "# Verilen DataFrame\n",
    "original_df = pd.DataFrame(\n",
    "{'f1': [(0, 0.0), (1, 0.63308300183735), (2, 0.6274332277048439), (3, 0.6367601246105918), (4, 0.6338124081574138), (5, 0.6335279874661729)], 'disparate impact': [(0, 0), (1, 0.583069375193597), (2, 0.5811700943816005), (3, 0.6378385670789332), (4, 0.6376344006534255), (5, 0.5788038746461426)], 'equal opportunity diff': [(0, 0.0), (1, -0.14258731142798098), (2, -0.15101467245298614), (3, -0.14341392849762347), (4, -0.12031411448646412), (5, -0.1556871254391403)], 'statistical parity': [(0, 0.0), (1, -0.13519003910616337), (2, -0.13153665985590482), (3, -0.11781236110567028), (4, -0.11622717273071886), (5, -0.13714696724737319)]})\n",
    "\n",
    "# Yeni DataFrame oluşturma\n",
    "new_df = pd.DataFrame({\n",
    "    'f1_values': [item[1] for item in original_df['f1']],\n",
    "    'disparate_impact_values': [item[1] for item in original_df['disparate impact']],\n",
    "    'statistical_parity_values': [item[1] for item in original_df['statistical parity']],\n",
    "    'equal_opportunity_diff_values': [item[1] for item in original_df['equal opportunity diff']]\n",
    "})\n",
    "\n",
    "# Yeni DataFrame'i görüntüleme\n",
    "new_df.to_excel(\"rounds_lfr.xlsx\", index=False)"
   ],
   "metadata": {
    "collapsed": false,
    "ExecuteTime": {
     "end_time": "2023-12-02T18:36:07.140761Z",
     "start_time": "2023-12-02T18:36:07.136667Z"
    }
   }
  },
  {
   "cell_type": "code",
   "execution_count": 16,
   "outputs": [],
   "source": [],
   "metadata": {
    "collapsed": false,
    "ExecuteTime": {
     "end_time": "2023-12-02T18:36:07.221430Z",
     "start_time": "2023-12-02T18:36:07.137946Z"
    }
   }
  }
 ],
 "metadata": {
  "kernelspec": {
   "display_name": "Python 3",
   "language": "python",
   "name": "python3"
  },
  "language_info": {
   "codemirror_mode": {
    "name": "ipython",
    "version": 2
   },
   "file_extension": ".py",
   "mimetype": "text/x-python",
   "name": "python",
   "nbconvert_exporter": "python",
   "pygments_lexer": "ipython2",
   "version": "2.7.6"
  }
 },
 "nbformat": 4,
 "nbformat_minor": 0
}
