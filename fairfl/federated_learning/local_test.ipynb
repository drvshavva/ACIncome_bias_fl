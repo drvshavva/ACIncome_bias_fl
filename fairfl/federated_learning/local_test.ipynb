{
 "cells": [
  {
   "cell_type": "code",
   "execution_count": 1,
   "metadata": {
    "collapsed": true
   },
   "outputs": [],
   "source": [
    "import pandas as pd\n",
    "\n",
    "from fairfl.model.preprocess import ACSIncomePreprocess\n",
    "from fairfl.model.model import ACSIncomeModel\n",
    "from fairfl.metrics.bias_metrics import BiasType\n",
    "from fairfl.utils.constants import states"
   ]
  },
  {
   "cell_type": "code",
   "execution_count": 2,
   "outputs": [],
   "source": [
    "bias_type = BiasType.race\n",
    "\n",
    "preprocess = ACSIncomePreprocess()\n",
    "model = ACSIncomeModel(bias_type=bias_type)"
   ],
   "metadata": {
    "collapsed": false
   }
  },
  {
   "cell_type": "code",
   "execution_count": 3,
   "outputs": [],
   "source": [
    "train, test = preprocess.get_preprocessed_data()"
   ],
   "metadata": {
    "collapsed": false
   }
  },
  {
   "cell_type": "code",
   "execution_count": 8,
   "outputs": [],
   "source": [
    "import pickle\n",
    "\n",
    "l_model = pickle.load(open(\"5_client_round_5_new.pkl\", \"rb\"))"
   ],
   "metadata": {
    "collapsed": false
   }
  },
  {
   "cell_type": "code",
   "execution_count": 9,
   "outputs": [
    {
     "name": "stderr",
     "output_type": "stream",
     "text": [
      "/home/safir/.virtualenvs/ACIncome_bias_fl/lib/python3.10/site-packages/sklearn/base.py:443: UserWarning: X has feature names, but LogisticRegression was fitted without feature names\n",
      "  warnings.warn(\n",
      "/home/safir/.virtualenvs/ACIncome_bias_fl/lib/python3.10/site-packages/sklearn/base.py:443: UserWarning: X has feature names, but LogisticRegression was fitted without feature names\n",
      "  warnings.warn(\n",
      "/home/safir/.virtualenvs/ACIncome_bias_fl/lib/python3.10/site-packages/sklearn/base.py:443: UserWarning: X has feature names, but LogisticRegression was fitted without feature names\n",
      "  warnings.warn(\n",
      "/home/safir/.virtualenvs/ACIncome_bias_fl/lib/python3.10/site-packages/sklearn/base.py:443: UserWarning: X has feature names, but LogisticRegression was fitted without feature names\n",
      "  warnings.warn(\n",
      "/home/safir/.virtualenvs/ACIncome_bias_fl/lib/python3.10/site-packages/sklearn/base.py:443: UserWarning: X has feature names, but LogisticRegression was fitted without feature names\n",
      "  warnings.warn(\n"
     ]
    }
   ],
   "source": [
    "states_result_dfs = list()\n",
    "states_2 = [\"MT\", \"NH\", \"ND\", \"ME\", \"SD\"]\n",
    "for state in states_2:\n",
    "    res = model.print_loaded_model_metrics(test, l_model, state)\n",
    "    states_result_dfs.append(res)"
   ],
   "metadata": {
    "collapsed": false
   }
  },
  {
   "cell_type": "code",
   "execution_count": 11,
   "outputs": [],
   "source": [
    "pd.concat(states_result_dfs).to_excel(f\"{bias_type}_fl_new3.xlsx\", index=False)"
   ],
   "metadata": {
    "collapsed": false
   }
  },
  {
   "cell_type": "code",
   "execution_count": 7,
   "outputs": [
    {
     "data": {
      "text/plain": "  state  accuracy  precision    recall  f1_score  disparate_impact  \\\n0    SD  0.782341   0.573446  0.548649  0.560773          3.169199   \n0    ME  0.791103   0.647059  0.580920  0.612208          1.878136   \n0    ID  0.794747   0.653251  0.597734  0.624260          0.847482   \n0    ND  0.752640   0.712366  0.545267  0.617716          1.407323   \n0    WY  0.755700   0.719368  0.541667  0.617997          0.730194   \n\n   specificity_difference  statistical_parity  equal_opportunity_diff  \n0               -0.002833           -0.166861               -0.000913  \n0                0.240548           -0.119746                0.000000  \n0               -0.013825            0.046929                0.000000  \n0                0.000000           -0.081465               -0.001060  \n0                0.000000            0.101177                0.000000  ",
      "text/html": "<div>\n<style scoped>\n    .dataframe tbody tr th:only-of-type {\n        vertical-align: middle;\n    }\n\n    .dataframe tbody tr th {\n        vertical-align: top;\n    }\n\n    .dataframe thead th {\n        text-align: right;\n    }\n</style>\n<table border=\"1\" class=\"dataframe\">\n  <thead>\n    <tr style=\"text-align: right;\">\n      <th></th>\n      <th>state</th>\n      <th>accuracy</th>\n      <th>precision</th>\n      <th>recall</th>\n      <th>f1_score</th>\n      <th>disparate_impact</th>\n      <th>specificity_difference</th>\n      <th>statistical_parity</th>\n      <th>equal_opportunity_diff</th>\n    </tr>\n  </thead>\n  <tbody>\n    <tr>\n      <th>0</th>\n      <td>SD</td>\n      <td>0.782341</td>\n      <td>0.573446</td>\n      <td>0.548649</td>\n      <td>0.560773</td>\n      <td>3.169199</td>\n      <td>-0.002833</td>\n      <td>-0.166861</td>\n      <td>-0.000913</td>\n    </tr>\n    <tr>\n      <th>0</th>\n      <td>ME</td>\n      <td>0.791103</td>\n      <td>0.647059</td>\n      <td>0.580920</td>\n      <td>0.612208</td>\n      <td>1.878136</td>\n      <td>0.240548</td>\n      <td>-0.119746</td>\n      <td>0.000000</td>\n    </tr>\n    <tr>\n      <th>0</th>\n      <td>ID</td>\n      <td>0.794747</td>\n      <td>0.653251</td>\n      <td>0.597734</td>\n      <td>0.624260</td>\n      <td>0.847482</td>\n      <td>-0.013825</td>\n      <td>0.046929</td>\n      <td>0.000000</td>\n    </tr>\n    <tr>\n      <th>0</th>\n      <td>ND</td>\n      <td>0.752640</td>\n      <td>0.712366</td>\n      <td>0.545267</td>\n      <td>0.617716</td>\n      <td>1.407323</td>\n      <td>0.000000</td>\n      <td>-0.081465</td>\n      <td>-0.001060</td>\n    </tr>\n    <tr>\n      <th>0</th>\n      <td>WY</td>\n      <td>0.755700</td>\n      <td>0.719368</td>\n      <td>0.541667</td>\n      <td>0.617997</td>\n      <td>0.730194</td>\n      <td>0.000000</td>\n      <td>0.101177</td>\n      <td>0.000000</td>\n    </tr>\n  </tbody>\n</table>\n</div>"
     },
     "execution_count": 7,
     "metadata": {},
     "output_type": "execute_result"
    }
   ],
   "source": [
    "pd.concat(states_result_dfs).head()"
   ],
   "metadata": {
    "collapsed": false
   }
  },
  {
   "cell_type": "code",
   "execution_count": 7,
   "outputs": [],
   "source": [],
   "metadata": {
    "collapsed": false
   }
  }
 ],
 "metadata": {
  "kernelspec": {
   "display_name": "Python 3",
   "language": "python",
   "name": "python3"
  },
  "language_info": {
   "codemirror_mode": {
    "name": "ipython",
    "version": 2
   },
   "file_extension": ".py",
   "mimetype": "text/x-python",
   "name": "python",
   "nbconvert_exporter": "python",
   "pygments_lexer": "ipython2",
   "version": "2.7.6"
  }
 },
 "nbformat": 4,
 "nbformat_minor": 0
}
