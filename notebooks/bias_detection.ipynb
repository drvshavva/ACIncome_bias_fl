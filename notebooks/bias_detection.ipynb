{
 "cells": [
  {
   "cell_type": "code",
   "execution_count": 1,
   "metadata": {
    "collapsed": true
   },
   "outputs": [],
   "source": [
    "import warnings\n",
    "warnings.filterwarnings('ignore')"
   ]
  },
  {
   "cell_type": "code",
   "execution_count": 2,
   "outputs": [],
   "source": [
    "from fairfl.model.preprocess import ACSIncomePreprocess\n",
    "from fairfl.utils.read_data import DatasetUtils\n",
    "from fairfl.model.model import ACSIncomeModel"
   ],
   "metadata": {
    "collapsed": false
   }
  },
  {
   "cell_type": "code",
   "execution_count": 3,
   "outputs": [],
   "source": [
    "preprocess = ACSIncomePreprocess()\n",
    "model = ACSIncomeModel()\n",
    "dataset_utils = DatasetUtils()"
   ],
   "metadata": {
    "collapsed": false
   }
  },
  {
   "cell_type": "markdown",
   "source": [
    "# ML Pipeline & Bias Metrics Calculation for All States"
   ],
   "metadata": {
    "collapsed": false
   }
  },
  {
   "cell_type": "code",
   "execution_count": 4,
   "outputs": [],
   "source": [
    "train, test = preprocess.get_preprocessed_data()"
   ],
   "metadata": {
    "collapsed": false
   }
  },
  {
   "cell_type": "code",
   "execution_count": 5,
   "outputs": [
    {
     "data": {
      "text/plain": "   AGEP  SCHL   POBP  WKHP    ST  PINCP  COW_1.0  COW_2.0  COW_3.0  COW_4.0  \\\n0   0.0   1.0   39.0   1.0  39.0      0        1        0        0        0   \n1   1.0   7.0   18.0   2.0  26.0      0        1        0        0        0   \n2   2.0   2.0   36.0   2.0  36.0      1        1        0        0        0   \n3   1.0   6.0   33.0   1.0  13.0      1        1        0        0        0   \n4   1.0   2.0  333.0   1.0  12.0      0        0        1        0        0   \n\n   ...  RELP_12.0  RELP_13.0  RELP_14.0  RELP_15.0  RELP_16.0  RELP_17.0  \\\n0  ...          0          0          0          0          0          0   \n1  ...          0          0          0          0          0          0   \n2  ...          0          0          0          0          0          0   \n3  ...          0          0          0          0          0          0   \n4  ...          0          0          0          0          0          1   \n\n   RAC1P_White alone  RAC1P_others  SEX_Female  SEX_Male  \n0                  1             0           0         1  \n1                  1             0           1         0  \n2                  1             0           0         1  \n3                  1             0           0         1  \n4                  0             1           1         0  \n\n[5 rows x 570 columns]",
      "text/html": "<div>\n<style scoped>\n    .dataframe tbody tr th:only-of-type {\n        vertical-align: middle;\n    }\n\n    .dataframe tbody tr th {\n        vertical-align: top;\n    }\n\n    .dataframe thead th {\n        text-align: right;\n    }\n</style>\n<table border=\"1\" class=\"dataframe\">\n  <thead>\n    <tr style=\"text-align: right;\">\n      <th></th>\n      <th>AGEP</th>\n      <th>SCHL</th>\n      <th>POBP</th>\n      <th>WKHP</th>\n      <th>ST</th>\n      <th>PINCP</th>\n      <th>COW_1.0</th>\n      <th>COW_2.0</th>\n      <th>COW_3.0</th>\n      <th>COW_4.0</th>\n      <th>...</th>\n      <th>RELP_12.0</th>\n      <th>RELP_13.0</th>\n      <th>RELP_14.0</th>\n      <th>RELP_15.0</th>\n      <th>RELP_16.0</th>\n      <th>RELP_17.0</th>\n      <th>RAC1P_White alone</th>\n      <th>RAC1P_others</th>\n      <th>SEX_Female</th>\n      <th>SEX_Male</th>\n    </tr>\n  </thead>\n  <tbody>\n    <tr>\n      <th>0</th>\n      <td>0.0</td>\n      <td>1.0</td>\n      <td>39.0</td>\n      <td>1.0</td>\n      <td>39.0</td>\n      <td>0</td>\n      <td>1</td>\n      <td>0</td>\n      <td>0</td>\n      <td>0</td>\n      <td>...</td>\n      <td>0</td>\n      <td>0</td>\n      <td>0</td>\n      <td>0</td>\n      <td>0</td>\n      <td>0</td>\n      <td>1</td>\n      <td>0</td>\n      <td>0</td>\n      <td>1</td>\n    </tr>\n    <tr>\n      <th>1</th>\n      <td>1.0</td>\n      <td>7.0</td>\n      <td>18.0</td>\n      <td>2.0</td>\n      <td>26.0</td>\n      <td>0</td>\n      <td>1</td>\n      <td>0</td>\n      <td>0</td>\n      <td>0</td>\n      <td>...</td>\n      <td>0</td>\n      <td>0</td>\n      <td>0</td>\n      <td>0</td>\n      <td>0</td>\n      <td>0</td>\n      <td>1</td>\n      <td>0</td>\n      <td>1</td>\n      <td>0</td>\n    </tr>\n    <tr>\n      <th>2</th>\n      <td>2.0</td>\n      <td>2.0</td>\n      <td>36.0</td>\n      <td>2.0</td>\n      <td>36.0</td>\n      <td>1</td>\n      <td>1</td>\n      <td>0</td>\n      <td>0</td>\n      <td>0</td>\n      <td>...</td>\n      <td>0</td>\n      <td>0</td>\n      <td>0</td>\n      <td>0</td>\n      <td>0</td>\n      <td>0</td>\n      <td>1</td>\n      <td>0</td>\n      <td>0</td>\n      <td>1</td>\n    </tr>\n    <tr>\n      <th>3</th>\n      <td>1.0</td>\n      <td>6.0</td>\n      <td>33.0</td>\n      <td>1.0</td>\n      <td>13.0</td>\n      <td>1</td>\n      <td>1</td>\n      <td>0</td>\n      <td>0</td>\n      <td>0</td>\n      <td>...</td>\n      <td>0</td>\n      <td>0</td>\n      <td>0</td>\n      <td>0</td>\n      <td>0</td>\n      <td>0</td>\n      <td>1</td>\n      <td>0</td>\n      <td>0</td>\n      <td>1</td>\n    </tr>\n    <tr>\n      <th>4</th>\n      <td>1.0</td>\n      <td>2.0</td>\n      <td>333.0</td>\n      <td>1.0</td>\n      <td>12.0</td>\n      <td>0</td>\n      <td>0</td>\n      <td>1</td>\n      <td>0</td>\n      <td>0</td>\n      <td>...</td>\n      <td>0</td>\n      <td>0</td>\n      <td>0</td>\n      <td>0</td>\n      <td>0</td>\n      <td>1</td>\n      <td>0</td>\n      <td>1</td>\n      <td>1</td>\n      <td>0</td>\n    </tr>\n  </tbody>\n</table>\n<p>5 rows × 570 columns</p>\n</div>"
     },
     "execution_count": 5,
     "metadata": {},
     "output_type": "execute_result"
    }
   ],
   "source": [
    "train.head()"
   ],
   "metadata": {
    "collapsed": false
   }
  },
  {
   "cell_type": "code",
   "execution_count": 6,
   "outputs": [
    {
     "data": {
      "text/plain": "   AGEP  SCHL  POBP  WKHP    ST  PINCP  COW_1.0  COW_2.0  COW_3.0  COW_4.0  \\\n0   1.0   3.0  37.0   2.0  17.0      0        1        0        0        0   \n1   2.0   3.0  36.0   1.0   9.0      0        0        0        0        0   \n2   0.0   6.0  36.0   1.0  17.0      1        1        0        0        0   \n3   1.0   6.0  17.0   2.0  17.0      1        1        0        0        0   \n4   1.0   9.0  34.0   1.0   9.0      1        1        0        0        0   \n\n   ...  RELP_12.0  RELP_13.0  RELP_14.0  RELP_15.0  RELP_16.0  RELP_17.0  \\\n0  ...          0          1          0          0          0          0   \n1  ...          0          0          0          0          0          0   \n2  ...          0          0          0          0          0          0   \n3  ...          0          0          0          0          0          0   \n4  ...          0          0          0          0          0          0   \n\n   RAC1P_White alone  RAC1P_others  SEX_Female  SEX_Male  \n0                  1             0           1         0  \n1                  0             1           0         1  \n2                  1             0           0         1  \n3                  1             0           1         0  \n4                  1             0           1         0  \n\n[5 rows x 570 columns]",
      "text/html": "<div>\n<style scoped>\n    .dataframe tbody tr th:only-of-type {\n        vertical-align: middle;\n    }\n\n    .dataframe tbody tr th {\n        vertical-align: top;\n    }\n\n    .dataframe thead th {\n        text-align: right;\n    }\n</style>\n<table border=\"1\" class=\"dataframe\">\n  <thead>\n    <tr style=\"text-align: right;\">\n      <th></th>\n      <th>AGEP</th>\n      <th>SCHL</th>\n      <th>POBP</th>\n      <th>WKHP</th>\n      <th>ST</th>\n      <th>PINCP</th>\n      <th>COW_1.0</th>\n      <th>COW_2.0</th>\n      <th>COW_3.0</th>\n      <th>COW_4.0</th>\n      <th>...</th>\n      <th>RELP_12.0</th>\n      <th>RELP_13.0</th>\n      <th>RELP_14.0</th>\n      <th>RELP_15.0</th>\n      <th>RELP_16.0</th>\n      <th>RELP_17.0</th>\n      <th>RAC1P_White alone</th>\n      <th>RAC1P_others</th>\n      <th>SEX_Female</th>\n      <th>SEX_Male</th>\n    </tr>\n  </thead>\n  <tbody>\n    <tr>\n      <th>0</th>\n      <td>1.0</td>\n      <td>3.0</td>\n      <td>37.0</td>\n      <td>2.0</td>\n      <td>17.0</td>\n      <td>0</td>\n      <td>1</td>\n      <td>0</td>\n      <td>0</td>\n      <td>0</td>\n      <td>...</td>\n      <td>0</td>\n      <td>1</td>\n      <td>0</td>\n      <td>0</td>\n      <td>0</td>\n      <td>0</td>\n      <td>1</td>\n      <td>0</td>\n      <td>1</td>\n      <td>0</td>\n    </tr>\n    <tr>\n      <th>1</th>\n      <td>2.0</td>\n      <td>3.0</td>\n      <td>36.0</td>\n      <td>1.0</td>\n      <td>9.0</td>\n      <td>0</td>\n      <td>0</td>\n      <td>0</td>\n      <td>0</td>\n      <td>0</td>\n      <td>...</td>\n      <td>0</td>\n      <td>0</td>\n      <td>0</td>\n      <td>0</td>\n      <td>0</td>\n      <td>0</td>\n      <td>0</td>\n      <td>1</td>\n      <td>0</td>\n      <td>1</td>\n    </tr>\n    <tr>\n      <th>2</th>\n      <td>0.0</td>\n      <td>6.0</td>\n      <td>36.0</td>\n      <td>1.0</td>\n      <td>17.0</td>\n      <td>1</td>\n      <td>1</td>\n      <td>0</td>\n      <td>0</td>\n      <td>0</td>\n      <td>...</td>\n      <td>0</td>\n      <td>0</td>\n      <td>0</td>\n      <td>0</td>\n      <td>0</td>\n      <td>0</td>\n      <td>1</td>\n      <td>0</td>\n      <td>0</td>\n      <td>1</td>\n    </tr>\n    <tr>\n      <th>3</th>\n      <td>1.0</td>\n      <td>6.0</td>\n      <td>17.0</td>\n      <td>2.0</td>\n      <td>17.0</td>\n      <td>1</td>\n      <td>1</td>\n      <td>0</td>\n      <td>0</td>\n      <td>0</td>\n      <td>...</td>\n      <td>0</td>\n      <td>0</td>\n      <td>0</td>\n      <td>0</td>\n      <td>0</td>\n      <td>0</td>\n      <td>1</td>\n      <td>0</td>\n      <td>1</td>\n      <td>0</td>\n    </tr>\n    <tr>\n      <th>4</th>\n      <td>1.0</td>\n      <td>9.0</td>\n      <td>34.0</td>\n      <td>1.0</td>\n      <td>9.0</td>\n      <td>1</td>\n      <td>1</td>\n      <td>0</td>\n      <td>0</td>\n      <td>0</td>\n      <td>...</td>\n      <td>0</td>\n      <td>0</td>\n      <td>0</td>\n      <td>0</td>\n      <td>0</td>\n      <td>0</td>\n      <td>1</td>\n      <td>0</td>\n      <td>1</td>\n      <td>0</td>\n    </tr>\n  </tbody>\n</table>\n<p>5 rows × 570 columns</p>\n</div>"
     },
     "execution_count": 6,
     "metadata": {},
     "output_type": "execute_result"
    }
   ],
   "source": [
    "test.head()"
   ],
   "metadata": {
    "collapsed": false
   }
  },
  {
   "cell_type": "code",
   "execution_count": 7,
   "outputs": [
    {
     "data": {
      "text/plain": "   egitim_ornek_sayisi  test_ornek_sayisi  accuracy  precision   recall  \\\n0              1165150             499350  0.774405   0.713146  0.64819   \n\n   f1_score  disparate_impact  equal_opportunity_diff  statistical_parity  \\\n0  0.679118           1.62021                0.145429            0.139926   \n\n   equal_opportunity  \n0           0.107196  ",
      "text/html": "<div>\n<style scoped>\n    .dataframe tbody tr th:only-of-type {\n        vertical-align: middle;\n    }\n\n    .dataframe tbody tr th {\n        vertical-align: top;\n    }\n\n    .dataframe thead th {\n        text-align: right;\n    }\n</style>\n<table border=\"1\" class=\"dataframe\">\n  <thead>\n    <tr style=\"text-align: right;\">\n      <th></th>\n      <th>egitim_ornek_sayisi</th>\n      <th>test_ornek_sayisi</th>\n      <th>accuracy</th>\n      <th>precision</th>\n      <th>recall</th>\n      <th>f1_score</th>\n      <th>disparate_impact</th>\n      <th>equal_opportunity_diff</th>\n      <th>statistical_parity</th>\n      <th>equal_opportunity</th>\n    </tr>\n  </thead>\n  <tbody>\n    <tr>\n      <th>0</th>\n      <td>1165150</td>\n      <td>499350</td>\n      <td>0.774405</td>\n      <td>0.713146</td>\n      <td>0.64819</td>\n      <td>0.679118</td>\n      <td>1.62021</td>\n      <td>0.145429</td>\n      <td>0.139926</td>\n      <td>0.107196</td>\n    </tr>\n  </tbody>\n</table>\n</div>"
     },
     "execution_count": 7,
     "metadata": {},
     "output_type": "execute_result"
    }
   ],
   "source": [
    "model.print_model_metrics(train, test)"
   ],
   "metadata": {
    "collapsed": false
   }
  },
  {
   "cell_type": "markdown",
   "source": [
    "# Bias Detection Selected States"
   ],
   "metadata": {
    "collapsed": false
   }
  },
  {
   "cell_type": "code",
   "execution_count": 8,
   "outputs": [],
   "source": [
    "# get selected states data\n",
    "states = [\"SD\", \"ME\", \"ID\", \"ND\", \"WY\"]\n",
    "train_states = dataset_utils.get_selected_states(train, states)"
   ],
   "metadata": {
    "collapsed": false
   }
  },
  {
   "cell_type": "code",
   "execution_count": 19,
   "outputs": [],
   "source": [
    "test = test.drop(\"ST\", axis=1)"
   ],
   "metadata": {
    "collapsed": false
   }
  },
  {
   "cell_type": "code",
   "execution_count": 21,
   "outputs": [
    {
     "data": {
      "text/plain": "   egitim_ornek_sayisi  test_ornek_sayisi  accuracy  precision    recall  \\\n0                19434             249675  0.760629    0.77071  0.499278   \n\n   f1_score  disparate_impact  equal_opportunity_diff  statistical_parity  \\\n0  0.605987          6.619094                0.088822            0.249239   \n\n   equal_opportunity  \n0           0.249147  ",
      "text/html": "<div>\n<style scoped>\n    .dataframe tbody tr th:only-of-type {\n        vertical-align: middle;\n    }\n\n    .dataframe tbody tr th {\n        vertical-align: top;\n    }\n\n    .dataframe thead th {\n        text-align: right;\n    }\n</style>\n<table border=\"1\" class=\"dataframe\">\n  <thead>\n    <tr style=\"text-align: right;\">\n      <th></th>\n      <th>egitim_ornek_sayisi</th>\n      <th>test_ornek_sayisi</th>\n      <th>accuracy</th>\n      <th>precision</th>\n      <th>recall</th>\n      <th>f1_score</th>\n      <th>disparate_impact</th>\n      <th>equal_opportunity_diff</th>\n      <th>statistical_parity</th>\n      <th>equal_opportunity</th>\n    </tr>\n  </thead>\n  <tbody>\n    <tr>\n      <th>0</th>\n      <td>19434</td>\n      <td>249675</td>\n      <td>0.760629</td>\n      <td>0.77071</td>\n      <td>0.499278</td>\n      <td>0.605987</td>\n      <td>6.619094</td>\n      <td>0.088822</td>\n      <td>0.249239</td>\n      <td>0.249147</td>\n    </tr>\n  </tbody>\n</table>\n</div>"
     },
     "execution_count": 21,
     "metadata": {},
     "output_type": "execute_result"
    }
   ],
   "source": [
    "model.print_model_metrics(train_states, test)"
   ],
   "metadata": {
    "collapsed": false
   }
  },
  {
   "cell_type": "code",
   "execution_count": null,
   "outputs": [],
   "source": [],
   "metadata": {
    "collapsed": false
   }
  }
 ],
 "metadata": {
  "kernelspec": {
   "display_name": "Python 3",
   "language": "python",
   "name": "python3"
  },
  "language_info": {
   "codemirror_mode": {
    "name": "ipython",
    "version": 2
   },
   "file_extension": ".py",
   "mimetype": "text/x-python",
   "name": "python",
   "nbconvert_exporter": "python",
   "pygments_lexer": "ipython2",
   "version": "2.7.6"
  }
 },
 "nbformat": 4,
 "nbformat_minor": 0
}
