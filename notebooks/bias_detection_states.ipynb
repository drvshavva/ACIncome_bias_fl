{
 "cells": [
  {
   "cell_type": "code",
   "execution_count": 1,
   "metadata": {
    "collapsed": true,
    "ExecuteTime": {
     "end_time": "2023-12-04T17:15:33.940099Z",
     "start_time": "2023-12-04T17:15:33.932770Z"
    }
   },
   "outputs": [],
   "source": [
    "import warnings\n",
    "\n",
    "warnings.filterwarnings('ignore')"
   ]
  },
  {
   "cell_type": "code",
   "execution_count": 2,
   "outputs": [],
   "source": [
    "import pandas as pd\n",
    "\n",
    "from fairfl.model.preprocess import ACSIncomePreprocess\n",
    "from fairfl.model.model import ACSIncomeModel\n",
    "from fairfl.metrics.bias_metrics import BiasType\n",
    "from fairfl.utils.constants import states"
   ],
   "metadata": {
    "collapsed": false,
    "ExecuteTime": {
     "end_time": "2023-12-04T17:15:36.786931Z",
     "start_time": "2023-12-04T17:15:34.767752Z"
    }
   }
  },
  {
   "cell_type": "code",
   "execution_count": 3,
   "outputs": [],
   "source": [
    "bias_type = BiasType.race\n",
    "\n",
    "preprocess = ACSIncomePreprocess()\n",
    "model = ACSIncomeModel(bias_type=bias_type)"
   ],
   "metadata": {
    "collapsed": false,
    "ExecuteTime": {
     "end_time": "2023-12-04T17:15:37.023999Z",
     "start_time": "2023-12-04T17:15:36.954352Z"
    }
   }
  },
  {
   "cell_type": "markdown",
   "source": [
    "## Bias Metrics Calculation for each State"
   ],
   "metadata": {
    "collapsed": false
   }
  },
  {
   "cell_type": "code",
   "execution_count": 4,
   "outputs": [],
   "source": [
    "test = pd.read_csv(\"../dataset/test_preprocessed_label.csv\").reset_index(drop=True)\n",
    "train = pd.read_csv(\"../dataset/train_preprocessed_label.csv\").reset_index(drop=True)"
   ],
   "metadata": {
    "collapsed": false,
    "ExecuteTime": {
     "end_time": "2023-12-04T17:15:52.669382Z",
     "start_time": "2023-12-04T17:15:51.272219Z"
    }
   }
  },
  {
   "cell_type": "code",
   "execution_count": 5,
   "outputs": [],
   "source": [
    "# eğitim öncesi metriklerin hesaplanması\n",
    "states_metrics = list()\n",
    "for state in states:\n",
    "    bias_metrics = model.print_before_bias_metrics_for_state(train, test, state)\n",
    "    states_metrics.append(bias_metrics)"
   ],
   "metadata": {
    "collapsed": false,
    "ExecuteTime": {
     "end_time": "2023-12-04T17:15:56.935440Z",
     "start_time": "2023-12-04T17:15:55.789400Z"
    }
   }
  },
  {
   "cell_type": "code",
   "execution_count": 6,
   "outputs": [],
   "source": [
    "pd.concat(states_metrics).to_excel(f\"{bias_type}_bias_before_train.xlsx\", index=False)"
   ],
   "metadata": {
    "collapsed": false
   }
  },
  {
   "cell_type": "code",
   "execution_count": 6,
   "outputs": [],
   "source": [
    "# eğitim sonrasın metriklerin hesaplanması\n",
    "states_result_dfs = list()\n",
    "states_selected = [\"MT\", \"WY\", \"ID\", \"VT\", \"UT\", \"SD\", \"ME\", \"NH\", \"OR\", \"ND\", \"IA\", \"AK\", \"HI\", \"NM\", \"NE\", \"CO\", \"WI\", \"MN\",\n",
    "          \"WA\", \"WV\"]\n",
    "for state in states_selected:\n",
    "    res = model.print_model_metrics_for_state(train, test, state)\n",
    "    states_result_dfs.append(res)"
   ],
   "metadata": {
    "collapsed": false,
    "ExecuteTime": {
     "end_time": "2023-12-04T17:16:29.415568Z",
     "start_time": "2023-12-04T17:16:27.170092Z"
    }
   }
  },
  {
   "cell_type": "code",
   "execution_count": 7,
   "outputs": [],
   "source": [
    "pd.concat(states_result_dfs).to_excel(f\"../results/{bias_type}_local.xlsx\", index=False)"
   ],
   "metadata": {
    "collapsed": false,
    "ExecuteTime": {
     "end_time": "2023-12-04T17:16:41.251950Z",
     "start_time": "2023-12-04T17:16:41.102209Z"
    }
   }
  },
  {
   "cell_type": "code",
   "execution_count": 8,
   "outputs": [],
   "source": [],
   "metadata": {
    "collapsed": false
   }
  }
 ],
 "metadata": {
  "kernelspec": {
   "display_name": "Python 3",
   "language": "python",
   "name": "python3"
  },
  "language_info": {
   "codemirror_mode": {
    "name": "ipython",
    "version": 2
   },
   "file_extension": ".py",
   "mimetype": "text/x-python",
   "name": "python",
   "nbconvert_exporter": "python",
   "pygments_lexer": "ipython2",
   "version": "2.7.6"
  }
 },
 "nbformat": 4,
 "nbformat_minor": 0
}
