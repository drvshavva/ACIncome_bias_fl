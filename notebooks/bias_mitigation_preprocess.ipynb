{
 "cells": [
  {
   "cell_type": "code",
   "execution_count": 1,
   "outputs": [],
   "source": [
    "import warnings\n",
    "\n",
    "import pandas as pd\n",
    "\n",
    "warnings.filterwarnings('ignore')"
   ],
   "metadata": {
    "collapsed": false,
    "ExecuteTime": {
     "end_time": "2023-12-02T11:59:11.545492Z",
     "start_time": "2023-12-02T11:59:11.201154Z"
    }
   },
   "id": "d2318b1684b00b84"
  },
  {
   "cell_type": "code",
   "execution_count": 2,
   "id": "initial_id",
   "metadata": {
    "collapsed": true,
    "ExecuteTime": {
     "end_time": "2023-12-02T11:59:12.803639Z",
     "start_time": "2023-12-02T11:59:11.566680Z"
    }
   },
   "outputs": [
    {
     "name": "stderr",
     "output_type": "stream",
     "text": [
      "WARNING:root:No module named 'tempeh': LawSchoolGPADataset will be unavailable. To install, run:\n",
      "pip install 'aif360[LawSchoolGPA]'\n",
      "WARNING:root:No module named 'tensorflow': AdversarialDebiasing will be unavailable. To install, run:\n",
      "pip install 'aif360[AdversarialDebiasing]'\n",
      "WARNING:root:No module named 'tensorflow': AdversarialDebiasing will be unavailable. To install, run:\n",
      "pip install 'aif360[AdversarialDebiasing]'\n"
     ]
    }
   ],
   "source": [
    "import pandas as pd\n",
    "from fairfl.utils.read_data import DatasetUtils\n",
    "import matplotlib.pyplot as plt\n",
    "\n",
    "from aif360.algorithms.preprocessing import Reweighing\n",
    "from aif360.datasets import BinaryLabelDataset\n",
    "from fairfl.model.model import ACSIncomeModel\n",
    "from fairfl.metrics.bias_metrics import BiasType\n",
    "from fairfl.utils.constants import states"
   ]
  },
  {
   "cell_type": "code",
   "execution_count": 3,
   "outputs": [],
   "source": [
    "utils = DatasetUtils()\n",
    "bias_type = BiasType.race\n",
    "\n",
    "model = ACSIncomeModel(bias_type=bias_type)\n",
    "states_selected = [\"MT\", \"NH\", \"ND\", \"ME\", \"SD\"]"
   ],
   "metadata": {
    "collapsed": false,
    "ExecuteTime": {
     "end_time": "2023-12-02T11:59:13.435758Z",
     "start_time": "2023-12-02T11:59:13.425604Z"
    }
   },
   "id": "29e85b8c9410646f"
  },
  {
   "cell_type": "code",
   "execution_count": 4,
   "outputs": [],
   "source": [
    "train = pd.read_csv(\"../dataset/train_preprocessed.csv\")\n",
    "test = pd.read_csv(\"../dataset/test_preprocessed.csv\")"
   ],
   "metadata": {
    "collapsed": false,
    "ExecuteTime": {
     "end_time": "2023-12-02T12:00:38.274479Z",
     "start_time": "2023-12-02T11:59:14.307292Z"
    }
   },
   "id": "31d70c04e1a97fc1"
  },
  {
   "cell_type": "code",
   "execution_count": 5,
   "outputs": [],
   "source": [
    "train_selected_states = utils.get_selected_states(train, states_selected, False).reset_index(drop=True)\n",
    "test_selected_states = utils.get_selected_states(test, states_selected, False).reset_index(drop=True)"
   ],
   "metadata": {
    "collapsed": false,
    "ExecuteTime": {
     "end_time": "2023-12-02T12:00:38.713590Z",
     "start_time": "2023-12-02T12:00:38.320277Z"
    }
   },
   "id": "293ec652fa2ad746"
  },
  {
   "cell_type": "code",
   "execution_count": 6,
   "outputs": [],
   "source": [
    "train_dataset = BinaryLabelDataset(df=train_selected_states,\n",
    "                                   favorable_label=1, unfavorable_label=0,\n",
    "                                   label_names=['PINCP'], protected_attribute_names=['RAC1P'],\n",
    "                                   privileged_protected_attributes=[[1]],\n",
    "                                   unprivileged_protected_attributes=[[0]])\n"
   ],
   "metadata": {
    "collapsed": false,
    "ExecuteTime": {
     "end_time": "2023-12-02T12:00:38.813302Z",
     "start_time": "2023-12-02T12:00:38.713415Z"
    }
   },
   "id": "f3c67d8d1fca9244"
  },
  {
   "cell_type": "code",
   "execution_count": 7,
   "outputs": [],
   "source": [
    "privileged_groups = [{'RAC1P': 1}]\n",
    "unprivileged_groups = [{'RAC1P': 0}]\n",
    "\n",
    "RW = Reweighing(unprivileged_groups=unprivileged_groups,\n",
    "                privileged_groups=privileged_groups)\n",
    "dataset_transf_train = RW.fit_transform(train_dataset)"
   ],
   "metadata": {
    "collapsed": false,
    "ExecuteTime": {
     "end_time": "2023-12-02T12:00:38.913130Z",
     "start_time": "2023-12-02T12:00:38.815681Z"
    }
   },
   "id": "96662814af0e010b"
  },
  {
   "cell_type": "code",
   "execution_count": 8,
   "outputs": [],
   "source": [
    "train_transformed = dataset_transf_train.convert_to_dataframe()[0]"
   ],
   "metadata": {
    "collapsed": false,
    "ExecuteTime": {
     "end_time": "2023-12-02T12:00:38.955981Z",
     "start_time": "2023-12-02T12:00:38.923201Z"
    }
   },
   "id": "6bf8a65802d3fc75"
  },
  {
   "cell_type": "code",
   "execution_count": 13,
   "outputs": [],
   "source": [
    "states_result_dfs = list()\n",
    "states_selected = [\"MT\", \"NH\", \"ND\", \"ME\", \"SD\"]\n",
    "for state in states_selected:\n",
    "    res = model.print_model_metrics_for_state(train_transformed, test, state)\n",
    "    states_result_dfs.append(res)"
   ],
   "metadata": {
    "collapsed": false,
    "ExecuteTime": {
     "end_time": "2023-12-02T12:05:22.436739Z",
     "start_time": "2023-12-02T12:05:20.926380Z"
    }
   },
   "id": "46205b3914858570"
  },
  {
   "cell_type": "code",
   "execution_count": 14,
   "outputs": [
    {
     "data": {
      "text/plain": "  state  egitim_ornek_sayisi  test_ornek_sayisi  f1_score  disparate_impact  \\\n0    MT                 3725               1738  0.581395          0.424452   \n0    NH                 5584               2382  0.742290          1.174968   \n0    ND                 3129               1326  0.670247          1.261442   \n0    ME                 4934               2068  0.629358          1.792115   \n0    SD                 3438               1461  0.517720          2.495856   \n\n   equal_opportunity_diff  statistical_parity  \n0                     0.0            0.287774  \n0                    -0.5           -0.058323  \n0                    -1.0           -0.069718  \n0                     0.0           -0.108016  \n0                    -0.5           -0.115066  ",
      "text/html": "<div>\n<style scoped>\n    .dataframe tbody tr th:only-of-type {\n        vertical-align: middle;\n    }\n\n    .dataframe tbody tr th {\n        vertical-align: top;\n    }\n\n    .dataframe thead th {\n        text-align: right;\n    }\n</style>\n<table border=\"1\" class=\"dataframe\">\n  <thead>\n    <tr style=\"text-align: right;\">\n      <th></th>\n      <th>state</th>\n      <th>egitim_ornek_sayisi</th>\n      <th>test_ornek_sayisi</th>\n      <th>f1_score</th>\n      <th>disparate_impact</th>\n      <th>equal_opportunity_diff</th>\n      <th>statistical_parity</th>\n    </tr>\n  </thead>\n  <tbody>\n    <tr>\n      <th>0</th>\n      <td>MT</td>\n      <td>3725</td>\n      <td>1738</td>\n      <td>0.581395</td>\n      <td>0.424452</td>\n      <td>0.0</td>\n      <td>0.287774</td>\n    </tr>\n    <tr>\n      <th>0</th>\n      <td>NH</td>\n      <td>5584</td>\n      <td>2382</td>\n      <td>0.742290</td>\n      <td>1.174968</td>\n      <td>-0.5</td>\n      <td>-0.058323</td>\n    </tr>\n    <tr>\n      <th>0</th>\n      <td>ND</td>\n      <td>3129</td>\n      <td>1326</td>\n      <td>0.670247</td>\n      <td>1.261442</td>\n      <td>-1.0</td>\n      <td>-0.069718</td>\n    </tr>\n    <tr>\n      <th>0</th>\n      <td>ME</td>\n      <td>4934</td>\n      <td>2068</td>\n      <td>0.629358</td>\n      <td>1.792115</td>\n      <td>0.0</td>\n      <td>-0.108016</td>\n    </tr>\n    <tr>\n      <th>0</th>\n      <td>SD</td>\n      <td>3438</td>\n      <td>1461</td>\n      <td>0.517720</td>\n      <td>2.495856</td>\n      <td>-0.5</td>\n      <td>-0.115066</td>\n    </tr>\n  </tbody>\n</table>\n</div>"
     },
     "execution_count": 14,
     "metadata": {},
     "output_type": "execute_result"
    }
   ],
   "source": [
    "pd.concat(states_result_dfs)"
   ],
   "metadata": {
    "collapsed": false,
    "ExecuteTime": {
     "end_time": "2023-12-02T12:05:23.281238Z",
     "start_time": "2023-12-02T12:05:23.271343Z"
    }
   },
   "id": "58c036b62010f44f"
  },
  {
   "cell_type": "code",
   "execution_count": 10,
   "outputs": [
    {
     "data": {
      "text/plain": "  state  egitim_ornek_sayisi  test_ornek_sayisi  f1_score  disparate_impact  \\\n0    MT                 3725               1738  0.581395          2.355978   \n0    NH                 5584               2382  0.742290          0.851087   \n0    ND                 3129               1326  0.670247          0.792744   \n0    ME                 4934               2068  0.629358          0.558000   \n0    SD                 3438               1461  0.517720          0.400664   \n\n   equal_opportunity_diff  statistical_parity  \n0                     0.0            0.287774  \n0                    -0.5           -0.058323  \n0                    -1.0           -0.069718  \n0                     0.0           -0.108016  \n0                    -0.5           -0.115066  ",
      "text/html": "<div>\n<style scoped>\n    .dataframe tbody tr th:only-of-type {\n        vertical-align: middle;\n    }\n\n    .dataframe tbody tr th {\n        vertical-align: top;\n    }\n\n    .dataframe thead th {\n        text-align: right;\n    }\n</style>\n<table border=\"1\" class=\"dataframe\">\n  <thead>\n    <tr style=\"text-align: right;\">\n      <th></th>\n      <th>state</th>\n      <th>egitim_ornek_sayisi</th>\n      <th>test_ornek_sayisi</th>\n      <th>f1_score</th>\n      <th>disparate_impact</th>\n      <th>equal_opportunity_diff</th>\n      <th>statistical_parity</th>\n    </tr>\n  </thead>\n  <tbody>\n    <tr>\n      <th>0</th>\n      <td>MT</td>\n      <td>3725</td>\n      <td>1738</td>\n      <td>0.581395</td>\n      <td>2.355978</td>\n      <td>0.0</td>\n      <td>0.287774</td>\n    </tr>\n    <tr>\n      <th>0</th>\n      <td>NH</td>\n      <td>5584</td>\n      <td>2382</td>\n      <td>0.742290</td>\n      <td>0.851087</td>\n      <td>-0.5</td>\n      <td>-0.058323</td>\n    </tr>\n    <tr>\n      <th>0</th>\n      <td>ND</td>\n      <td>3129</td>\n      <td>1326</td>\n      <td>0.670247</td>\n      <td>0.792744</td>\n      <td>-1.0</td>\n      <td>-0.069718</td>\n    </tr>\n    <tr>\n      <th>0</th>\n      <td>ME</td>\n      <td>4934</td>\n      <td>2068</td>\n      <td>0.629358</td>\n      <td>0.558000</td>\n      <td>0.0</td>\n      <td>-0.108016</td>\n    </tr>\n    <tr>\n      <th>0</th>\n      <td>SD</td>\n      <td>3438</td>\n      <td>1461</td>\n      <td>0.517720</td>\n      <td>0.400664</td>\n      <td>-0.5</td>\n      <td>-0.115066</td>\n    </tr>\n  </tbody>\n</table>\n</div>"
     },
     "execution_count": 10,
     "metadata": {},
     "output_type": "execute_result"
    }
   ],
   "source": [
    "pd.concat(states_result_dfs)"
   ],
   "metadata": {
    "collapsed": false,
    "ExecuteTime": {
     "end_time": "2023-12-02T11:54:06.430440Z",
     "start_time": "2023-12-02T11:54:06.406901Z"
    }
   },
   "id": "fbcb53589e683f94"
  },
  {
   "cell_type": "code",
   "execution_count": 11,
   "outputs": [],
   "source": [
    "pd.concat(states_result_dfs).to_excel(f\"../results/{bias_type}_bias_results.xlsx\", index=False)"
   ],
   "metadata": {
    "collapsed": false,
    "ExecuteTime": {
     "end_time": "2023-12-02T11:54:06.511045Z",
     "start_time": "2023-12-02T11:54:06.429604Z"
    }
   },
   "id": "10eee196800de44f"
  },
  {
   "cell_type": "code",
   "execution_count": 12,
   "outputs": [],
   "source": [],
   "metadata": {
    "collapsed": false,
    "ExecuteTime": {
     "end_time": "2023-12-02T11:54:06.621171Z",
     "start_time": "2023-12-02T11:54:06.569289Z"
    }
   },
   "id": "aeb225d954216cb"
  }
 ],
 "metadata": {
  "kernelspec": {
   "display_name": "Python 3",
   "language": "python",
   "name": "python3"
  },
  "language_info": {
   "codemirror_mode": {
    "name": "ipython",
    "version": 2
   },
   "file_extension": ".py",
   "mimetype": "text/x-python",
   "name": "python",
   "nbconvert_exporter": "python",
   "pygments_lexer": "ipython2",
   "version": "2.7.6"
  }
 },
 "nbformat": 4,
 "nbformat_minor": 5
}
