{
 "cells": [
  {
   "cell_type": "code",
   "execution_count": 1,
   "metadata": {
    "collapsed": true
   },
   "outputs": [],
   "source": [
    "import warnings\n",
    "\n",
    "warnings.filterwarnings('ignore')"
   ]
  },
  {
   "cell_type": "code",
   "execution_count": 2,
   "outputs": [],
   "source": [
    "import pandas as pd\n",
    "\n",
    "from sklearn.metrics import *\n",
    "from sklearn.preprocessing import *\n",
    "from sklearn.model_selection import *\n",
    "from sklearn.linear_model import LogisticRegression\n",
    "\n",
    "from fairfl.metrics.cross_validation import cross_validation\n",
    "from fairfl.utils.read_data import DatasetUtils"
   ],
   "metadata": {
    "collapsed": false
   }
  },
  {
   "cell_type": "code",
   "execution_count": 3,
   "outputs": [],
   "source": [
    "utils = DatasetUtils()"
   ],
   "metadata": {
    "collapsed": false
   }
  },
  {
   "cell_type": "code",
   "execution_count": 4,
   "outputs": [
    {
     "data": {
      "text/plain": "   AGEP  COW                                          SCHL  \\\n0  18.0  1.0            Some college, but less than 1 year   \n1  53.0  5.0                 GED or alternative credential   \n2  41.0  1.0                   Regular high school diploma   \n3  18.0  6.0            Some college, but less than 1 year   \n4  21.0  5.0  1 or more years of college credit, no degree   \n\n                                   MAR    OCCP  POBP  RELP  WKHP     SEX  \\\n0  Never married or under 15 years old  4720.0  13.0  17.0  21.0  Female   \n1  Never married or under 15 years old  3605.0  18.0  16.0  40.0    Male   \n2  Never married or under 15 years old  7330.0   1.0  17.0  40.0    Male   \n3  Never married or under 15 years old  2722.0   1.0  17.0   2.0  Female   \n4  Never married or under 15 years old  3870.0  12.0  17.0  50.0    Male   \n\n         RAC1P   ST  PINCP  \n0       others  1.0      0  \n1  White alone  1.0      0  \n2  White alone  1.0      0  \n3  White alone  1.0      0  \n4  White alone  1.0      0  ",
      "text/html": "<div>\n<style scoped>\n    .dataframe tbody tr th:only-of-type {\n        vertical-align: middle;\n    }\n\n    .dataframe tbody tr th {\n        vertical-align: top;\n    }\n\n    .dataframe thead th {\n        text-align: right;\n    }\n</style>\n<table border=\"1\" class=\"dataframe\">\n  <thead>\n    <tr style=\"text-align: right;\">\n      <th></th>\n      <th>AGEP</th>\n      <th>COW</th>\n      <th>SCHL</th>\n      <th>MAR</th>\n      <th>OCCP</th>\n      <th>POBP</th>\n      <th>RELP</th>\n      <th>WKHP</th>\n      <th>SEX</th>\n      <th>RAC1P</th>\n      <th>ST</th>\n      <th>PINCP</th>\n    </tr>\n  </thead>\n  <tbody>\n    <tr>\n      <th>0</th>\n      <td>18.0</td>\n      <td>1.0</td>\n      <td>Some college, but less than 1 year</td>\n      <td>Never married or under 15 years old</td>\n      <td>4720.0</td>\n      <td>13.0</td>\n      <td>17.0</td>\n      <td>21.0</td>\n      <td>Female</td>\n      <td>others</td>\n      <td>1.0</td>\n      <td>0</td>\n    </tr>\n    <tr>\n      <th>1</th>\n      <td>53.0</td>\n      <td>5.0</td>\n      <td>GED or alternative credential</td>\n      <td>Never married or under 15 years old</td>\n      <td>3605.0</td>\n      <td>18.0</td>\n      <td>16.0</td>\n      <td>40.0</td>\n      <td>Male</td>\n      <td>White alone</td>\n      <td>1.0</td>\n      <td>0</td>\n    </tr>\n    <tr>\n      <th>2</th>\n      <td>41.0</td>\n      <td>1.0</td>\n      <td>Regular high school diploma</td>\n      <td>Never married or under 15 years old</td>\n      <td>7330.0</td>\n      <td>1.0</td>\n      <td>17.0</td>\n      <td>40.0</td>\n      <td>Male</td>\n      <td>White alone</td>\n      <td>1.0</td>\n      <td>0</td>\n    </tr>\n    <tr>\n      <th>3</th>\n      <td>18.0</td>\n      <td>6.0</td>\n      <td>Some college, but less than 1 year</td>\n      <td>Never married or under 15 years old</td>\n      <td>2722.0</td>\n      <td>1.0</td>\n      <td>17.0</td>\n      <td>2.0</td>\n      <td>Female</td>\n      <td>White alone</td>\n      <td>1.0</td>\n      <td>0</td>\n    </tr>\n    <tr>\n      <th>4</th>\n      <td>21.0</td>\n      <td>5.0</td>\n      <td>1 or more years of college credit, no degree</td>\n      <td>Never married or under 15 years old</td>\n      <td>3870.0</td>\n      <td>12.0</td>\n      <td>17.0</td>\n      <td>50.0</td>\n      <td>Male</td>\n      <td>White alone</td>\n      <td>1.0</td>\n      <td>0</td>\n    </tr>\n  </tbody>\n</table>\n</div>"
     },
     "execution_count": 4,
     "metadata": {},
     "output_type": "execute_result"
    }
   ],
   "source": [
    "df = utils.get_acs_income_data_procesed()\n",
    "df.head()"
   ],
   "metadata": {
    "collapsed": false
   }
  },
  {
   "cell_type": "code",
   "execution_count": 5,
   "outputs": [
    {
     "data": {
      "text/plain": "RAC1P\nWhite alone    1298126\nothers          366374\ndtype: int64"
     },
     "execution_count": 5,
     "metadata": {},
     "output_type": "execute_result"
    }
   ],
   "source": [
    "df.groupby(\"RAC1P\").size()"
   ],
   "metadata": {
    "collapsed": false
   }
  },
  {
   "cell_type": "code",
   "execution_count": 6,
   "outputs": [],
   "source": [
    "# tüm veri setine uygulacağımız için State bilgisine ihtiyacımız yok\n",
    "df = df.drop(\"ST\", axis=1)"
   ],
   "metadata": {
    "collapsed": false
   }
  },
  {
   "cell_type": "markdown",
   "source": [
    "# Basic Pipeline Steps\n",
    "- kategorik özellikler yapılacak işlemler\n",
    "    - COW --> OneHotEncoder\n",
    "    - SCHL --> burada sıralı bir ilişki var gibi OrdinalEncoder uygulayabiliriz\n",
    "    - MAR --> OneHotEncoder\n",
    "    - OCCP --> OneHotEncoder\n",
    "    - POBP --> OneHotEncoder\n",
    "    - RELP --> OneHotEncoder\n",
    "    - SEX --> OneHotEncoder\n",
    "    - RAC1P -->  OneHotEncoder\n",
    "\n",
    "- numerik veri alanlarına yapılacak işlemler\n",
    "    - AGEP --> yaş veri alanı bu veri alınında bining yapılacak değerleri veri analizinden incelediğimiz 17 yaş ile 96 yaş arasında ortalama 43 --> [0,25,45,65,100] --> [\"Young\", \"Middle\", \"Senior\", \"Old\"]\n",
    "          # sonrasında OrdinalEncoder uygulanabilir\n",
    "    - WKHP --> çalışma saatine de benzer bir yöntem uygulabilir binning + OrdinalEncoder --> 1 ile 99 arasında değerler ortalama 38 --> [0,25,40,60,100] --> [\"Part-time\", \"Full-time\", \"Over-time\", \"Workaholic\"]"
   ],
   "metadata": {
    "collapsed": false
   }
  },
  {
   "cell_type": "markdown",
   "source": [
    "# Feature Engineering"
   ],
   "metadata": {
    "collapsed": false
   }
  },
  {
   "cell_type": "code",
   "execution_count": 7,
   "outputs": [
    {
     "data": {
      "text/plain": "SCHL\n1 or more years of college credit, no degree      255517\nAssociate's degree                                154281\nBachelor's degree                                 366380\nDoctorate degree                                   27530\nGED or alternative credential                      55883\nMaster's degree                                   160594\nProfessional degree beyond a bachelor's degree     41426\nRegular high school diploma                       344823\nSome college, but less than 1 year                121246\nbelow high-school                                 136820\ndtype: int64"
     },
     "execution_count": 7,
     "metadata": {},
     "output_type": "execute_result"
    }
   ],
   "source": [
    "df.groupby(\"SCHL\").size()"
   ],
   "metadata": {
    "collapsed": false
   }
  },
  {
   "cell_type": "code",
   "execution_count": 8,
   "outputs": [],
   "source": [
    "schl_order = [\"below high-school\", \"Regular high school diploma\", \"GED or alternative credential\",\n",
    "              \"Some college, but less than 1 year\", \"1 or more years of college credit, no degree\",\n",
    "              \"Associate's degree\", \"Bachelor's degree\", \"Master's degree\",\n",
    "              \"Professional degree beyond a bachelor's degree\", \"Doctorate degree\"]"
   ],
   "metadata": {
    "collapsed": false
   }
  },
  {
   "cell_type": "code",
   "execution_count": 9,
   "outputs": [],
   "source": [
    "enc = OrdinalEncoder(categories=[schl_order])"
   ],
   "metadata": {
    "collapsed": false
   }
  },
  {
   "cell_type": "code",
   "execution_count": 10,
   "outputs": [],
   "source": [
    "df[\"SCHL\"] = enc.fit_transform(df[[\"SCHL\"]])"
   ],
   "metadata": {
    "collapsed": false
   }
  },
  {
   "cell_type": "code",
   "execution_count": 11,
   "outputs": [
    {
     "data": {
      "text/plain": "AGEP\nYoung     254579\nMiddle    642177\nSenior    649274\nOld       118470\ndtype: int64"
     },
     "execution_count": 11,
     "metadata": {},
     "output_type": "execute_result"
    }
   ],
   "source": [
    "# yaş veri alanı\n",
    "df[\"AGEP\"] = pd.cut(df[\"AGEP\"], bins=[0, 25, 45, 65, 100], labels=[\"Young\", \"Middle\", \"Senior\", \"Old\"], ordered=True)\n",
    "df.groupby(\"AGEP\").size()"
   ],
   "metadata": {
    "collapsed": false
   }
  },
  {
   "cell_type": "code",
   "execution_count": 12,
   "outputs": [
    {
     "data": {
      "text/plain": "AGEP\n0.0    254579\n1.0    642177\n2.0    649274\n3.0    118470\ndtype: int64"
     },
     "execution_count": 12,
     "metadata": {},
     "output_type": "execute_result"
    }
   ],
   "source": [
    "enc_age = OrdinalEncoder(categories=[[\"Young\", \"Middle\", \"Senior\", \"Old\"]])\n",
    "df[\"AGEP\"] = enc_age.fit_transform(df[[\"AGEP\"]])\n",
    "df.groupby(\"AGEP\").size()"
   ],
   "metadata": {
    "collapsed": false
   }
  },
  {
   "cell_type": "code",
   "execution_count": 13,
   "outputs": [
    {
     "data": {
      "text/plain": "WKHP\n0.0    281492\n1.0    942260\n2.0    398052\n3.0     42696\ndtype: int64"
     },
     "execution_count": 13,
     "metadata": {},
     "output_type": "execute_result"
    }
   ],
   "source": [
    "# çalışma zamanı\n",
    "df[\"WKHP\"] = pd.cut(df[\"WKHP\"], bins=[0, 25, 40, 60, 100], labels=[\"Part-time\", \"Full-time\", \"Over-time\", \"Workaholic\"],\n",
    "                    ordered=True)\n",
    "enc_hpw = OrdinalEncoder(categories=[[\"Part-time\", \"Full-time\", \"Over-time\", \"Workaholic\"]])\n",
    "df[\"WKHP\"] = enc_hpw.fit_transform(df[[\"WKHP\"]])\n",
    "df.groupby(\"WKHP\").size()"
   ],
   "metadata": {
    "collapsed": false
   }
  },
  {
   "cell_type": "code",
   "execution_count": 14,
   "outputs": [],
   "source": [
    "# diğer sütunlara one-hot uygulayalım\n",
    "df_encoded = pd.get_dummies(df, columns=['COW', 'MAR', 'OCCP', 'RELP', 'RAC1P', 'SEX'])"
   ],
   "metadata": {
    "collapsed": false
   }
  },
  {
   "cell_type": "code",
   "execution_count": 15,
   "outputs": [
    {
     "name": "stdout",
     "output_type": "stream",
     "text": [
      "<class 'pandas.core.frame.DataFrame'>\n",
      "RangeIndex: 1664500 entries, 0 to 1664499\n",
      "Columns: 569 entries, AGEP to SEX_Male\n",
      "dtypes: float64(4), int64(1), uint8(564)\n",
      "memory usage: 958.8 MB\n"
     ]
    }
   ],
   "source": [
    "df_encoded.info()"
   ],
   "metadata": {
    "collapsed": false
   }
  },
  {
   "cell_type": "code",
   "execution_count": 16,
   "outputs": [],
   "source": [
    "x = df_encoded.drop('PINCP', axis=1)\n",
    "y = df_encoded['PINCP']"
   ],
   "metadata": {
    "collapsed": false
   }
  },
  {
   "cell_type": "markdown",
   "source": [
    "## ML Model"
   ],
   "metadata": {
    "collapsed": false
   }
  },
  {
   "cell_type": "code",
   "execution_count": 17,
   "outputs": [],
   "source": [
    "X_train, X_test, Y_train, Y_test = train_test_split(x, y, test_size=0.3, random_state=42, stratify=y)"
   ],
   "metadata": {
    "collapsed": false
   }
  },
  {
   "cell_type": "code",
   "execution_count": 18,
   "outputs": [
    {
     "data": {
      "text/plain": "LogisticRegression()",
      "text/html": "<style>#sk-container-id-1 {color: black;background-color: white;}#sk-container-id-1 pre{padding: 0;}#sk-container-id-1 div.sk-toggleable {background-color: white;}#sk-container-id-1 label.sk-toggleable__label {cursor: pointer;display: block;width: 100%;margin-bottom: 0;padding: 0.3em;box-sizing: border-box;text-align: center;}#sk-container-id-1 label.sk-toggleable__label-arrow:before {content: \"▸\";float: left;margin-right: 0.25em;color: #696969;}#sk-container-id-1 label.sk-toggleable__label-arrow:hover:before {color: black;}#sk-container-id-1 div.sk-estimator:hover label.sk-toggleable__label-arrow:before {color: black;}#sk-container-id-1 div.sk-toggleable__content {max-height: 0;max-width: 0;overflow: hidden;text-align: left;background-color: #f0f8ff;}#sk-container-id-1 div.sk-toggleable__content pre {margin: 0.2em;color: black;border-radius: 0.25em;background-color: #f0f8ff;}#sk-container-id-1 input.sk-toggleable__control:checked~div.sk-toggleable__content {max-height: 200px;max-width: 100%;overflow: auto;}#sk-container-id-1 input.sk-toggleable__control:checked~label.sk-toggleable__label-arrow:before {content: \"▾\";}#sk-container-id-1 div.sk-estimator input.sk-toggleable__control:checked~label.sk-toggleable__label {background-color: #d4ebff;}#sk-container-id-1 div.sk-label input.sk-toggleable__control:checked~label.sk-toggleable__label {background-color: #d4ebff;}#sk-container-id-1 input.sk-hidden--visually {border: 0;clip: rect(1px 1px 1px 1px);clip: rect(1px, 1px, 1px, 1px);height: 1px;margin: -1px;overflow: hidden;padding: 0;position: absolute;width: 1px;}#sk-container-id-1 div.sk-estimator {font-family: monospace;background-color: #f0f8ff;border: 1px dotted black;border-radius: 0.25em;box-sizing: border-box;margin-bottom: 0.5em;}#sk-container-id-1 div.sk-estimator:hover {background-color: #d4ebff;}#sk-container-id-1 div.sk-parallel-item::after {content: \"\";width: 100%;border-bottom: 1px solid gray;flex-grow: 1;}#sk-container-id-1 div.sk-label:hover label.sk-toggleable__label {background-color: #d4ebff;}#sk-container-id-1 div.sk-serial::before {content: \"\";position: absolute;border-left: 1px solid gray;box-sizing: border-box;top: 0;bottom: 0;left: 50%;z-index: 0;}#sk-container-id-1 div.sk-serial {display: flex;flex-direction: column;align-items: center;background-color: white;padding-right: 0.2em;padding-left: 0.2em;position: relative;}#sk-container-id-1 div.sk-item {position: relative;z-index: 1;}#sk-container-id-1 div.sk-parallel {display: flex;align-items: stretch;justify-content: center;background-color: white;position: relative;}#sk-container-id-1 div.sk-item::before, #sk-container-id-1 div.sk-parallel-item::before {content: \"\";position: absolute;border-left: 1px solid gray;box-sizing: border-box;top: 0;bottom: 0;left: 50%;z-index: -1;}#sk-container-id-1 div.sk-parallel-item {display: flex;flex-direction: column;z-index: 1;position: relative;background-color: white;}#sk-container-id-1 div.sk-parallel-item:first-child::after {align-self: flex-end;width: 50%;}#sk-container-id-1 div.sk-parallel-item:last-child::after {align-self: flex-start;width: 50%;}#sk-container-id-1 div.sk-parallel-item:only-child::after {width: 0;}#sk-container-id-1 div.sk-dashed-wrapped {border: 1px dashed gray;margin: 0 0.4em 0.5em 0.4em;box-sizing: border-box;padding-bottom: 0.4em;background-color: white;}#sk-container-id-1 div.sk-label label {font-family: monospace;font-weight: bold;display: inline-block;line-height: 1.2em;}#sk-container-id-1 div.sk-label-container {text-align: center;}#sk-container-id-1 div.sk-container {/* jupyter's `normalize.less` sets `[hidden] { display: none; }` but bootstrap.min.css set `[hidden] { display: none !important; }` so we also need the `!important` here to be able to override the default hidden behavior on the sphinx rendered scikit-learn.org. See: https://github.com/scikit-learn/scikit-learn/issues/21755 */display: inline-block !important;position: relative;}#sk-container-id-1 div.sk-text-repr-fallback {display: none;}</style><div id=\"sk-container-id-1\" class=\"sk-top-container\"><div class=\"sk-text-repr-fallback\"><pre>LogisticRegression()</pre><b>In a Jupyter environment, please rerun this cell to show the HTML representation or trust the notebook. <br />On GitHub, the HTML representation is unable to render, please try loading this page with nbviewer.org.</b></div><div class=\"sk-container\" hidden><div class=\"sk-item\"><div class=\"sk-estimator sk-toggleable\"><input class=\"sk-toggleable__control sk-hidden--visually\" id=\"sk-estimator-id-1\" type=\"checkbox\" checked><label for=\"sk-estimator-id-1\" class=\"sk-toggleable__label sk-toggleable__label-arrow\">LogisticRegression</label><div class=\"sk-toggleable__content\"><pre>LogisticRegression()</pre></div></div></div></div></div>"
     },
     "execution_count": 18,
     "metadata": {},
     "output_type": "execute_result"
    }
   ],
   "source": [
    "model = LogisticRegression()\n",
    "model.fit(X_train, Y_train)"
   ],
   "metadata": {
    "collapsed": false
   }
  },
  {
   "cell_type": "code",
   "execution_count": 19,
   "outputs": [
    {
     "data": {
      "text/plain": "<sklearn.metrics._plot.confusion_matrix.ConfusionMatrixDisplay at 0x7f66091bb040>"
     },
     "execution_count": 19,
     "metadata": {},
     "output_type": "execute_result"
    },
    {
     "data": {
      "text/plain": "<Figure size 640x480 with 2 Axes>",
      "image/png": "[encoded data removed]"
     },
     "metadata": {},
     "output_type": "display_data"
    }
   ],
   "source": [
    "cm = confusion_matrix(Y_test, model.predict(X_test), labels=model.classes_)\n",
    "disp = ConfusionMatrixDisplay(confusion_matrix=cm, display_labels=model.classes_)\n",
    "disp.plot()\n"
   ],
   "metadata": {
    "collapsed": false
   }
  },
  {
   "cell_type": "code",
   "execution_count": 20,
   "outputs": [
    {
     "name": "stdout",
     "output_type": "stream",
     "text": [
      "              precision    recall  f1-score   support\n",
      "\n",
      "           0       0.81      0.84      0.83    315130\n",
      "           1       0.71      0.67      0.69    184220\n",
      "\n",
      "    accuracy                           0.78    499350\n",
      "   macro avg       0.76      0.76      0.76    499350\n",
      "weighted avg       0.78      0.78      0.78    499350\n",
      "\n"
     ]
    }
   ],
   "source": [
    "print(classification_report(Y_test, model.predict(X_test)))"
   ],
   "metadata": {
    "collapsed": false
   }
  },
  {
   "cell_type": "markdown",
   "source": [
    "## K-Fold"
   ],
   "metadata": {
    "collapsed": false
   }
  },
  {
   "cell_type": "code",
   "execution_count": 21,
   "outputs": [
    {
     "name": "stdout",
     "output_type": "stream",
     "text": [
      "                                  0         1         2         3         4\n",
      "Training Accuracy scores   0.781025  0.780420  0.780736  0.776383  0.787670\n",
      "Training Precision scores  0.719639  0.722612  0.725324  0.719499  0.730860\n",
      "Training Recall scores     0.665849  0.657006  0.652915  0.645521  0.671870\n",
      "Training F1 scores         0.691700  0.688249  0.687217  0.680505  0.700125\n",
      "Test Accuracy scores       0.780925  0.780475  0.781922  0.777068  0.786603\n",
      "Test Precision scores      0.719952  0.722804  0.725793  0.721203  0.729336\n",
      "Test Recall scores         0.664742  0.656852  0.657145  0.645097  0.670331\n",
      "Test F1 scores             0.691247  0.688252  0.689765  0.681030  0.698590\n"
     ]
    }
   ],
   "source": [
    "print(cross_validation(model=model, x=x, y=y, cv=5))"
   ],
   "metadata": {
    "collapsed": false
   }
  },
  {
   "cell_type": "code",
   "execution_count": null,
   "outputs": [],
   "source": [],
   "metadata": {
    "collapsed": false
   }
  }
 ],
 "metadata": {
  "kernelspec": {
   "display_name": "Python 3",
   "language": "python",
   "name": "python3"
  },
  "language_info": {
   "codemirror_mode": {
    "name": "ipython",
    "version": 2
   },
   "file_extension": ".py",
   "mimetype": "text/x-python",
   "name": "python",
   "nbconvert_exporter": "python",
   "pygments_lexer": "ipython2",
   "version": "2.7.6"
  }
 },
 "nbformat": 4,
 "nbformat_minor": 0
}
