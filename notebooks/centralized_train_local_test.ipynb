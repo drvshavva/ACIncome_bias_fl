{
 "cells": [
  {
   "cell_type": "code",
   "execution_count": 1,
   "metadata": {
    "collapsed": true,
    "ExecuteTime": {
     "end_time": "2023-12-04T17:11:57.725131Z",
     "start_time": "2023-12-04T17:11:55.837332Z"
    }
   },
   "outputs": [],
   "source": [
    "import pandas as pd\n",
    "\n",
    "from fairfl.model.preprocess import ACSIncomePreprocess\n",
    "from fairfl.model.model import ACSIncomeModel\n",
    "from fairfl.metrics.bias_metrics import BiasType\n",
    "from fairfl.utils.read_data import DatasetUtils"
   ]
  },
  {
   "cell_type": "code",
   "execution_count": 2,
   "outputs": [],
   "source": [
    "bias_type = BiasType.race\n",
    "states = [\"MT\", \"WY\", \"ID\", \"VT\", \"UT\", \"SD\", \"ME\", \"NH\", \"OR\", \"ND\", \"IA\", \"AK\", \"HI\", \"NM\", \"NE\", \"CO\", \"WI\", \"MN\",\n",
    "          \"WA\", \"WV\"]\n",
    "preprocess = ACSIncomePreprocess()\n",
    "model = ACSIncomeModel(bias_type=bias_type)\n",
    "utils = DatasetUtils()"
   ],
   "metadata": {
    "collapsed": false,
    "ExecuteTime": {
     "end_time": "2023-12-04T17:11:59.042672Z",
     "start_time": "2023-12-04T17:11:59.034644Z"
    }
   }
  },
  {
   "cell_type": "code",
   "execution_count": 3,
   "outputs": [],
   "source": [
    "def get_states(train, states):\n",
    "    train_states = utils.get_selected_states(train, states)\n",
    "    return train_states"
   ],
   "metadata": {
    "collapsed": false,
    "ExecuteTime": {
     "end_time": "2023-12-04T17:12:02.477937Z",
     "start_time": "2023-12-04T17:12:02.449867Z"
    }
   }
  },
  {
   "cell_type": "code",
   "execution_count": 5,
   "outputs": [],
   "source": [
    "test = pd.read_csv(\"../dataset/test_preprocessed_label.csv\").reset_index(drop=True)\n",
    "train = pd.read_csv(\"../dataset/train_preprocessed_label.csv\").reset_index(drop=True)"
   ],
   "metadata": {
    "collapsed": false,
    "ExecuteTime": {
     "end_time": "2023-12-04T17:12:24.583095Z",
     "start_time": "2023-12-04T17:12:22.419514Z"
    }
   }
  },
  {
   "cell_type": "code",
   "execution_count": 6,
   "outputs": [],
   "source": [
    "train_states = get_states(train, states)"
   ],
   "metadata": {
    "collapsed": false,
    "ExecuteTime": {
     "end_time": "2023-12-04T17:12:28.449424Z",
     "start_time": "2023-12-04T17:12:26.824154Z"
    }
   }
  },
  {
   "cell_type": "code",
   "execution_count": 7,
   "outputs": [
    {
     "name": "stderr",
     "output_type": "stream",
     "text": [
      "/home/safir/.virtualenvs/ACIncome_bias_fl/lib/python3.8/site-packages/sklearn/linear_model/_logistic.py:460: ConvergenceWarning: lbfgs failed to converge (status=1):\n",
      "STOP: TOTAL NO. of ITERATIONS REACHED LIMIT.\n",
      "\n",
      "Increase the number of iterations (max_iter) or scale the data as shown in:\n",
      "    https://scikit-learn.org/stable/modules/preprocessing.html\n",
      "Please also refer to the documentation for alternative solver options:\n",
      "    https://scikit-learn.org/stable/modules/linear_model.html#logistic-regression\n",
      "  n_iter_i = _check_optimize_result(\n"
     ]
    }
   ],
   "source": [
    "test2 = test.drop('ST', axis=1)\n",
    "_ = model.print_model_metrics(train_states, test2)"
   ],
   "metadata": {
    "collapsed": false,
    "ExecuteTime": {
     "end_time": "2023-12-04T17:12:38.779062Z",
     "start_time": "2023-12-04T17:12:37.053310Z"
    }
   }
  },
  {
   "cell_type": "code",
   "execution_count": 8,
   "outputs": [],
   "source": [
    "import pickle\n",
    "\n",
    "l_model = pickle.load(open(\"lr_selected.pkl\", \"rb\"))"
   ],
   "metadata": {
    "collapsed": false,
    "ExecuteTime": {
     "end_time": "2023-12-04T17:12:44.075036Z",
     "start_time": "2023-12-04T17:12:44.065801Z"
    }
   }
  },
  {
   "cell_type": "code",
   "execution_count": 9,
   "outputs": [],
   "source": [
    "states_result_dfs = list()\n",
    "\n",
    "for state in states:\n",
    "    res = model.print_loaded_model_metrics(test, l_model, state)\n",
    "    states_result_dfs.append(res)"
   ],
   "metadata": {
    "collapsed": false,
    "ExecuteTime": {
     "end_time": "2023-12-04T17:13:09.526865Z",
     "start_time": "2023-12-04T17:13:08.235700Z"
    }
   }
  },
  {
   "cell_type": "code",
   "execution_count": 10,
   "outputs": [],
   "source": [
    "pd.concat(states_result_dfs).to_excel(f\"{bias_type}_global.xlsx\", index=False)"
   ],
   "metadata": {
    "collapsed": false,
    "ExecuteTime": {
     "end_time": "2023-12-04T17:13:10.504662Z",
     "start_time": "2023-12-04T17:13:10.498654Z"
    }
   }
  },
  {
   "cell_type": "code",
   "execution_count": 10,
   "outputs": [],
   "source": [],
   "metadata": {
    "collapsed": false
   }
  }
 ],
 "metadata": {
  "kernelspec": {
   "display_name": "Python 3",
   "language": "python",
   "name": "python3"
  },
  "language_info": {
   "codemirror_mode": {
    "name": "ipython",
    "version": 2
   },
   "file_extension": ".py",
   "mimetype": "text/x-python",
   "name": "python",
   "nbconvert_exporter": "python",
   "pygments_lexer": "ipython2",
   "version": "2.7.6"
  }
 },
 "nbformat": 4,
 "nbformat_minor": 0
}
