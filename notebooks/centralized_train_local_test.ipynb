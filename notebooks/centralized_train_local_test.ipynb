{
 "cells": [
  {
   "cell_type": "code",
   "execution_count": 11,
   "metadata": {
    "collapsed": true
   },
   "outputs": [],
   "source": [
    "import pandas as pd\n",
    "\n",
    "from fairfl.model.preprocess import ACSIncomePreprocess\n",
    "from fairfl.model.model import ACSIncomeModel\n",
    "from fairfl.metrics.bias_metrics import BiasType\n",
    "from fairfl.utils.read_data import DatasetUtils"
   ]
  },
  {
   "cell_type": "code",
   "execution_count": 12,
   "outputs": [],
   "source": [
    "bias_type = BiasType.race\n",
    "states_2 = [\"MT\", \"NH\", \"ND\", \"ME\", \"SD\"]\n",
    "preprocess = ACSIncomePreprocess()\n",
    "model = ACSIncomeModel(bias_type=bias_type)\n",
    "utils = DatasetUtils()"
   ],
   "metadata": {
    "collapsed": false
   }
  },
  {
   "cell_type": "code",
   "execution_count": 13,
   "outputs": [],
   "source": [
    "def get_states(train, states):\n",
    "    train_states = utils.get_selected_states(train, states)\n",
    "    return train_states"
   ],
   "metadata": {
    "collapsed": false
   }
  },
  {
   "cell_type": "code",
   "execution_count": 4,
   "outputs": [],
   "source": [
    "train, test = preprocess.get_preprocessed_data()"
   ],
   "metadata": {
    "collapsed": false
   }
  },
  {
   "cell_type": "code",
   "execution_count": 14,
   "outputs": [],
   "source": [
    "train_states = get_states(train, states_2)"
   ],
   "metadata": {
    "collapsed": false
   }
  },
  {
   "cell_type": "code",
   "execution_count": 15,
   "outputs": [
    {
     "data": {
      "text/plain": "         AGEP  SCHL   POBP  WKHP  PINCP  COW_1.0  COW_2.0  COW_3.0  COW_4.0  \\\n56        0.0   6.0   26.0   1.0      0        0        1        0        0   \n94        2.0   6.0   23.0   2.0      0        0        0        0        0   \n142       1.0   1.0   50.0   1.0      0        1        0        0        0   \n161       1.0   4.0   34.0   1.0      0        1        0        0        0   \n308       1.0   7.0  211.0   1.0      1        1        0        0        0   \n...       ...   ...    ...   ...    ...      ...      ...      ...      ...   \n1164869   0.0   1.0   11.0   1.0      0        1        0        0        0   \n1165014   3.0   1.0   46.0   1.0      0        0        0        0        0   \n1165081   2.0   7.0   23.0   1.0      0        1        0        0        0   \n1165137   1.0   6.0    6.0   2.0      1        1        0        0        0   \n1165148   1.0   7.0   23.0   1.0      0        0        1        0        0   \n\n         COW_5.0  ...  RELP_12.0  RELP_13.0  RELP_14.0  RELP_15.0  RELP_16.0  \\\n56             0  ...          0          0          0          0          0   \n94             0  ...          0          0          0          0          0   \n142            0  ...          0          0          0          0          0   \n161            0  ...          0          0          0          0          0   \n308            0  ...          0          0          0          0          0   \n...          ...  ...        ...        ...        ...        ...        ...   \n1164869        0  ...          0          0          0          0          0   \n1165014        0  ...          0          0          0          0          0   \n1165081        0  ...          1          0          0          0          0   \n1165137        0  ...          0          0          0          0          0   \n1165148        0  ...          0          0          0          0          0   \n\n         RELP_17.0  RAC1P_Black  RAC1P_others  SEX_Female  SEX_Male  \n56               0            0             1           0         1  \n94               0            0             1           0         1  \n142              0            0             1           0         1  \n161              0            0             1           0         1  \n308              0            0             1           1         0  \n...            ...          ...           ...         ...       ...  \n1164869          0            0             1           0         1  \n1165014          0            0             1           1         0  \n1165081          0            0             1           0         1  \n1165137          0            0             1           1         0  \n1165148          0            0             1           1         0  \n\n[20810 rows x 569 columns]",
      "text/html": "<div>\n<style scoped>\n    .dataframe tbody tr th:only-of-type {\n        vertical-align: middle;\n    }\n\n    .dataframe tbody tr th {\n        vertical-align: top;\n    }\n\n    .dataframe thead th {\n        text-align: right;\n    }\n</style>\n<table border=\"1\" class=\"dataframe\">\n  <thead>\n    <tr style=\"text-align: right;\">\n      <th></th>\n      <th>AGEP</th>\n      <th>SCHL</th>\n      <th>POBP</th>\n      <th>WKHP</th>\n      <th>PINCP</th>\n      <th>COW_1.0</th>\n      <th>COW_2.0</th>\n      <th>COW_3.0</th>\n      <th>COW_4.0</th>\n      <th>COW_5.0</th>\n      <th>...</th>\n      <th>RELP_12.0</th>\n      <th>RELP_13.0</th>\n      <th>RELP_14.0</th>\n      <th>RELP_15.0</th>\n      <th>RELP_16.0</th>\n      <th>RELP_17.0</th>\n      <th>RAC1P_Black</th>\n      <th>RAC1P_others</th>\n      <th>SEX_Female</th>\n      <th>SEX_Male</th>\n    </tr>\n  </thead>\n  <tbody>\n    <tr>\n      <th>56</th>\n      <td>0.0</td>\n      <td>6.0</td>\n      <td>26.0</td>\n      <td>1.0</td>\n      <td>0</td>\n      <td>0</td>\n      <td>1</td>\n      <td>0</td>\n      <td>0</td>\n      <td>0</td>\n      <td>...</td>\n      <td>0</td>\n      <td>0</td>\n      <td>0</td>\n      <td>0</td>\n      <td>0</td>\n      <td>0</td>\n      <td>0</td>\n      <td>1</td>\n      <td>0</td>\n      <td>1</td>\n    </tr>\n    <tr>\n      <th>94</th>\n      <td>2.0</td>\n      <td>6.0</td>\n      <td>23.0</td>\n      <td>2.0</td>\n      <td>0</td>\n      <td>0</td>\n      <td>0</td>\n      <td>0</td>\n      <td>0</td>\n      <td>0</td>\n      <td>...</td>\n      <td>0</td>\n      <td>0</td>\n      <td>0</td>\n      <td>0</td>\n      <td>0</td>\n      <td>0</td>\n      <td>0</td>\n      <td>1</td>\n      <td>0</td>\n      <td>1</td>\n    </tr>\n    <tr>\n      <th>142</th>\n      <td>1.0</td>\n      <td>1.0</td>\n      <td>50.0</td>\n      <td>1.0</td>\n      <td>0</td>\n      <td>1</td>\n      <td>0</td>\n      <td>0</td>\n      <td>0</td>\n      <td>0</td>\n      <td>...</td>\n      <td>0</td>\n      <td>0</td>\n      <td>0</td>\n      <td>0</td>\n      <td>0</td>\n      <td>0</td>\n      <td>0</td>\n      <td>1</td>\n      <td>0</td>\n      <td>1</td>\n    </tr>\n    <tr>\n      <th>161</th>\n      <td>1.0</td>\n      <td>4.0</td>\n      <td>34.0</td>\n      <td>1.0</td>\n      <td>0</td>\n      <td>1</td>\n      <td>0</td>\n      <td>0</td>\n      <td>0</td>\n      <td>0</td>\n      <td>...</td>\n      <td>0</td>\n      <td>0</td>\n      <td>0</td>\n      <td>0</td>\n      <td>0</td>\n      <td>0</td>\n      <td>0</td>\n      <td>1</td>\n      <td>0</td>\n      <td>1</td>\n    </tr>\n    <tr>\n      <th>308</th>\n      <td>1.0</td>\n      <td>7.0</td>\n      <td>211.0</td>\n      <td>1.0</td>\n      <td>1</td>\n      <td>1</td>\n      <td>0</td>\n      <td>0</td>\n      <td>0</td>\n      <td>0</td>\n      <td>...</td>\n      <td>0</td>\n      <td>0</td>\n      <td>0</td>\n      <td>0</td>\n      <td>0</td>\n      <td>0</td>\n      <td>0</td>\n      <td>1</td>\n      <td>1</td>\n      <td>0</td>\n    </tr>\n    <tr>\n      <th>...</th>\n      <td>...</td>\n      <td>...</td>\n      <td>...</td>\n      <td>...</td>\n      <td>...</td>\n      <td>...</td>\n      <td>...</td>\n      <td>...</td>\n      <td>...</td>\n      <td>...</td>\n      <td>...</td>\n      <td>...</td>\n      <td>...</td>\n      <td>...</td>\n      <td>...</td>\n      <td>...</td>\n      <td>...</td>\n      <td>...</td>\n      <td>...</td>\n      <td>...</td>\n      <td>...</td>\n    </tr>\n    <tr>\n      <th>1164869</th>\n      <td>0.0</td>\n      <td>1.0</td>\n      <td>11.0</td>\n      <td>1.0</td>\n      <td>0</td>\n      <td>1</td>\n      <td>0</td>\n      <td>0</td>\n      <td>0</td>\n      <td>0</td>\n      <td>...</td>\n      <td>0</td>\n      <td>0</td>\n      <td>0</td>\n      <td>0</td>\n      <td>0</td>\n      <td>0</td>\n      <td>0</td>\n      <td>1</td>\n      <td>0</td>\n      <td>1</td>\n    </tr>\n    <tr>\n      <th>1165014</th>\n      <td>3.0</td>\n      <td>1.0</td>\n      <td>46.0</td>\n      <td>1.0</td>\n      <td>0</td>\n      <td>0</td>\n      <td>0</td>\n      <td>0</td>\n      <td>0</td>\n      <td>0</td>\n      <td>...</td>\n      <td>0</td>\n      <td>0</td>\n      <td>0</td>\n      <td>0</td>\n      <td>0</td>\n      <td>0</td>\n      <td>0</td>\n      <td>1</td>\n      <td>1</td>\n      <td>0</td>\n    </tr>\n    <tr>\n      <th>1165081</th>\n      <td>2.0</td>\n      <td>7.0</td>\n      <td>23.0</td>\n      <td>1.0</td>\n      <td>0</td>\n      <td>1</td>\n      <td>0</td>\n      <td>0</td>\n      <td>0</td>\n      <td>0</td>\n      <td>...</td>\n      <td>1</td>\n      <td>0</td>\n      <td>0</td>\n      <td>0</td>\n      <td>0</td>\n      <td>0</td>\n      <td>0</td>\n      <td>1</td>\n      <td>0</td>\n      <td>1</td>\n    </tr>\n    <tr>\n      <th>1165137</th>\n      <td>1.0</td>\n      <td>6.0</td>\n      <td>6.0</td>\n      <td>2.0</td>\n      <td>1</td>\n      <td>1</td>\n      <td>0</td>\n      <td>0</td>\n      <td>0</td>\n      <td>0</td>\n      <td>...</td>\n      <td>0</td>\n      <td>0</td>\n      <td>0</td>\n      <td>0</td>\n      <td>0</td>\n      <td>0</td>\n      <td>0</td>\n      <td>1</td>\n      <td>1</td>\n      <td>0</td>\n    </tr>\n    <tr>\n      <th>1165148</th>\n      <td>1.0</td>\n      <td>7.0</td>\n      <td>23.0</td>\n      <td>1.0</td>\n      <td>0</td>\n      <td>0</td>\n      <td>1</td>\n      <td>0</td>\n      <td>0</td>\n      <td>0</td>\n      <td>...</td>\n      <td>0</td>\n      <td>0</td>\n      <td>0</td>\n      <td>0</td>\n      <td>0</td>\n      <td>0</td>\n      <td>0</td>\n      <td>1</td>\n      <td>1</td>\n      <td>0</td>\n    </tr>\n  </tbody>\n</table>\n<p>20810 rows × 569 columns</p>\n</div>"
     },
     "execution_count": 15,
     "metadata": {},
     "output_type": "execute_result"
    }
   ],
   "source": [
    "train_states"
   ],
   "metadata": {
    "collapsed": false
   }
  },
  {
   "cell_type": "code",
   "execution_count": 16,
   "outputs": [
    {
     "name": "stderr",
     "output_type": "stream",
     "text": [
      "/home/safir/.virtualenvs/ACIncome_bias_fl/lib/python3.10/site-packages/sklearn/linear_model/_logistic.py:814: ConvergenceWarning: lbfgs failed to converge (status=1):\n",
      "STOP: TOTAL NO. of ITERATIONS REACHED LIMIT.\n",
      "\n",
      "Increase the number of iterations (max_iter) or scale the data as shown in:\n",
      "    https://scikit-learn.org/stable/modules/preprocessing.html\n",
      "Please also refer to the documentation for alternative solver options:\n",
      "    https://scikit-learn.org/stable/modules/linear_model.html#logistic-regression\n",
      "  n_iter_i = _check_optimize_result(\n"
     ]
    }
   ],
   "source": [
    "test2 = test.drop('ST', axis=1)\n",
    "_ = model.print_model_metrics(train_states, test2)"
   ],
   "metadata": {
    "collapsed": false
   }
  },
  {
   "cell_type": "code",
   "execution_count": 17,
   "outputs": [],
   "source": [
    "import pickle\n",
    "\n",
    "l_model = pickle.load(open(\"lr_selected.pkl\", \"rb\"))"
   ],
   "metadata": {
    "collapsed": false
   }
  },
  {
   "cell_type": "code",
   "execution_count": 18,
   "outputs": [],
   "source": [
    "states_result_dfs = list()\n",
    "\n",
    "for state in states_2:\n",
    "    res = model.print_loaded_model_metrics(test, l_model, state)\n",
    "    states_result_dfs.append(res)"
   ],
   "metadata": {
    "collapsed": false
   }
  },
  {
   "cell_type": "code",
   "execution_count": 19,
   "outputs": [],
   "source": [
    "pd.concat(states_result_dfs).to_excel(f\"{bias_type}_c_new3.xlsx\", index=False)"
   ],
   "metadata": {
    "collapsed": false
   }
  },
  {
   "cell_type": "code",
   "execution_count": 10,
   "outputs": [],
   "source": [],
   "metadata": {
    "collapsed": false
   }
  }
 ],
 "metadata": {
  "kernelspec": {
   "display_name": "Python 3",
   "language": "python",
   "name": "python3"
  },
  "language_info": {
   "codemirror_mode": {
    "name": "ipython",
    "version": 2
   },
   "file_extension": ".py",
   "mimetype": "text/x-python",
   "name": "python",
   "nbconvert_exporter": "python",
   "pygments_lexer": "ipython2",
   "version": "2.7.6"
  }
 },
 "nbformat": 4,
 "nbformat_minor": 0
}
