{
 "cells": [
  {
   "cell_type": "code",
   "execution_count": 1,
   "outputs": [],
   "source": [
    "import warnings\n",
    "\n",
    "import pandas as pd\n",
    "\n",
    "warnings.filterwarnings('ignore')"
   ],
   "metadata": {
    "collapsed": false,
    "ExecuteTime": {
     "end_time": "2023-12-02T13:16:13.788895Z",
     "start_time": "2023-12-02T13:16:11.670641Z"
    }
   },
   "id": "58d6ef1759cd1f55"
  },
  {
   "cell_type": "code",
   "execution_count": 2,
   "outputs": [],
   "source": [
    "from fairfl.model.preprocess import ACSIncomePreprocess\n",
    "preprocess = ACSIncomePreprocess()"
   ],
   "metadata": {
    "collapsed": false,
    "ExecuteTime": {
     "end_time": "2023-12-02T13:16:15.754986Z",
     "start_time": "2023-12-02T13:16:13.784204Z"
    }
   },
   "id": "8a7bc23c56fad91c"
  },
  {
   "cell_type": "code",
   "execution_count": 3,
   "outputs": [],
   "source": [
    "train = pd.read_csv(\"../dataset/train.csv\").reset_index(drop=True)\n",
    "test = pd.read_csv(\"../dataset/test.csv\").reset_index(drop=True)"
   ],
   "metadata": {
    "collapsed": false,
    "ExecuteTime": {
     "end_time": "2023-12-02T13:16:18.929622Z",
     "start_time": "2023-12-02T13:16:15.753708Z"
    }
   },
   "id": "81718109f38d2de4"
  },
  {
   "cell_type": "code",
   "execution_count": 4,
   "outputs": [],
   "source": [
    "train = preprocess.preprocess(train, one_hot=False)\n",
    "test = preprocess.preprocess(test, one_hot=False)"
   ],
   "metadata": {
    "collapsed": false,
    "ExecuteTime": {
     "end_time": "2023-12-02T13:16:21.830194Z",
     "start_time": "2023-12-02T13:16:18.928835Z"
    }
   },
   "id": "97bce12015039deb"
  },
  {
   "cell_type": "code",
   "execution_count": 5,
   "outputs": [
    {
     "data": {
      "text/plain": "   AGEP  COW  SCHL  MAR    OCCP   POBP  RELP  WKHP  SEX  RAC1P    ST  PINCP\n0   0.0  1.0   1.0    2  9620.0   39.0   2.0   1.0    1      1  39.0      0\n1   1.0  1.0   7.0    1  2310.0   18.0   1.0   2.0    0      1  26.0      0\n2   2.0  1.0   2.0    1  4700.0   36.0   1.0   2.0    1      1  36.0      1\n3   1.0  1.0   6.0    1  2710.0   33.0   1.0   1.0    1      1  13.0      1\n4   1.0  2.0   2.0    2  3255.0  333.0  17.0   1.0    0      0  12.0      0",
      "text/html": "<div>\n<style scoped>\n    .dataframe tbody tr th:only-of-type {\n        vertical-align: middle;\n    }\n\n    .dataframe tbody tr th {\n        vertical-align: top;\n    }\n\n    .dataframe thead th {\n        text-align: right;\n    }\n</style>\n<table border=\"1\" class=\"dataframe\">\n  <thead>\n    <tr style=\"text-align: right;\">\n      <th></th>\n      <th>AGEP</th>\n      <th>COW</th>\n      <th>SCHL</th>\n      <th>MAR</th>\n      <th>OCCP</th>\n      <th>POBP</th>\n      <th>RELP</th>\n      <th>WKHP</th>\n      <th>SEX</th>\n      <th>RAC1P</th>\n      <th>ST</th>\n      <th>PINCP</th>\n    </tr>\n  </thead>\n  <tbody>\n    <tr>\n      <th>0</th>\n      <td>0.0</td>\n      <td>1.0</td>\n      <td>1.0</td>\n      <td>2</td>\n      <td>9620.0</td>\n      <td>39.0</td>\n      <td>2.0</td>\n      <td>1.0</td>\n      <td>1</td>\n      <td>1</td>\n      <td>39.0</td>\n      <td>0</td>\n    </tr>\n    <tr>\n      <th>1</th>\n      <td>1.0</td>\n      <td>1.0</td>\n      <td>7.0</td>\n      <td>1</td>\n      <td>2310.0</td>\n      <td>18.0</td>\n      <td>1.0</td>\n      <td>2.0</td>\n      <td>0</td>\n      <td>1</td>\n      <td>26.0</td>\n      <td>0</td>\n    </tr>\n    <tr>\n      <th>2</th>\n      <td>2.0</td>\n      <td>1.0</td>\n      <td>2.0</td>\n      <td>1</td>\n      <td>4700.0</td>\n      <td>36.0</td>\n      <td>1.0</td>\n      <td>2.0</td>\n      <td>1</td>\n      <td>1</td>\n      <td>36.0</td>\n      <td>1</td>\n    </tr>\n    <tr>\n      <th>3</th>\n      <td>1.0</td>\n      <td>1.0</td>\n      <td>6.0</td>\n      <td>1</td>\n      <td>2710.0</td>\n      <td>33.0</td>\n      <td>1.0</td>\n      <td>1.0</td>\n      <td>1</td>\n      <td>1</td>\n      <td>13.0</td>\n      <td>1</td>\n    </tr>\n    <tr>\n      <th>4</th>\n      <td>1.0</td>\n      <td>2.0</td>\n      <td>2.0</td>\n      <td>2</td>\n      <td>3255.0</td>\n      <td>333.0</td>\n      <td>17.0</td>\n      <td>1.0</td>\n      <td>0</td>\n      <td>0</td>\n      <td>12.0</td>\n      <td>0</td>\n    </tr>\n  </tbody>\n</table>\n</div>"
     },
     "execution_count": 5,
     "metadata": {},
     "output_type": "execute_result"
    }
   ],
   "source": [
    "train.head()"
   ],
   "metadata": {
    "collapsed": false,
    "ExecuteTime": {
     "end_time": "2023-12-02T13:16:21.879399Z",
     "start_time": "2023-12-02T13:16:21.828570Z"
    }
   },
   "id": "e9ea78702a3a565d"
  },
  {
   "cell_type": "code",
   "execution_count": 6,
   "outputs": [],
   "source": [
    "train.to_csv(\"../dataset/train_preprocessed_label.csv\", index=False)\n",
    "test.to_csv(\"../dataset/test_preprocessed_label.csv\", index=False)"
   ],
   "metadata": {
    "collapsed": false,
    "ExecuteTime": {
     "end_time": "2023-12-02T13:16:38.526592Z",
     "start_time": "2023-12-02T13:16:30.921653Z"
    }
   },
   "id": "b1a43b5d16e1df04"
  },
  {
   "cell_type": "code",
   "execution_count": 7,
   "outputs": [
    {
     "data": {
      "text/plain": "12"
     },
     "execution_count": 7,
     "metadata": {},
     "output_type": "execute_result"
    }
   ],
   "source": [
    "len(train.columns)"
   ],
   "metadata": {
    "collapsed": false,
    "ExecuteTime": {
     "end_time": "2023-12-02T13:17:09.962692Z",
     "start_time": "2023-12-02T13:17:09.946410Z"
    }
   },
   "id": "f8b3ca4e34f662b2"
  },
  {
   "cell_type": "code",
   "execution_count": 7,
   "outputs": [
    {
     "data": {
      "text/plain": "        AGEP  SCHL   POBP  WKHP  RAC1P    ST  PINCP  COW_1.0  COW_2.0  \\\n0        1.0   3.0   37.0   2.0      1  17.0      0      1.0      0.0   \n1        2.0   3.0   36.0   1.0      0   9.0      0      0.0      0.0   \n2        0.0   6.0   36.0   1.0      1  17.0      1      1.0      0.0   \n3        1.0   6.0   17.0   2.0      1  17.0      1      1.0      0.0   \n4        1.0   9.0   34.0   1.0      1   9.0      1      1.0      0.0   \n...      ...   ...    ...   ...    ...   ...    ...      ...      ...   \n499345   1.0   7.0   13.0   1.0      1  12.0      1      1.0      0.0   \n499346   2.0   1.0   24.0   1.0      1  24.0      0      0.0      0.0   \n499347   3.0   1.0   36.0   0.0      1  36.0      0      0.0      0.0   \n499348   2.0   7.0  240.0   1.0      1  36.0      1      1.0      0.0   \n499349   1.0   6.0   42.0   2.0      1  34.0      1      1.0      0.0   \n\n        COW_3.0  ...  RELP_10.0  RELP_11.0  RELP_12.0  RELP_13.0  RELP_14.0  \\\n0           0.0  ...        0.0        0.0        0.0        1.0        0.0   \n1           0.0  ...        0.0        0.0        0.0        0.0        0.0   \n2           0.0  ...        0.0        0.0        0.0        0.0        0.0   \n3           0.0  ...        0.0        0.0        0.0        0.0        0.0   \n4           0.0  ...        0.0        0.0        0.0        0.0        0.0   \n...         ...  ...        ...        ...        ...        ...        ...   \n499345      0.0  ...        0.0        0.0        0.0        0.0        0.0   \n499346      0.0  ...        0.0        0.0        0.0        0.0        0.0   \n499347      1.0  ...        0.0        0.0        0.0        0.0        0.0   \n499348      0.0  ...        0.0        0.0        0.0        0.0        0.0   \n499349      0.0  ...        0.0        0.0        0.0        0.0        0.0   \n\n        RELP_15.0  RELP_16.0  RELP_17.0  SEX_Female  SEX_Male  \n0             0.0        0.0        0.0         1.0       0.0  \n1             0.0        0.0        0.0         0.0       1.0  \n2             0.0        0.0        0.0         0.0       1.0  \n3             0.0        0.0        0.0         1.0       0.0  \n4             0.0        0.0        0.0         1.0       0.0  \n...           ...        ...        ...         ...       ...  \n499345        0.0        0.0        0.0         1.0       0.0  \n499346        0.0        1.0        0.0         0.0       1.0  \n499347        0.0        0.0        0.0         1.0       0.0  \n499348        0.0        0.0        0.0         0.0       1.0  \n499349        0.0        0.0        0.0         1.0       0.0  \n\n[499350 rows x 569 columns]",
      "text/html": "<div>\n<style scoped>\n    .dataframe tbody tr th:only-of-type {\n        vertical-align: middle;\n    }\n\n    .dataframe tbody tr th {\n        vertical-align: top;\n    }\n\n    .dataframe thead th {\n        text-align: right;\n    }\n</style>\n<table border=\"1\" class=\"dataframe\">\n  <thead>\n    <tr style=\"text-align: right;\">\n      <th></th>\n      <th>AGEP</th>\n      <th>SCHL</th>\n      <th>POBP</th>\n      <th>WKHP</th>\n      <th>RAC1P</th>\n      <th>ST</th>\n      <th>PINCP</th>\n      <th>COW_1.0</th>\n      <th>COW_2.0</th>\n      <th>COW_3.0</th>\n      <th>...</th>\n      <th>RELP_10.0</th>\n      <th>RELP_11.0</th>\n      <th>RELP_12.0</th>\n      <th>RELP_13.0</th>\n      <th>RELP_14.0</th>\n      <th>RELP_15.0</th>\n      <th>RELP_16.0</th>\n      <th>RELP_17.0</th>\n      <th>SEX_Female</th>\n      <th>SEX_Male</th>\n    </tr>\n  </thead>\n  <tbody>\n    <tr>\n      <th>0</th>\n      <td>1.0</td>\n      <td>3.0</td>\n      <td>37.0</td>\n      <td>2.0</td>\n      <td>1</td>\n      <td>17.0</td>\n      <td>0</td>\n      <td>1.0</td>\n      <td>0.0</td>\n      <td>0.0</td>\n      <td>...</td>\n      <td>0.0</td>\n      <td>0.0</td>\n      <td>0.0</td>\n      <td>1.0</td>\n      <td>0.0</td>\n      <td>0.0</td>\n      <td>0.0</td>\n      <td>0.0</td>\n      <td>1.0</td>\n      <td>0.0</td>\n    </tr>\n    <tr>\n      <th>1</th>\n      <td>2.0</td>\n      <td>3.0</td>\n      <td>36.0</td>\n      <td>1.0</td>\n      <td>0</td>\n      <td>9.0</td>\n      <td>0</td>\n      <td>0.0</td>\n      <td>0.0</td>\n      <td>0.0</td>\n      <td>...</td>\n      <td>0.0</td>\n      <td>0.0</td>\n      <td>0.0</td>\n      <td>0.0</td>\n      <td>0.0</td>\n      <td>0.0</td>\n      <td>0.0</td>\n      <td>0.0</td>\n      <td>0.0</td>\n      <td>1.0</td>\n    </tr>\n    <tr>\n      <th>2</th>\n      <td>0.0</td>\n      <td>6.0</td>\n      <td>36.0</td>\n      <td>1.0</td>\n      <td>1</td>\n      <td>17.0</td>\n      <td>1</td>\n      <td>1.0</td>\n      <td>0.0</td>\n      <td>0.0</td>\n      <td>...</td>\n      <td>0.0</td>\n      <td>0.0</td>\n      <td>0.0</td>\n      <td>0.0</td>\n      <td>0.0</td>\n      <td>0.0</td>\n      <td>0.0</td>\n      <td>0.0</td>\n      <td>0.0</td>\n      <td>1.0</td>\n    </tr>\n    <tr>\n      <th>3</th>\n      <td>1.0</td>\n      <td>6.0</td>\n      <td>17.0</td>\n      <td>2.0</td>\n      <td>1</td>\n      <td>17.0</td>\n      <td>1</td>\n      <td>1.0</td>\n      <td>0.0</td>\n      <td>0.0</td>\n      <td>...</td>\n      <td>0.0</td>\n      <td>0.0</td>\n      <td>0.0</td>\n      <td>0.0</td>\n      <td>0.0</td>\n      <td>0.0</td>\n      <td>0.0</td>\n      <td>0.0</td>\n      <td>1.0</td>\n      <td>0.0</td>\n    </tr>\n    <tr>\n      <th>4</th>\n      <td>1.0</td>\n      <td>9.0</td>\n      <td>34.0</td>\n      <td>1.0</td>\n      <td>1</td>\n      <td>9.0</td>\n      <td>1</td>\n      <td>1.0</td>\n      <td>0.0</td>\n      <td>0.0</td>\n      <td>...</td>\n      <td>0.0</td>\n      <td>0.0</td>\n      <td>0.0</td>\n      <td>0.0</td>\n      <td>0.0</td>\n      <td>0.0</td>\n      <td>0.0</td>\n      <td>0.0</td>\n      <td>1.0</td>\n      <td>0.0</td>\n    </tr>\n    <tr>\n      <th>...</th>\n      <td>...</td>\n      <td>...</td>\n      <td>...</td>\n      <td>...</td>\n      <td>...</td>\n      <td>...</td>\n      <td>...</td>\n      <td>...</td>\n      <td>...</td>\n      <td>...</td>\n      <td>...</td>\n      <td>...</td>\n      <td>...</td>\n      <td>...</td>\n      <td>...</td>\n      <td>...</td>\n      <td>...</td>\n      <td>...</td>\n      <td>...</td>\n      <td>...</td>\n      <td>...</td>\n    </tr>\n    <tr>\n      <th>499345</th>\n      <td>1.0</td>\n      <td>7.0</td>\n      <td>13.0</td>\n      <td>1.0</td>\n      <td>1</td>\n      <td>12.0</td>\n      <td>1</td>\n      <td>1.0</td>\n      <td>0.0</td>\n      <td>0.0</td>\n      <td>...</td>\n      <td>0.0</td>\n      <td>0.0</td>\n      <td>0.0</td>\n      <td>0.0</td>\n      <td>0.0</td>\n      <td>0.0</td>\n      <td>0.0</td>\n      <td>0.0</td>\n      <td>1.0</td>\n      <td>0.0</td>\n    </tr>\n    <tr>\n      <th>499346</th>\n      <td>2.0</td>\n      <td>1.0</td>\n      <td>24.0</td>\n      <td>1.0</td>\n      <td>1</td>\n      <td>24.0</td>\n      <td>0</td>\n      <td>0.0</td>\n      <td>0.0</td>\n      <td>0.0</td>\n      <td>...</td>\n      <td>0.0</td>\n      <td>0.0</td>\n      <td>0.0</td>\n      <td>0.0</td>\n      <td>0.0</td>\n      <td>0.0</td>\n      <td>1.0</td>\n      <td>0.0</td>\n      <td>0.0</td>\n      <td>1.0</td>\n    </tr>\n    <tr>\n      <th>499347</th>\n      <td>3.0</td>\n      <td>1.0</td>\n      <td>36.0</td>\n      <td>0.0</td>\n      <td>1</td>\n      <td>36.0</td>\n      <td>0</td>\n      <td>0.0</td>\n      <td>0.0</td>\n      <td>1.0</td>\n      <td>...</td>\n      <td>0.0</td>\n      <td>0.0</td>\n      <td>0.0</td>\n      <td>0.0</td>\n      <td>0.0</td>\n      <td>0.0</td>\n      <td>0.0</td>\n      <td>0.0</td>\n      <td>1.0</td>\n      <td>0.0</td>\n    </tr>\n    <tr>\n      <th>499348</th>\n      <td>2.0</td>\n      <td>7.0</td>\n      <td>240.0</td>\n      <td>1.0</td>\n      <td>1</td>\n      <td>36.0</td>\n      <td>1</td>\n      <td>1.0</td>\n      <td>0.0</td>\n      <td>0.0</td>\n      <td>...</td>\n      <td>0.0</td>\n      <td>0.0</td>\n      <td>0.0</td>\n      <td>0.0</td>\n      <td>0.0</td>\n      <td>0.0</td>\n      <td>0.0</td>\n      <td>0.0</td>\n      <td>0.0</td>\n      <td>1.0</td>\n    </tr>\n    <tr>\n      <th>499349</th>\n      <td>1.0</td>\n      <td>6.0</td>\n      <td>42.0</td>\n      <td>2.0</td>\n      <td>1</td>\n      <td>34.0</td>\n      <td>1</td>\n      <td>1.0</td>\n      <td>0.0</td>\n      <td>0.0</td>\n      <td>...</td>\n      <td>0.0</td>\n      <td>0.0</td>\n      <td>0.0</td>\n      <td>0.0</td>\n      <td>0.0</td>\n      <td>0.0</td>\n      <td>0.0</td>\n      <td>0.0</td>\n      <td>1.0</td>\n      <td>0.0</td>\n    </tr>\n  </tbody>\n</table>\n<p>499350 rows × 569 columns</p>\n</div>"
     },
     "execution_count": 7,
     "metadata": {},
     "output_type": "execute_result"
    }
   ],
   "source": [
    "df = pd.read_csv(\"../dataset/test_preprocessed.csv\")\n",
    "df"
   ],
   "metadata": {
    "collapsed": false,
    "ExecuteTime": {
     "end_time": "2023-12-02T11:31:53.279988Z",
     "start_time": "2023-12-02T11:31:33.245301Z"
    }
   },
   "id": "1c538047ecf29185"
  },
  {
   "cell_type": "code",
   "execution_count": 7,
   "outputs": [],
   "source": [],
   "metadata": {
    "collapsed": false,
    "ExecuteTime": {
     "end_time": "2023-12-02T11:31:53.280425Z",
     "start_time": "2023-12-02T11:31:53.278942Z"
    }
   },
   "id": "e1cfd678c17065fa"
  }
 ],
 "metadata": {
  "kernelspec": {
   "display_name": "Python 3",
   "language": "python",
   "name": "python3"
  },
  "language_info": {
   "codemirror_mode": {
    "name": "ipython",
    "version": 2
   },
   "file_extension": ".py",
   "mimetype": "text/x-python",
   "name": "python",
   "nbconvert_exporter": "python",
   "pygments_lexer": "ipython2",
   "version": "2.7.6"
  }
 },
 "nbformat": 4,
 "nbformat_minor": 5
}
